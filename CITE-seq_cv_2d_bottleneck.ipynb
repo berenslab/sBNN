{
 "cells": [
  {
   "cell_type": "markdown",
   "metadata": {},
   "source": [
    "# Cross-validation of models for Stoeckius et al."
   ]
  },
  {
   "cell_type": "code",
   "execution_count": 1,
   "metadata": {},
   "outputs": [],
   "source": [
    "# Import packages\n",
    "import numpy as np\n",
    "import tensorflow as tf\n",
    "import pandas as pd\n",
    "import matplotlib\n",
    "import seaborn as sns\n",
    "import sparseRRR\n",
    "import matplotlib\n",
    "import matplotlib.pyplot as plt\n",
    "import importlib\n",
    "\n",
    "import bottleneck_networks_tf2\n",
    "\n",
    "import time\n",
    "import pickle\n",
    "import warnings\n",
    "\n",
    "dtype = tf.float32\n",
    "\n",
    "def sns_styleset():\n",
    "    sns.set_style('ticks', {'axes.linewidth': .75, \"xtick.major.size\":4, \"ytick.major.size\":4})"
   ]
  },
  {
   "cell_type": "markdown",
   "metadata": {},
   "source": [
    "# Loading data"
   ]
  },
  {
   "cell_type": "code",
   "execution_count": 2,
   "metadata": {},
   "outputs": [],
   "source": [
    "stoeckius = pickle.load(open('data/stoeckius_2017/stoeckius_2017.pickle', 'rb'))\n",
    "genes=stoeckius['X']\n",
    "adt=stoeckius['Y']\n",
    "gene_names=stoeckius['gene_names']\n",
    "adt_names=stoeckius['adt_features']\n",
    "cell_types=stoeckius['celltypes']"
   ]
  },
  {
   "cell_type": "markdown",
   "metadata": {},
   "source": [
    "Let us find K-mean clusters to perform pre-training. One could also pre-train on celltype classification. This has actually improved performance even more but could be argued to be biasing the results too much. K-means allows for an unsupervised more general setting."
   ]
  },
  {
   "cell_type": "code",
   "execution_count": 3,
   "metadata": {},
   "outputs": [],
   "source": [
    "# You can cluster according to amounts of classes or amounts of celltypes. Change the argument of n_clusters accordingly.\n",
    "from sklearn.cluster import KMeans\n",
    "kmeans = KMeans(n_clusters=20, random_state=17, n_init=1000).fit(adt)"
   ]
  },
  {
   "cell_type": "code",
   "execution_count": 4,
   "metadata": {},
   "outputs": [],
   "source": [
    "clusters = kmeans.labels_"
   ]
  },
  {
   "cell_type": "code",
   "execution_count": 5,
   "metadata": {},
   "outputs": [],
   "source": [
    "amount_of_cells_in_clusters = {cluster_id: sum(clusters==cluster_id) for cluster_id in np.unique(clusters)}\n",
    "for_every_cell_number_of_cells_of_their_cluster = np.array([amount_of_cells_in_clusters[cell] for cell in clusters])\n",
    "ind_pre_training_clusters = for_every_cell_number_of_cells_of_their_cluster >= 10"
   ]
  },
  {
   "cell_type": "code",
   "execution_count": 6,
   "metadata": {},
   "outputs": [
    {
     "name": "stdout",
     "output_type": "stream",
     "text": [
      "cluster  0 represented by 681  cells.\n",
      "cluster  1 represented by 1716  cells.\n",
      "cluster  2 represented by 26  cells.\n",
      "cluster  3 represented by 1227  cells.\n",
      "cluster  4 represented by 446  cells.\n",
      "cluster  5 represented by 329  cells.\n",
      "cluster  6 represented by 254  cells.\n",
      "cluster  7 represented by 1089  cells.\n",
      "cluster  8 represented by 2  cells.\n",
      "cluster  9 represented by 2  cells.\n",
      "cluster  10 represented by 116  cells.\n",
      "cluster  11 represented by 979  cells.\n",
      "cluster  12 represented by 5  cells.\n",
      "cluster  13 represented by 15  cells.\n",
      "cluster  14 represented by 2  cells.\n",
      "cluster  15 represented by 258  cells.\n",
      "cluster  16 represented by 61  cells.\n",
      "cluster  17 represented by 134  cells.\n",
      "cluster  18 represented by 82  cells.\n",
      "cluster  19 represented by 228  cells.\n",
      "average # of cells per cluster:  382.6\n",
      "std of # of cells per cluster:  482.89071227349154\n"
     ]
    }
   ],
   "source": [
    "c_n=[]\n",
    "for i in np.unique(clusters):\n",
    "    print('cluster ', i, 'represented by', sum(clusters==i), ' cells.')\n",
    "    c_n.append(sum(clusters==i))\n",
    "print('average # of cells per cluster: ', np.mean(np.array(c_n)))\n",
    "print('std of # of cells per cluster: ', np.std(np.array(c_n)))"
   ]
  },
  {
   "cell_type": "markdown",
   "metadata": {},
   "source": [
    "# Keras initialisations"
   ]
  },
  {
   "cell_type": "code",
   "execution_count": 7,
   "metadata": {},
   "outputs": [],
   "source": [
    "from tensorflow import keras\n",
    "from tensorflow.keras.datasets import mnist\n",
    "from tensorflow.keras.models import Sequential, Model\n",
    "from tensorflow.keras.layers import Dense\n",
    "from tensorflow.keras.optimizers import Adam\n",
    "from tensorflow.keras import regularizers\n",
    "from tensorflow.keras.wrappers.scikit_learn import KerasClassifier\n",
    "from tensorflow.keras.utils import to_categorical\n",
    "from tensorflow.keras import metrics\n",
    "from tensorflow.keras.losses import CategoricalCrossentropy"
   ]
  },
  {
   "cell_type": "code",
   "execution_count": 8,
   "metadata": {},
   "outputs": [],
   "source": [
    "from tensorflow.keras.callbacks import EarlyStopping\n",
    "from tensorflow.keras.callbacks import ModelCheckpoint\n",
    "from tensorflow.keras.models import load_model\n",
    "import tensorflow.keras.backend as K"
   ]
  },
  {
   "cell_type": "code",
   "execution_count": 9,
   "metadata": {},
   "outputs": [],
   "source": [
    "tf.compat.v1.disable_eager_execution()"
   ]
  },
  {
   "cell_type": "code",
   "execution_count": 10,
   "metadata": {},
   "outputs": [],
   "source": [
    "# You should assume you get two TensorFlow variables as input\n",
    "y_actual = tf.compat.v1.placeholder(dtype = tf.float32)\n",
    "y_predicted = tf.compat.v1.placeholder(dtype = tf.float32)\n",
    "def r2_score(y_truth, y_pred):\n",
    "    residual = tf.add(y_truth, -y_pred, name='residual')\n",
    "    return 1-tf.reduce_sum(input_tensor=tf.square(residual)) / tf.reduce_sum(input_tensor=tf.square(y_truth))\n",
    "r2_score_result = r2_score(y_actual, y_predicted)"
   ]
  },
  {
   "cell_type": "code",
   "execution_count": 11,
   "metadata": {},
   "outputs": [],
   "source": [
    "class ElasticNet(tf.keras.regularizers.Regularizer): \n",
    "    def __init__(self, l1=1e-8, l2=1.0): \n",
    "        self.l1 = l1\n",
    "        self.l2 = l2\n",
    "\n",
    "    def __call__(self, x): \n",
    "        return self.l2*tf.math.reduce_sum(input_tensor=tf.math.square(x)) + \\\n",
    "                             self.l1*tf.reduce_sum(input_tensor=tf.norm(tensor=x, ord = 2, axis = 1))\n",
    "\n",
    "    def get_config(self): \n",
    "        return {'l1': float(self.l1), 'l2': float(self.l2)}"
   ]
  },
  {
   "cell_type": "markdown",
   "metadata": {},
   "source": [
    "# Group lasso sBNNs vs sRRR"
   ]
  },
  {
   "cell_type": "markdown",
   "metadata": {},
   "source": [
    "Group lasso + ridge penalty straight regression (no pre-training) model."
   ]
  },
  {
   "cell_type": "code",
   "execution_count": 12,
   "metadata": {},
   "outputs": [],
   "source": [
    "from bottleneck_networks_tf2 import StraightRegression"
   ]
  },
  {
   "cell_type": "code",
   "execution_count": null,
   "metadata": {},
   "outputs": [
    {
     "name": "stdout",
     "output_type": "stream",
     "text": [
      "\n",
      "CVFOLD:  0\n",
      "WARNING:tensorflow:AutoGraph could not transform <function r2_score at 0x7f7f3c2f8c20> and will run it as-is.\n",
      "Please report this to the TensorFlow team. When filing the bug, set the verbosity to 10 (on Linux, `export AUTOGRAPH_VERBOSITY=10`) and attach the full output.\n",
      "Cause: 'arguments' object has no attribute 'posonlyargs'\n",
      "To silence this warning, decorate the function with @tf.autograph.experimental.do_not_convert\n",
      "WARNING: AutoGraph could not transform <function r2_score at 0x7f7f3c2f8c20> and will run it as-is.\n",
      "Please report this to the TensorFlow team. When filing the bug, set the verbosity to 10 (on Linux, `export AUTOGRAPH_VERBOSITY=10`) and attach the full output.\n",
      "Cause: 'arguments' object has no attribute 'posonlyargs'\n",
      "To silence this warning, decorate the function with @tf.autograph.experimental.do_not_convert\n",
      "[INFO] training network...\n"
     ]
    },
    {
     "name": "stderr",
     "output_type": "stream",
     "text": [
      "/usr/local/lib/python3.7/dist-packages/keras/engine/training_v1.py:2057: UserWarning: `Model.state_updates` will be removed in a future version. This property should not be used in TensorFlow 2.0, as `updates` are applied automatically.\n",
      "  updates = self.state_updates\n",
      "/usr/local/lib/python3.7/dist-packages/keras/engine/training_v1.py:2079: UserWarning: `Model.state_updates` will be removed in a future version. This property should not be used in TensorFlow 2.0, as `updates` are applied automatically.\n",
      "  updates=self.state_updates,\n"
     ]
    },
    {
     "name": "stdout",
     "output_type": "stream",
     "text": [
      "The 25 genes that make it:  ['NPC2' 'CASP1' 'IL2RB' 'HCST' 'PRAM1' 'C1QTNF4' 'PLD4' 'RRM2' 'TCL1A'\n",
      " 'TCF7L2' 'CMC1' 'CDKN1C' 'GZMB' 'LST1' 'CD79A' 'RPS5' 'QPCT' 'LMO2'\n",
      " 'KLRB1' 'CTSW' 'NKG7' 'CD8B' 'GNLY' 'IGHM' 'CD8A']\n",
      "[INFO] training network...\n",
      "Train R^2 before pruning:  0.5251215398311615\n",
      "Test R^2 after pruning:  0.5194999873638153\n",
      "Train R^2 after pruning:  0.47744470834732056\n",
      "Test R^2 after pruning:  0.45528513193130493\n",
      "\n",
      "CVFOLD:  1\n",
      "[INFO] training network...\n",
      "The 25 genes that make it:  ['RBP7' 'IL2RB' 'CCL5' 'ETV6' 'DSCC1' 'LMO2' 'LTB' 'SRGN' 'C1QTNF4' 'RRM2'\n",
      " 'LYZ' 'KLRD1' 'KLRC1' 'QPCT' 'CTSW' 'KLRB1' 'CMC1' 'GZMB' 'RPS5' 'CD79A'\n",
      " 'CD8B' 'NKG7' 'IGHM' 'CD8A' 'GNLY']\n",
      "[INFO] training network...\n",
      "Train R^2 before pruning:  0.5260784924030304\n",
      "Test R^2 after pruning:  0.5048047602176666\n",
      "Train R^2 after pruning:  0.4402294158935547\n",
      "Test R^2 after pruning:  0.4075510501861572\n",
      "\n",
      "CVFOLD:  2\n",
      "[INFO] training network...\n",
      "The 25 genes that make it:  ['IGHD' 'CD34' 'CASP1' 'SRGN' 'DSCC1' 'TSC22D3' 'KLRB1' 'MIDN' 'CYBA'\n",
      " 'RRM2' 'LMO2' 'C1QTNF4' 'CD79A' 'QPCT' 'CD8A' 'CMC1' 'CLEC7A' 'TCL1A'\n",
      " 'NKG7' 'RPS5' 'CTSW' 'CD8B' 'HLA-DRA' 'IGHM' 'GNLY']\n",
      "[INFO] training network...\n",
      "Train R^2 before pruning:  0.4802209138870239\n",
      "Test R^2 after pruning:  0.37794482707977295\n",
      "Train R^2 after pruning:  0.47504371404647827\n",
      "Test R^2 after pruning:  0.3464754819869995\n",
      "\n",
      "CVFOLD:  3\n",
      "[INFO] training network...\n",
      "The 25 genes that make it:  ['TSC22D3' 'TNFRSF1B' 'RPS5' 'TAL1' 'RRM2' 'LY96' 'FSCN1' 'S100A12' 'LMO2'\n",
      " 'KLRB1' 'IL2RB' 'KLRC1' 'DSCC1' 'LYZ' 'QPCT' 'HLA-DRA' 'SLC4A1' 'CMC1'\n",
      " 'CD79A' 'CD8A' 'CTSW' 'CD8B' 'NKG7' 'IGHM' 'GNLY']\n",
      "[INFO] training network...\n",
      "Train R^2 before pruning:  0.5428865551948547\n",
      "Test R^2 after pruning:  0.4754400849342346\n",
      "Train R^2 after pruning:  0.4649040102958679\n",
      "Test R^2 after pruning:  0.4513317942619324\n",
      "\n",
      "CVFOLD:  4\n",
      "[INFO] training network...\n"
     ]
    }
   ],
   "source": [
    "# Settings\n",
    "l2_params = np.logspace(-10, -10, num=1)\n",
    "l1_params = np.array([1e-2])\n",
    "\n",
    "act = 'elu'\n",
    "folds = 10\n",
    "seed = 42\n",
    "lr=0.0001\n",
    "epochs=50\n",
    "bs=32\n",
    "prune=True\n",
    "patience=epochs\n",
    "\n",
    "r2_straight_regr = np.zeros((folds, l1_params.shape[0], l2_params.shape[0]))\n",
    "r2_straight_regr_tr = np.zeros((folds, l1_params.shape[0], l2_params.shape[0]))\n",
    "r2_straight_regr_ap = np.zeros((folds, l1_params.shape[0], l2_params.shape[0]))\n",
    "r2_straight_regr_ap_tr = np.zeros((folds, l1_params.shape[0], l2_params.shape[0]))\n",
    "r2_straight_regr_hist = np.zeros((folds, l1_params.shape[0], l2_params.shape[0], 4*epochs))\n",
    "r2_straight_regr_hist_tr = np.zeros((folds, l1_params.shape[0], l2_params.shape[0], 4*epochs))\n",
    "\n",
    "t = time.time()\n",
    "np.random.seed(seed)\n",
    "n = genes.shape[0]\n",
    "ind = np.random.permutation(n)\n",
    "X = genes[ind,:]\n",
    "Y = adt[ind,:]\n",
    "\n",
    "nodes_list=[512,128,2,128,512]\n",
    "\n",
    "# CV folds\n",
    "for cvfold in range(folds):\n",
    "    print('\\nCVFOLD: ', cvfold)\n",
    "    indtest  = np.arange(cvfold*int(n/folds), (cvfold+1)*int(n/folds))\n",
    "    indtrain = np.setdiff1d(np.arange(n), indtest)\n",
    "    x_train = np.copy(X[indtrain,:])\n",
    "    y_train = np.copy(Y[indtrain,:])\n",
    "    x_test = np.copy(X[indtest,:])\n",
    "    y_test = np.copy(Y[indtest,:])\n",
    "\n",
    "    # Mean centering (like sRRR)\n",
    "    X_mean = np.mean(x_train, axis=0)\n",
    "    x_train -= X_mean\n",
    "    x_test -= X_mean\n",
    "    Y_mean = np.mean(y_train, axis=0)\n",
    "    y_train -= Y_mean\n",
    "    y_test -= Y_mean\n",
    "    \n",
    "    input_dim = x_train.shape[1]\n",
    "    output_dim = y_train.shape[1]\n",
    "    \n",
    "    for i, l2 in enumerate(l2_params):\n",
    "        #print('Ridge penalty: ', l2)\n",
    "        for j, l1 in enumerate(l1_params):\n",
    "            #print('Lasso penalty: ', l1)\n",
    "            BN_StraightRegression = StraightRegression(l1=l1, l2=l2, lr=lr, act=act, \\\n",
    "                                                       input_dim=input_dim, output_dim=output_dim, nodes_list=nodes_list)\n",
    "            r2_train, r2_test, \\\n",
    "                r2_ap_train, r2_ap_test, \\\n",
    "                train_hist, test_hist = BN_StraightRegression.train(x_train=x_train, y_train=y_train, \\\n",
    "                                                                                   x_test=x_test, y_test=y_test, \\\n",
    "                                                                                   epochs=epochs, bs=bs, patience=patience, \\\n",
    "                                                                                   cvfold_id=cvfold, l1_id=j, l2_id=i, \\\n",
    "                                                                                   prune=prune, geneNames=gene_names, \\\n",
    "                                                                                   verbose=0)\n",
    "            r2_straight_regr[cvfold, j, i] = r2_test\n",
    "            r2_straight_regr_tr[cvfold, j, i] = r2_train\n",
    "            r2_straight_regr_ap[cvfold, j, i] = r2_ap_test\n",
    "            r2_straight_regr_ap_tr[cvfold, j, i] = r2_ap_train\n",
    "            r2_straight_regr_hist[cvfold, j, i] = test_hist\n",
    "            r2_straight_regr_hist_tr[cvfold, j, i] = train_hist\n",
    "            #print('Test R^2 score (straight regression, no pre-tr): ', r2_straight_regr[cvfold, j, i])\n",
    "            #print('Test R^2 score after pruning (straight regression, no pre-tr): ', r2_straight_regr_ap[cvfold, j, i])\n",
    "\n",
    "t = time.time() - t\n",
    "m,s = divmod(t, 60)\n",
    "h,m = divmod(m, 60)\n",
    "print('Time: {}h {:2.0f}m {:2.0f}s'.format(h,m,s))"
   ]
  },
  {
   "cell_type": "code",
   "execution_count": null,
   "metadata": {},
   "outputs": [],
   "source": [
    "with open('KerasSavedModels/stoeckius_2017_tf2/Bottleneck_r2_straight_regr_lasso.pickle', 'wb') as f:\n",
    "    pickle.dump([r2_straight_regr, r2_straight_regr_tr, \\\n",
    "                 r2_straight_regr_ap, r2_straight_regr_ap_tr, \\\n",
    "                 r2_straight_regr_hist, r2_straight_regr_hist_tr], f)"
   ]
  },
  {
   "cell_type": "markdown",
   "metadata": {},
   "source": [
    "Group lasso + ridge penalty classification pre-training model."
   ]
  },
  {
   "cell_type": "code",
   "execution_count": null,
   "metadata": {},
   "outputs": [],
   "source": [
    "from bottleneck_networks_tf2 import ClassificationPreTrain"
   ]
  },
  {
   "cell_type": "code",
   "execution_count": null,
   "metadata": {},
   "outputs": [],
   "source": [
    "l2_params = np.logspace(-10, -10, num=1)\n",
    "l1_params = np.array([1e-4, 1e-2, 1e-1, 1])\n",
    "\n",
    "act = 'elu'\n",
    "folds = 10\n",
    "seed = 42\n",
    "lr=0.0001\n",
    "epochs=50\n",
    "bs=32\n",
    "patience=epochs\n",
    "\n",
    "\n",
    "t = time.time()\n",
    "np.random.seed(seed)\n",
    "n = genes.shape[0]\n",
    "ind = np.random.permutation(n)\n",
    "X = genes[ind,:]\n",
    "Y = adt[ind,:]\n",
    "clusters_ = clusters[ind]\n",
    "ind_pre_train = ind_pre_training_clusters[ind]\n",
    "\n",
    "CE_loss = np.zeros((folds, l1_params.shape[0], l2_params.shape[0]))\n",
    "CE_loss_tr = np.zeros((folds, l1_params.shape[0], l2_params.shape[0]))\n",
    "pre_tr_hist = np.zeros((folds, l1_params.shape[0], l2_params.shape[0], epochs))\n",
    "pre_tr_hist_tr = np.zeros((folds, l1_params.shape[0], l2_params.shape[0], epochs))\n",
    "\n",
    "nodes_list=[512,128,2,128,512]\n",
    "\n",
    "# CV folds\n",
    "for cvfold in range(folds):\n",
    "    print('\\nCVFOLD: ', cvfold)\n",
    "    indtest  = np.arange(cvfold*int(n/folds), (cvfold+1)*int(n/folds))\n",
    "    indtrain = np.setdiff1d(np.arange(n), indtest)\n",
    "    x_train = np.copy(X[indtrain,:])\n",
    "    clusters_train = np.copy(clusters_[indtrain])\n",
    "    y_train = np.copy(Y[indtrain,:])\n",
    "    x_test = np.copy(X[indtest,:])\n",
    "    clusters_test = np.copy(clusters_[indtest])\n",
    "    y_test = np.copy(Y[indtest,:])\n",
    "\n",
    "    # Mean centering (like sRRR)\n",
    "    X_mean = np.mean(x_train, axis=0)\n",
    "    x_train -= X_mean\n",
    "    x_test -= X_mean\n",
    "    Y_mean = np.mean(y_train, axis=0)\n",
    "    y_train -= Y_mean\n",
    "    y_test -= Y_mean\n",
    "\n",
    "    # In our training set we now look for a 'pretraining' training and test data set that we can use\n",
    "    # for pretraing a classification network, i.e. picking the best model will be dones with a seperate val set in our\n",
    "    # training set for regression.\n",
    "\n",
    "    x_train_pre_tr = x_train[ind_pre_train[indtrain], :]\n",
    "    clusters_train_pre_tr = clusters_train[ind_pre_train[indtrain]]\n",
    "    \n",
    "    pre_train_size = 0.6\n",
    "    train_cnt = round(x_train_pre_tr.shape[0]*pre_train_size)\n",
    "    x_train_pre_tr_ = x_train_pre_tr[:train_cnt, :]\n",
    "    x_test_pre_tr_ = x_train_pre_tr[train_cnt:, :]\n",
    "    clusters_train_pre_tr_ = clusters_train_pre_tr[:train_cnt]\n",
    "    clusters_test_pre_tr_ = clusters_train_pre_tr[train_cnt:]\n",
    "    \n",
    "    for i, l2 in enumerate(l2_params):\n",
    "        #print('Ridge penalty: ', l2)\n",
    "        for j, l1 in enumerate(l1_params):\n",
    "            #print('Lasso penalty: ', l1)\n",
    "\n",
    "\n",
    "            input_dim = x_train.shape[1]\n",
    "            output_dim = to_categorical(clusters_train_pre_tr).shape[1]\n",
    "            BN_Classification = ClassificationPreTrain(l1=l1, l2=l2, lr=lr, act=act, input_dim=input_dim, \\\n",
    "                                                       output_dim=output_dim, nodes_list=nodes_list)\n",
    "            CE_train, CE_test, train_hist, test_hist = BN_Classification.train(x_train=x_train_pre_tr_, \\\n",
    "                                                                               cluster_train=clusters_train_pre_tr_, \\\n",
    "                                                                               x_test=x_test_pre_tr_, \\\n",
    "                                                                               cluster_test=clusters_test_pre_tr_, \\\n",
    "                                                                               epochs=epochs, bs=bs, patience=patience, \\\n",
    "                                                                               cvfold_id=cvfold, l1_id=j, l2_id=i, \\\n",
    "                                                                               verbose=0)\n",
    "            CE_loss[cvfold, j, i] = CE_test\n",
    "            CE_loss_tr[cvfold, j, i] = CE_train\n",
    "            pre_tr_hist[cvfold, j, i] = test_hist\n",
    "            pre_tr_hist_tr[cvfold, j, i] = train_hist\n",
    "            #print('Test CE loss (pre-trainin): ', CE_loss[cvfold, j, i])\n",
    "            \n",
    "t = time.time() - t\n",
    "m,s = divmod(t, 60)\n",
    "h,m = divmod(m, 60)\n",
    "print('Time: {}h {:2.0f}m {:2.0f}s'.format(h,m,s))"
   ]
  },
  {
   "cell_type": "code",
   "execution_count": null,
   "metadata": {},
   "outputs": [],
   "source": [
    "with open('KerasSavedModels/stoeckius_2017_tf2/Bottleneck_pre_tr_lasso.pickle', 'wb') as f:\n",
    "    pickle.dump([CE_loss, CE_loss_tr, pre_tr_hist, pre_tr_hist_tr], f)"
   ]
  },
  {
   "cell_type": "markdown",
   "metadata": {},
   "source": [
    "Group lasso + ridge penalty pre-train and regression model."
   ]
  },
  {
   "cell_type": "code",
   "execution_count": null,
   "metadata": {},
   "outputs": [],
   "source": [
    "# Settings\n",
    "l2_params = np.logspace(-10, -10, num=1)\n",
    "l1_params = np.array([1e-2])\n",
    "\n",
    "act = 'elu'\n",
    "folds = 10\n",
    "seed = 42\n",
    "lr=0.0001\n",
    "epochs=50\n",
    "bs=32\n",
    "patience=epochs\n",
    "pre_trained_weights=True\n",
    "prune=True\n",
    "\n",
    "r2_pretr_straight_regr = np.zeros((folds, l1_params.shape[0], l2_params.shape[0]))\n",
    "r2_pretr_straight_regr_tr = np.zeros((folds, l1_params.shape[0], l2_params.shape[0]))\n",
    "r2_pretr_straight_regr_ap = np.zeros((folds, l1_params.shape[0], l2_params.shape[0]))\n",
    "r2_pretr_straight_regr_ap_tr = np.zeros((folds, l1_params.shape[0], l2_params.shape[0]))\n",
    "r2_pretr_straight_regr_hist = np.zeros((folds, l1_params.shape[0], l2_params.shape[0], 4*epochs))\n",
    "r2_pretr_straight_regr_hist_tr = np.zeros((folds, l1_params.shape[0], l2_params.shape[0], 4*epochs))\n",
    "\n",
    "t = time.time()\n",
    "np.random.seed(seed)\n",
    "n = genes.shape[0]\n",
    "ind = np.random.permutation(n)\n",
    "X = genes[ind,:]\n",
    "Y = adt[ind,:]\n",
    "\n",
    "nodes_list=[512,128,2,128,512]\n",
    "\n",
    "# CV folds\n",
    "for cvfold in range(folds):\n",
    "    print('\\nCVFOLD: ', cvfold)\n",
    "    indtest  = np.arange(cvfold*int(n/folds), (cvfold+1)*int(n/folds))\n",
    "    indtrain = np.setdiff1d(np.arange(n), indtest)\n",
    "    x_train = np.copy(X[indtrain,:])\n",
    "    y_train = np.copy(Y[indtrain,:])\n",
    "    x_test = np.copy(X[indtest,:])\n",
    "    y_test = np.copy(Y[indtest,:])\n",
    "\n",
    "    # Mean centering (like sRRR)\n",
    "    X_mean = np.mean(x_train, axis=0)\n",
    "    x_train -= X_mean\n",
    "    x_test -= X_mean\n",
    "    Y_mean = np.mean(y_train, axis=0)\n",
    "    y_train -= Y_mean\n",
    "    y_test -= Y_mean\n",
    "    \n",
    "    input_dim = x_train.shape[1]\n",
    "    output_dim = y_train.shape[1]\n",
    "    \n",
    "    for i, l2 in enumerate(l2_params):\n",
    "        #print('Ridge penalty: ', l2)\n",
    "        for j, l1 in enumerate(l1_params):\n",
    "            #print('Lasso penalty: ', l1)\n",
    "            \n",
    "            pre_trained_weights_h5 = 'KerasSavedModels/Classification_last_weights_{}_{}_{}.h5'.format(cvfold, 1, i)\n",
    "            \n",
    "            BN_PreTrStraightRegression = StraightRegression(l1=l1, l2=l2, lr=lr, act=act, \\\n",
    "                                            input_dim=input_dim, output_dim=output_dim, \\\n",
    "                                            pre_trained_weights=pre_trained_weights, \\\n",
    "                                            pre_trained_weights_h5=pre_trained_weights_h5, nodes_list=nodes_list)\n",
    "            r2_train, r2_test, \\\n",
    "                r2_train_ap, r2_test_ap, \\\n",
    "                train_hist, test_hist = BN_PreTrStraightRegression.train(x_train=x_train, y_train=y_train, \\\n",
    "                                                                                   x_test=x_test, y_test=y_test, \\\n",
    "                                                                                   epochs=epochs, bs=bs, patience=patience, \\\n",
    "                                                                                   cvfold_id=cvfold, l1_id=j, l2_id=i, \\\n",
    "                                                                                   prune=prune, geneNames=gene_names, \\\n",
    "                                                                                   verbose=0)\n",
    "            r2_pretr_straight_regr[cvfold, j, i] = r2_test\n",
    "            r2_pretr_straight_regr_tr[cvfold, j, i] = r2_train\n",
    "            r2_pretr_straight_regr_ap[cvfold, j, i] = r2_test_ap\n",
    "            r2_pretr_straight_regr_ap_tr[cvfold, j, i] = r2_train_ap            \n",
    "            r2_pretr_straight_regr_hist[cvfold, j, i] = test_hist\n",
    "            r2_pretr_straight_regr_hist_tr[cvfold, j, i] = train_hist\n",
    "            #print('Test R^2 score (regression, after pre-tr): ', r2_pretr_straight_regr[cvfold, j, i])\n",
    "            #print('Test R^2 score (regression, after pre-tr), after pruning: ', r2_pretr_straight_regr_ap[cvfold, j, i])\n",
    "\n",
    "t = time.time() - t\n",
    "m,s = divmod(t, 60)\n",
    "h,m = divmod(m, 60)\n",
    "print('Time: {}h {:2.0f}m {:2.0f}s'.format(h,m,s))"
   ]
  },
  {
   "cell_type": "code",
   "execution_count": null,
   "metadata": {},
   "outputs": [],
   "source": [
    "with open('KerasSavedModels/stoeckius_2017_tf2/Bottleneck_r2_pre_tr_and_straight_regr_lasso.pickle', 'wb') as f:\n",
    "    pickle.dump([r2_pretr_straight_regr, r2_pretr_straight_regr_tr, \\\n",
    "                 r2_pretr_straight_regr_ap, r2_pretr_straight_regr_ap_tr, \\\n",
    "                 r2_pretr_straight_regr_hist, r2_pretr_straight_regr_hist_tr], f)"
   ]
  },
  {
   "cell_type": "markdown",
   "metadata": {},
   "source": [
    "Group lasso + ridge penalty pre-train + freeze the first 2 layers + unfreeze model."
   ]
  },
  {
   "cell_type": "code",
   "execution_count": null,
   "metadata": {},
   "outputs": [],
   "source": [
    "from bottleneck_networks_tf2 import FreezeUnfreeze"
   ]
  },
  {
   "cell_type": "code",
   "execution_count": null,
   "metadata": {},
   "outputs": [],
   "source": [
    "# Settings\n",
    "l2_params = np.logspace(-10, -10, num=1)\n",
    "l1_params = np.array([1e-4, 1e-2, 1e-1, 1])\n",
    "\n",
    "act = 'elu'\n",
    "folds = 10\n",
    "seed = 42\n",
    "lr=0.0001\n",
    "epochs=50\n",
    "bs=32\n",
    "patience=epochs\n",
    "pre_trained_weights=True\n",
    "unfreeze = [False, False, True, True, True, True] # last 4 layers can be trained only first\n",
    "prune=True\n",
    "\n",
    "r2_before_unfreezing = np.zeros((folds, l1_params.shape[0], l2_params.shape[0]))\n",
    "r2_before_unfreezing_tr = np.zeros((folds, l1_params.shape[0], l2_params.shape[0]))\n",
    "r2_after_unfreezing = np.zeros((folds, l1_params.shape[0], l2_params.shape[0]))\n",
    "r2_after_unfreezing_tr = np.zeros((folds, l1_params.shape[0], l2_params.shape[0]))\n",
    "r2_after_unfreezing_ap = np.zeros((folds, l1_params.shape[0], l2_params.shape[0]))\n",
    "r2_after_unfreezing_ap_tr = np.zeros((folds, l1_params.shape[0], l2_params.shape[0]))\n",
    "r2_freeze_unfreeze_hist = np.zeros((folds, l1_params.shape[0], l2_params.shape[0], 4*epochs))\n",
    "r2_freeze_unfreeze_hist_tr = np.zeros((folds, l1_params.shape[0], l2_params.shape[0], 4*epochs))\n",
    "\n",
    "t = time.time()\n",
    "np.random.seed(seed)\n",
    "n = genes.shape[0]\n",
    "ind = np.random.permutation(n)\n",
    "X = genes[ind,:]\n",
    "Y = adt[ind,:]\n",
    "\n",
    "nodes_list=[512,128,2,128,512]\n",
    "\n",
    "# CV folds\n",
    "for cvfold in range(folds):\n",
    "    print('\\nCVFOLD: ', cvfold)\n",
    "    indtest  = np.arange(cvfold*int(n/folds), (cvfold+1)*int(n/folds))\n",
    "    indtrain = np.setdiff1d(np.arange(n), indtest)\n",
    "    x_train = np.copy(X[indtrain,:])\n",
    "    y_train = np.copy(Y[indtrain,:])\n",
    "    x_test = np.copy(X[indtest,:])\n",
    "    y_test = np.copy(Y[indtest,:])\n",
    "\n",
    "    # Mean centering (like sRRR)\n",
    "    X_mean = np.mean(x_train, axis=0)\n",
    "    x_train -= X_mean\n",
    "    x_test -= X_mean\n",
    "    Y_mean = np.mean(y_train, axis=0)\n",
    "    y_train -= Y_mean\n",
    "    y_test -= Y_mean\n",
    "    \n",
    "    input_dim = x_train.shape[1]\n",
    "    output_dim = y_train.shape[1]\n",
    "    \n",
    "    for i, l2 in enumerate(l2_params):\n",
    "        #print('Ridge penalty: ', l2)\n",
    "        for j, l1 in enumerate(l1_params):\n",
    "            #print('Lasso penalty: ', l1)\n",
    "            \n",
    "            pre_trained_weights_h5 = 'KerasSavedModels/Classification_last_weights_{}_{}_{}.h5'.format(cvfold, j, i)\n",
    "            input_dim = x_train.shape[1]\n",
    "            output_dim = y_train.shape[1]\n",
    "            BN_PreTrFreezeUnfreeze = FreezeUnfreeze(l1=l1, l2=l2, lr=lr, act=act, input_dim=input_dim, output_dim=output_dim, \\\n",
    "                                                       unfreeze = unfreeze, \\\n",
    "                                                       pre_trained_weights=pre_trained_weights, \\\n",
    "                                                       pre_trained_weights_h5=pre_trained_weights_h5, nodes_list=nodes_list)\n",
    "            r2_before_unfreezing_train, r2_before_unfreezing_test, \\\n",
    "                r2_after_unfreezing_train, r2_after_unfreezing_test, \\\n",
    "                r2_after_unfreezing_train_ap, r2_after_unfreezing_test_ap, \\\n",
    "                train_hist, test_hist = BN_PreTrFreezeUnfreeze.train(x_train=x_train, y_train=y_train, \\\n",
    "                                                                    x_test=x_test, y_test=y_test, \\\n",
    "                                                                    epochs=epochs, bs=bs, patience=patience, \\\n",
    "                                                                    cvfold_id=cvfold, l1_id=j, l2_id=i, \\\n",
    "                                                                    prune=prune, geneNames=gene_names, \\\n",
    "                                                                    verbose=0, citeseq=True,\n",
    "                                                                    report_individual_ephys_feature_test_R2=True)\n",
    "            r2_before_unfreezing[cvfold, j, i] = r2_before_unfreezing_test\n",
    "            r2_before_unfreezing_tr[cvfold, j, i] = r2_before_unfreezing_train\n",
    "            r2_after_unfreezing[cvfold, j, i] = r2_after_unfreezing_test\n",
    "            r2_after_unfreezing_tr[cvfold, j, i] = r2_after_unfreezing_train\n",
    "            r2_after_unfreezing_ap[cvfold, j, i] = r2_after_unfreezing_test_ap\n",
    "            r2_after_unfreezing_ap_tr[cvfold, j, i] = r2_after_unfreezing_train_ap\n",
    "            r2_freeze_unfreeze_hist[cvfold, j, i] = test_hist\n",
    "            r2_freeze_unfreeze_hist_tr[cvfold, j, i] = train_hist\n",
    "            #print('Test R^2 score (before unfreezing): ', r2_before_unfreezing[cvfold, j, i])\n",
    "            #print('Test R^2 score (after unfreezing): ', r2_after_unfreezing[cvfold, j, i])\n",
    "            #print('Test R^2 score (after unfreezing and after pruning): ', r2_after_unfreezing_ap[cvfold, j, i])\n",
    "            \n",
    "t = time.time() - t\n",
    "m,s = divmod(t, 60)\n",
    "h,m = divmod(m, 60)\n",
    "print('Time: {}h {:2.0f}m {:2.0f}s'.format(h,m,s))"
   ]
  },
  {
   "cell_type": "code",
   "execution_count": 23,
   "metadata": {},
   "outputs": [
    {
     "data": {
      "text/plain": [
       "array([0.66594306, 0.71255848, 0.46360993, 0.54178998, 0.34749919,\n",
       "       0.36656123, 0.07704931, 0.50178725, 0.26099449, 0.7744104 ,\n",
       "       0.21284854, 0.18634015, 0.13288814])"
      ]
     },
     "execution_count": 23,
     "metadata": {},
     "output_type": "execute_result"
    }
   ],
   "source": [
    "np.load('KerasSavedModels/individual_ephys_feature_test_R2_{}_2_0_citeseq.npz'\\\n",
    "                                                             .format(0))['R2']"
   ]
  },
  {
   "cell_type": "code",
   "execution_count": 24,
   "metadata": {},
   "outputs": [
    {
     "name": "stdout",
     "output_type": "stream",
     "text": [
      "R^2 score on all:  0.37927199676632883\n",
      "\n",
      "individual contributions: \n"
     ]
    },
    {
     "data": {
      "text/plain": [
       "{'CD3': 0.6084088534116745,\n",
       " 'CD4': 0.663747388124466,\n",
       " 'CD8': 0.45314268469810487,\n",
       " 'CD45RA': 0.5657816648483276,\n",
       " 'CD56': 0.411304572224617,\n",
       " 'CD16': 0.4265986531972885,\n",
       " 'CD10': 0.08363522291183471,\n",
       " 'CD11c': 0.5069156259298324,\n",
       " 'CD14': 0.3394170343875885,\n",
       " 'CD19': 0.675382237136364,\n",
       " 'CD34': 0.22452184557914734,\n",
       " 'CCR5': 0.158939927816391,\n",
       " 'CCR7': 0.09676477313041687}"
      ]
     },
     "execution_count": 24,
     "metadata": {},
     "output_type": "execute_result"
    }
   ],
   "source": [
    "individual_ephys_test_R2_scores=np.zeros((folds,Y.shape[1]))\n",
    "for i in range(folds):\n",
    "    individual_ephys_test_R2_scores[i,:]=np.load('KerasSavedModels/individual_ephys_feature_test_R2_{}_2_0_citeseq.npz'\\\n",
    "                                                             .format(i))['R2']\n",
    "individual_R2_scores={}\n",
    "individual_R2_scores_std={}\n",
    "for i in range(Y.shape[1]):\n",
    "    individual_R2_scores.update(\n",
    "        {adt_names[i]:np.mean(individual_ephys_test_R2_scores, axis=0)[i]}\n",
    "                               )\n",
    "    individual_R2_scores_std.update(\n",
    "        {adt_names[i]:np.std(individual_ephys_test_R2_scores, axis=0)[i]}\n",
    "                               )\n",
    "R2_full=np.mean(r2_freeze_unfreeze_hist[:,2,0,-1],axis=0)\n",
    "print('R^2 score on all: ', R2_full)\n",
    "print('\\nindividual contributions: ')\n",
    "individual_R2_scores"
   ]
  },
  {
   "cell_type": "code",
   "execution_count": 25,
   "metadata": {},
   "outputs": [],
   "source": [
    "with open('KerasSavedModels/stoeckius_2017/ind_feature_scores.pickle', 'wb') as f:\n",
    "    pickle.dump([individual_R2_scores, individual_R2_scores_std], f)"
   ]
  },
  {
   "cell_type": "code",
   "execution_count": 26,
   "metadata": {},
   "outputs": [
    {
     "name": "stdout",
     "output_type": "stream",
     "text": [
      "individual contributions \\w their std's\n"
     ]
    },
    {
     "data": {
      "text/plain": [
       "{'CD3': 0.028024435182854676,\n",
       " 'CD4': 0.044230981837874044,\n",
       " 'CD8': 0.08022415673478019,\n",
       " 'CD45RA': 0.05630308795929449,\n",
       " 'CD56': 0.07849141023556618,\n",
       " 'CD16': 0.06453103325612815,\n",
       " 'CD10': 0.036701754263254664,\n",
       " 'CD11c': 0.04712114185108374,\n",
       " 'CD14': 0.04720168131496458,\n",
       " 'CD19': 0.09679384640992904,\n",
       " 'CD34': 0.05908285115792311,\n",
       " 'CCR5': 0.07754001829981579,\n",
       " 'CCR7': 0.047180339648243586}"
      ]
     },
     "execution_count": 26,
     "metadata": {},
     "output_type": "execute_result"
    }
   ],
   "source": [
    "# For the revision, before, without ion channel genes:\n",
    "print(\"individual contributions \\w their std's\")\n",
    "individual_R2_scores_std"
   ]
  },
  {
   "cell_type": "code",
   "execution_count": 27,
   "metadata": {},
   "outputs": [
    {
     "data": {
      "image/png": "[encoded data removed]",
      "text/plain": [
       "<Figure size 576x360 with 1 Axes>"
      ]
     },
     "metadata": {
      "needs_background": "light"
     },
     "output_type": "display_data"
    }
   ],
   "source": [
    "# For the revision, before, without ion channel genes:\n",
    "order=np.argsort(np.array([individual_R2_scores[key] for key in individual_R2_scores]))[::-1]\n",
    "fig, ax = plt.subplots(1,1,figsize=(8,5))\n",
    "# ax.scatter(\n",
    "#            np.array([key for key in individual_R2_scores])[order],\n",
    "#            np.array([individual_R2_scores[key] for key in individual_R2_scores])[order],\n",
    "#            color='k'\n",
    "#           )\n",
    "ax.errorbar(np.array([key for key in individual_R2_scores])[order],\n",
    "            np.array([individual_R2_scores[key] for key in individual_R2_scores])[order],\n",
    "            np.array([individual_R2_scores_std[key] for key in individual_R2_scores_std])[order],\n",
    "            marker='.', color='k', markersize=10, capsize=5, linestyle='none')\n",
    "ax.hlines(R2_full,\n",
    "          xmin=ax.get_xlim()[0],\n",
    "          xmax=ax.get_xlim()[1],\n",
    "          linestyle='dashed')\n",
    "ax.set_ylim(ymin=0,ymax=1)\n",
    "ax.annotate(r'Multivariate $R^2$={0:.2f}'.format(R2_full),\n",
    "           (ax.get_xlim()[0]+1.3*(ax.get_xlim()[1]-ax.get_xlim()[0])/2, R2_full+0.02),\n",
    "            fontsize=13)\n",
    "plt.xticks(rotation='80', fontsize=13)\n",
    "ax.set_ylabel(r'Cross validated $R^2$', fontsize=13)\n",
    "sns.despine()\n",
    "plt.savefig('./figures/preliminary/individual_ephys_prediction_scores_cite_seq.png',\n",
    "            bbox_inches = 'tight',\n",
    "            pad_inches = 0)\n",
    "plt.savefig('./figures/preliminary/individual_ephys_prediction_scores_cite_seq.pdf',\n",
    "            bbox_inches = 'tight',\n",
    "            pad_inches = 0)"
   ]
  },
  {
   "cell_type": "code",
   "execution_count": 28,
   "metadata": {},
   "outputs": [],
   "source": [
    "with open('KerasSavedModels/stoeckius_2017_tf2/Bottleneck_r2_pre_tr_and_freeze_unfreeze_lasso.pickle', 'wb') as f:\n",
    "    pickle.dump([r2_before_unfreezing, r2_before_unfreezing_tr, \\\n",
    "                 r2_after_unfreezing, r2_after_unfreezing_tr, \\\n",
    "                 r2_after_unfreezing_ap, r2_after_unfreezing_ap_tr, \\\n",
    "                 r2_freeze_unfreeze_hist, r2_freeze_unfreeze_hist_tr], f)"
   ]
  },
  {
   "cell_type": "markdown",
   "metadata": {},
   "source": [
    "In the next section we perform reduced-rank regression cross validation (rank = 2 and full rank)."
   ]
  },
  {
   "cell_type": "code",
   "execution_count": 30,
   "metadata": {},
   "outputs": [],
   "source": [
    "# CV sRRR rank = 2\n",
    "\n",
    "lambdas = np.arange(.1,2,.1)\n",
    "alphas = np.array([1])\n",
    "\n",
    "rank = 2\n",
    "folds = 10\n",
    "seed = 42\n",
    "\n",
    "r2_sRRR_rank2 = np.zeros((folds, alphas.shape[0], lambdas.shape[0]))\n",
    "r2_sRRR_rank2_tr = np.zeros((folds, alphas.shape[0], lambdas.shape[0]))\n",
    "r2_sRRR_relaxed_rank2 = np.zeros((folds, alphas.shape[0], lambdas.shape[0]))\n",
    "r2_sRRR_relaxed_rank2_tr = np.zeros((folds, alphas.shape[0], lambdas.shape[0]))\n",
    "nonzero_rank2 = np.zeros((folds, alphas.shape[0], lambdas.shape[0]))\n",
    "corrs_rank2 = np.zeros((folds, alphas.shape[0], lambdas.shape[0], rank))\n",
    "corrs_relaxed_rank2 = np.zeros((folds, alphas.shape[0], lambdas.shape[0], rank))\n",
    "\n",
    "\n",
    "t = time.time()\n",
    "\n",
    "np.random.seed(seed)\n",
    "n = genes.shape[0]\n",
    "ind = np.random.permutation(n)\n",
    "X = genes[ind,:]\n",
    "Y = adt[ind,:]\n",
    "\n",
    "# CV folds\n",
    "for cvfold in range(folds):\n",
    "    print('\\nCVFOLD: ', cvfold)\n",
    "    indtest  = np.arange(cvfold*int(n/folds), (cvfold+1)*int(n/folds))\n",
    "    indtrain = np.setdiff1d(np.arange(n), indtest)\n",
    "    x_train = np.copy(X[indtrain,:])\n",
    "    y_train = np.copy(Y[indtrain,:])\n",
    "    x_test = np.copy(X[indtest,:])\n",
    "    y_test = np.copy(Y[indtest,:])\n",
    "\n",
    "    # Mean centering (like sRRR)\n",
    "    X_mean = np.mean(x_train, axis=0)\n",
    "    x_train -= X_mean\n",
    "    x_test -= X_mean\n",
    "    Y_mean = np.mean(y_train, axis=0)\n",
    "    y_train -= Y_mean\n",
    "    y_test -= Y_mean\n",
    "    \n",
    "    x_train = x_train.astype('float64')\n",
    "    y_train = y_train.astype('float64')\n",
    "    x_test = x_test.astype('float64')\n",
    "    y_test = y_test.astype('float64')\n",
    "    \n",
    "    for i,a in enumerate(lambdas):\n",
    "        #print('Lambdau: ', a)\n",
    "        for j, b in enumerate(alphas):\n",
    "            #print('Alpha: ', b)\n",
    "            vx,vy = sparseRRR.elastic_rrr(x_train, y_train, lambdau=a, alpha=b, rank=rank, sparsity='row-wise')\n",
    "\n",
    "            nz = np.sum(np.abs(vx), axis=1) != 0\n",
    "            if np.sum(nz) < rank:\n",
    "                nonzero_rank2[cvfold, j, i] = np.nan\n",
    "                continue\n",
    "\n",
    "            if np.allclose(np.std(x_test @ vx, axis=0), 0):\n",
    "                nonzero_rank2[cvfold, j, i] = np.nan\n",
    "                continue\n",
    "\n",
    "            nonzero_rank2[cvfold, j, i] = np.sum(nz)\n",
    "            r2_sRRR_rank2[cvfold, j, i] = 1 - np.sum((y_test - x_test @ vx @ vy.T)**2) / np.sum(y_test**2)\n",
    "            r2_sRRR_rank2_tr[cvfold, j, i] = 1 - np.sum((y_train - x_train @ vx @ vy.T)**2) / np.sum(y_train**2)\n",
    "            for r in range(rank):\n",
    "                corrs_rank2[cvfold, j, i, r] = np.corrcoef(x_test @ vx[:,r], y_test @ vy[:,r], rowvar=False)[0,1]\n",
    "\n",
    "            # Relaxation\n",
    "            vx[nz,:],vy = sparseRRR.elastic_rrr(x_train[:,nz], y_train, lambdau=a, alpha=0, rank=rank, sparsity='row-wise')\n",
    "\n",
    "            if np.allclose(np.std(x_test @ vx, axis=0), 0):\n",
    "                nonzero_rank2[cvfold, j, i] = np.nan\n",
    "                continue\n",
    "\n",
    "            r2_sRRR_relaxed_rank2[cvfold, j, i] = 1 - np.sum((y_test - x_test @ vx @ vy.T)**2) / np.sum(y_test**2)\n",
    "            r2_sRRR_relaxed_rank2_tr[cvfold, j, i] = 1 - np.sum((y_train - x_train @ vx @ vy.T)**2) / np.sum(y_train**2)\n",
    "            for r in range(rank):\n",
    "                corrs_relaxed_rank2[cvfold, j, i, r] = np.corrcoef(x_test @ vx[:,r], y_test @ vy[:,r], rowvar=False)[0,1]\n",
    "            #print(r2_sRRR_relaxed_rank2[cvfold, j, i])\n",
    "\n",
    "t = time.time() - t\n",
    "m,s = divmod(t, 60)\n",
    "h,m = divmod(m, 60)\n",
    "print('Time: {}h {:2.0f}m {:2.0f}s'.format(h,m,s))"
   ]
  },
  {
   "cell_type": "code",
   "execution_count": null,
   "metadata": {},
   "outputs": [],
   "source": [
    "with open('KerasSavedModels/stoeckius_2017_tf2/sRRR_vs_Bottleneck_rank2_CV_lasso.pickle', 'wb') as f:\n",
    "    pickle.dump([r2_sRRR_rank2, r2_sRRR_relaxed_rank2, r2_sRRR_rank2_tr, r2_sRRR_relaxed_rank2_tr, \\\n",
    "                nonzero_rank2, corrs_rank2, corrs_relaxed_rank2], f)"
   ]
  },
  {
   "cell_type": "code",
   "execution_count": null,
   "metadata": {},
   "outputs": [],
   "source": [
    "# CV sRRR full rank\n",
    "\n",
    "lambdas = np.arange(.1,2,.1)\n",
    "alphas = np.array([1])\n",
    "\n",
    "rank = adt.shape[1]\n",
    "folds = 10\n",
    "seed = 42\n",
    "\n",
    "r2_sRRR_rank13 = np.zeros((folds, alphas.shape[0], lambdas.shape[0]))\n",
    "r2_sRRR_rank13_tr = np.zeros((folds, alphas.shape[0], lambdas.shape[0]))\n",
    "r2_sRRR_relaxed_rank13 = np.zeros((folds, alphas.shape[0], lambdas.shape[0]))\n",
    "r2_sRRR_relaxed_rank13_tr = np.zeros((folds, alphas.shape[0], lambdas.shape[0]))\n",
    "nonzero_rank13 = np.zeros((folds, alphas.shape[0], lambdas.shape[0]))\n",
    "corrs_rank13 = np.zeros((folds, alphas.shape[0], lambdas.shape[0], rank))\n",
    "corrs_relaxed_rank13 = np.zeros((folds, alphas.shape[0], lambdas.shape[0], rank))\n",
    "\n",
    "\n",
    "t = time.time()\n",
    "\n",
    "np.random.seed(seed)\n",
    "n = genes.shape[0]\n",
    "ind = np.random.permutation(n)\n",
    "X = genes[ind,:]\n",
    "Y = adt[ind,:]\n",
    "\n",
    "# CV folds\n",
    "for cvfold in range(folds):\n",
    "    print('\\nCVFOLD: ', cvfold)\n",
    "    indtest  = np.arange(cvfold*int(n/folds), (cvfold+1)*int(n/folds))\n",
    "    indtrain = np.setdiff1d(np.arange(n), indtest)\n",
    "    x_train = np.copy(X[indtrain,:])\n",
    "    y_train = np.copy(Y[indtrain,:])\n",
    "    x_test = np.copy(X[indtest,:])\n",
    "    y_test = np.copy(Y[indtest,:])\n",
    "\n",
    "    # Mean centering (like sRRR)\n",
    "    X_mean = np.mean(x_train, axis=0)\n",
    "    x_train -= X_mean\n",
    "    x_test -= X_mean\n",
    "    Y_mean = np.mean(y_train, axis=0)\n",
    "    y_train -= Y_mean\n",
    "    y_test -= Y_mean\n",
    "    \n",
    "    x_train = x_train.astype('float64')\n",
    "    y_train = y_train.astype('float64')\n",
    "    x_test = x_test.astype('float64')\n",
    "    y_test = y_test.astype('float64')\n",
    "    \n",
    "    for i,a in enumerate(lambdas):\n",
    "        #print('Labmdau: ', a)\n",
    "        for j, b in enumerate(alphas):\n",
    "            #print('Alpha: ', b)\n",
    "            vx,vy = sparseRRR.elastic_rrr(x_train, y_train, lambdau=a, alpha=b, rank=rank, sparsity='row-wise')\n",
    "\n",
    "            nz = np.sum(np.abs(vx), axis=1) != 0\n",
    "            if np.sum(nz) < rank:\n",
    "                nonzero_rank13[cvfold, j, i] = np.nan\n",
    "                continue\n",
    "\n",
    "            if np.allclose(np.std(x_test @ vx, axis=0), 0):\n",
    "                nonzero_rank13[cvfold, j, i] = np.nan\n",
    "                continue\n",
    "\n",
    "            nonzero_rank13[cvfold, j, i] = np.sum(nz)\n",
    "            r2_sRRR_rank13[cvfold, j, i] = 1 - np.sum((y_test - x_test @ vx @ vy.T)**2) / np.sum(y_test**2)\n",
    "            r2_sRRR_rank13_tr[cvfold, j, i] = 1 - np.sum((y_train - x_train @ vx @ vy.T)**2) / np.sum(y_train**2)\n",
    "            for r in range(rank):\n",
    "                corrs_rank13[cvfold, j, i, r] = np.corrcoef(x_test @ vx[:,r], y_test @ vy[:,r], rowvar=False)[0,1]\n",
    "\n",
    "            # Relaxation\n",
    "            vx[nz,:],vy = sparseRRR.elastic_rrr(x_train[:,nz], y_train, lambdau=a, alpha=0, rank=rank, sparsity='row-wise')\n",
    "\n",
    "            if np.allclose(np.std(x_test @ vx, axis=0), 0):\n",
    "                nonzero_rank13[cvfold, j, i] = np.nan\n",
    "                continue\n",
    "\n",
    "            r2_sRRR_relaxed_rank13[cvfold, j, i] = 1 - np.sum((y_test - x_test @ vx @ vy.T)**2) / np.sum(y_test**2)\n",
    "            r2_sRRR_relaxed_rank13_tr[cvfold, j, i] = 1 - np.sum((y_train - x_train @ vx @ vy.T)**2) / np.sum(y_train**2)\n",
    "            for r in range(rank):\n",
    "                corrs_relaxed_rank13[cvfold, j, i, r] = np.corrcoef(x_test @ vx[:,r], y_test @ vy[:,r], rowvar=False)[0,1]\n",
    "            #print(r2_sRRR_relaxed_rank13[cvfold, j, i])\n",
    "\n",
    "t = time.time() - t\n",
    "m,s = divmod(t, 60)\n",
    "h,m = divmod(m, 60)\n",
    "print('Time: {}h {:2.0f}m {:2.0f}s'.format(h,m,s))"
   ]
  },
  {
   "cell_type": "code",
   "execution_count": null,
   "metadata": {},
   "outputs": [],
   "source": [
    "with open('KerasSavedModels/stoeckius_2017_tf2/sRRR_vs_Bottleneck_rank13_CV_lasso.pickle', 'wb') as f:\n",
    "    pickle.dump([r2_sRRR_rank13, r2_sRRR_relaxed_rank13, r2_sRRR_rank13_tr, r2_sRRR_relaxed_rank13_tr, \\\n",
    "                nonzero_rank13, corrs_rank13, corrs_relaxed_rank13], f)"
   ]
  },
  {
   "cell_type": "markdown",
   "metadata": {},
   "source": [
    "Let us now analyse and visualise the differences."
   ]
  },
  {
   "cell_type": "code",
   "execution_count": 31,
   "metadata": {},
   "outputs": [],
   "source": [
    "lambdas = np.arange(.1,2,.1)\n",
    "alphas = np.array([1])"
   ]
  },
  {
   "cell_type": "code",
   "execution_count": 32,
   "metadata": {},
   "outputs": [],
   "source": [
    "with open('KerasSavedModels/stoeckius_2017_tf2/sRRR_vs_Bottleneck_rank2_CV_lasso.pickle', 'rb') as f:\n",
    "    r2_sRRR_rank2, r2_sRRR_relaxed_rank2, r2_sRRR_rank2_tr, r2_sRRR_relaxed_rank2_tr, \\\n",
    "                nonzero_rank2, corrs_rank2, corrs_relaxed_rank2 = pickle.load(f)"
   ]
  },
  {
   "cell_type": "code",
   "execution_count": 33,
   "metadata": {},
   "outputs": [],
   "source": [
    "with open('KerasSavedModels/stoeckius_2017_tf2/sRRR_vs_Bottleneck_rank13_CV_lasso.pickle', 'rb') as f:\n",
    "    r2_sRRR_rank13, r2_sRRR_relaxed_rank13, r2_sRRR_rank13_tr, r2_sRRR_relaxed_rank13_tr, \\\n",
    "                nonzero_rank13, corrs_rank13, corrs_relaxed_rank13 = pickle.load(f)"
   ]
  },
  {
   "cell_type": "code",
   "execution_count": 34,
   "metadata": {},
   "outputs": [],
   "source": [
    "with open('KerasSavedModels/stoeckius_2017_tf2/Bottleneck_pre_tr_lasso.pickle', 'rb') as f:\n",
    "    CE_loss, CE_loss_tr, pre_tr_hist, pre_tr_hist_tr = pickle.load(f)"
   ]
  },
  {
   "cell_type": "code",
   "execution_count": 35,
   "metadata": {},
   "outputs": [],
   "source": [
    "with open('KerasSavedModels/stoeckius_2017_tf2/Bottleneck_r2_straight_regr_lasso.pickle', 'rb') as f:\n",
    "    r2_straight_regr, r2_straight_regr_tr, \\\n",
    "    r2_straight_regr_ap, r2_straight_regr_ap_tr, \\\n",
    "    r2_straight_regr_hist, r2_straight_regr_hist_tr = pickle.load(f)"
   ]
  },
  {
   "cell_type": "code",
   "execution_count": 36,
   "metadata": {},
   "outputs": [],
   "source": [
    "with open('KerasSavedModels/stoeckius_2017_tf2/Bottleneck_r2_pre_tr_and_straight_regr_lasso.pickle', 'rb') as f:\n",
    "    r2_pretr_straight_regr, r2_pretr_straight_regr_tr, \\\n",
    "    r2_pretr_straight_regr_ap, r2_pretr_straight_regr_ap_tr, \\\n",
    "    r2_pretr_straight_regr_hist, r2_pretr_straight_regr_hist_tr = pickle.load(f)"
   ]
  },
  {
   "cell_type": "code",
   "execution_count": 37,
   "metadata": {},
   "outputs": [],
   "source": [
    "with open('KerasSavedModels/stoeckius_2017_tf2/Bottleneck_r2_pre_tr_and_freeze_unfreeze_lasso.pickle', 'rb') as f:\n",
    "    r2_before_unfreezing, r2_before_unfreezing_tr, \\\n",
    "    r2_after_unfreezing, r2_after_unfreezing_tr, \\\n",
    "    r2_after_unfreezing_ap, r2_after_unfreezing_ap_tr, \\\n",
    "    r2_freeze_unfreeze_hist, r2_freeze_unfreeze_hist_tr = pickle.load(f)"
   ]
  },
  {
   "cell_type": "code",
   "execution_count": 38,
   "metadata": {},
   "outputs": [],
   "source": [
    "# Select closest to 25 genes value\n",
    "# suppressing \"mean of empty slice\" warnings\n",
    "with warnings.catch_warnings():\n",
    "    warnings.simplefilter(\"ignore\", category=RuntimeWarning)\n",
    "    n_rank2 = np.nanmean(nonzero_rank2, axis=0)[0, :]\n",
    "    r_rank2_r = np.nanmean(r2_sRRR_relaxed_rank2, axis=0)[0, :]\n",
    "    n_rank13 = np.nanmean(nonzero_rank13, axis=0)[0, :]\n",
    "    r_rank13_r = np.nanmean(r2_sRRR_relaxed_rank13, axis=0)[0, :]"
   ]
  },
  {
   "cell_type": "code",
   "execution_count": 39,
   "metadata": {},
   "outputs": [
    {
     "name": "stdout",
     "output_type": "stream",
     "text": [
      "0.35180883035772514 +/- 0.05748617418606928\n"
     ]
    }
   ],
   "source": [
    "print(r_rank13_r[np.isclose(n_rank13, 25, atol=3)][0], '+/-',\n",
    "      np.nanstd(r2_sRRR_relaxed_rank13, axis=0)[0, :][np.isclose(n_rank13, 25, atol=3)][0])"
   ]
  },
  {
   "cell_type": "code",
   "execution_count": 40,
   "metadata": {},
   "outputs": [
    {
     "name": "stdout",
     "output_type": "stream",
     "text": [
      "0.23040445534801773 +/- 0.03808543922420419\n"
     ]
    }
   ],
   "source": [
    "print(r_rank2_r[np.isclose(n_rank2, 25, atol=3)][0], '+/-',\n",
    "      np.nanstd(r2_sRRR_relaxed_rank2, axis=0)[0, :][np.isclose(n_rank2, 25, atol=3)][0])"
   ]
  },
  {
   "cell_type": "code",
   "execution_count": 41,
   "metadata": {},
   "outputs": [
    {
     "name": "stdout",
     "output_type": "stream",
     "text": [
      "0.37927199676632883 +/- 0.10156890367252856\n"
     ]
    }
   ],
   "source": [
    "print(np.mean(r2_freeze_unfreeze_hist,axis=0)[2,0,-1], '+/-', np.std(r2_freeze_unfreeze_hist,axis=0)[2,0,-1])"
   ]
  },
  {
   "cell_type": "code",
   "execution_count": 42,
   "metadata": {},
   "outputs": [
    {
     "name": "stdout",
     "output_type": "stream",
     "text": [
      "0.37438757717609406 +/- 0.048559528654080183\n"
     ]
    }
   ],
   "source": [
    "print(np.mean(r2_straight_regr_hist,axis=0)[0,0,-1], '+/-', np.std(r2_straight_regr_hist,axis=0)[0,0,-1])"
   ]
  }
 ],
 "metadata": {
  "kernelspec": {
   "display_name": "Python 3",
   "language": "python",
   "name": "python3"
  },
  "language_info": {
   "codemirror_mode": {
    "name": "ipython",
    "version": 3
   },
   "file_extension": ".py",
   "mimetype": "text/x-python",
   "name": "python",
   "nbconvert_exporter": "python",
   "pygments_lexer": "ipython3",
   "version": "3.7.5"
  },
  "varInspector": {
   "cols": {
    "lenName": 16,
    "lenType": 16,
    "lenVar": 40
   },
   "kernels_config": {
    "python": {
     "delete_cmd_postfix": "",
     "delete_cmd_prefix": "del ",
     "library": "var_list.py",
     "varRefreshCmd": "print(var_dic_list())"
    },
    "r": {
     "delete_cmd_postfix": ") ",
     "delete_cmd_prefix": "rm(",
     "library": "var_list.r",
     "varRefreshCmd": "cat(var_dic_list()) "
    }
   },
   "types_to_exclude": [
    "module",
    "function",
    "builtin_function_or_method",
    "instance",
    "_Feature"
   ],
   "window_display": false
  }
 },
 "nbformat": 4,
 "nbformat_minor": 2
}
