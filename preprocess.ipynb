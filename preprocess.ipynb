{
 "cells": [
  {
   "cell_type": "code",
   "execution_count": 1,
   "metadata": {},
   "outputs": [],
   "source": [
    "# Import packages\n",
    "import numpy as np\n",
    "import pandas as pd\n",
    "import pickle\n",
    "import sparseRRR"
   ]
  },
  {
   "cell_type": "markdown",
   "metadata": {},
   "source": [
    "# Loading Scala 2020 data"
   ]
  },
  {
   "cell_type": "markdown",
   "metadata": {},
   "source": [
    "First part for the Scala dataset consists of selecting ephys properties, selecting most variable genes and certain cells only."
   ]
  },
  {
   "cell_type": "code",
   "execution_count": 3,
   "metadata": {},
   "outputs": [
    {
     "name": "stdout",
     "output_type": "stream",
     "text": [
      "all cells with transcriptimic data:  (42184, 1320)\n",
      "cells with ephys properties:  1319\n",
      "cell with genetic but no ephys properties:  20190211sample10\n",
      "cells with ephys after elimination of cells with no rna-seq data:  1319\n",
      "cells with ephys properties after exclusion of certain cells\n",
      "(Nan ephys property or ephys and rna don't match):  1312\n",
      "All cells with ephys + transcriptomic data (after exclusion of Nan ephys property data):  (42184, 1304)\n",
      "RPKM shape: (42184, 1304)\n",
      "Ephys shape: (1304, 16)\n",
      "cellTypes shape: (1304,)\n",
      "ephys properties: AP amp, AP amp adapt, AP amp CV, AP thresh, AP width, AHP, AI, ISI CV, R_input, Max AP num, Tau, Rebound, V_rest, Rheobase, Sag, UDR\n"
     ]
    }
   ],
   "source": [
    "# Loading raw gene counts\n",
    "rpkm = pd.read_csv('data/scala_2020/final_patch_seq_allcells_exon_allreads.txt', sep='\\t')\n",
    "rpkm = rpkm.set_index('gene')\n",
    "new_keys = ['{}{}{}'.format(g.split('_')[0], g.split('_')[1], g.split('_')[2]) \\\n",
    "            for g in rpkm.keys().tolist()] # Changing column names\n",
    "rpkm.columns = new_keys\n",
    "print('all cells with transcriptimic data: ', rpkm.shape)\n",
    "\n",
    "# Loading raw ephys feature values\n",
    "M1_ephys = pd.read_csv('data/scala_2020/Cell_Features_M1.csv')\n",
    "M1_ephys = M1_ephys.drop(['Unnamed: 0'], axis=1)\n",
    "ephysProperties = ['AP amp FF', 'AP amp', 'AP amp adapt', 'AP amp average adapt', 'AP amp CV', 'AP thresh', \\\n",
    "                   'AP width', 'ADP', 'AHP', 'Burstiness', 'ISI FF',\n",
    "                    'AI', 'ISI average adapt', 'ISI CV', 'R_input', 'Latency', 'Max AP num', 'Tau',\n",
    "                   'Rebound',  'Rebound number of APs', 'V_rest', 'Rheobase', 'Sag area', 'Sag', 'Sag time', \\\n",
    "                   'SFA', 'UDR', 'Wildness']\n",
    "\n",
    "# Cells for which ephys properties are available:\n",
    "cells_w_ephys = ['{}{}{}{}{}'.format(g.split('/')[-1].split(' ')[2], g.split('/')[-1].split(' ')[0], \\\n",
    "                                     g.split('/')[-1].split(' ')[1], 'sample', \\\n",
    "                                     g.split('/')[-1].split(' ')[-1].split('.')[0]) \\\n",
    "                  for g in M1_ephys['name sample'].tolist()]\n",
    "\n",
    "M1_ephys['Name sample'] = cells_w_ephys\n",
    "M1_ephys = M1_ephys.drop(['name sample'], axis = 1)\n",
    "M1_ephys = M1_ephys.rename(columns = {'Name sample': 'name sample'})\n",
    "M1_ephys = M1_ephys.set_index('name sample')\n",
    "\n",
    "M1_ephys.columns = ephysProperties\n",
    "\n",
    "print('cells with ephys properties: ', len(cells_w_ephys))\n",
    "\n",
    "# Find the cells first for which ephys properties are available but no genetic properties.\n",
    "# Delete these from cells_w_ephys\n",
    "no_gene = []\n",
    "for cell in cells_w_ephys:\n",
    "    if cell not in rpkm.columns:\n",
    "        print('cell with ephys but no genetic properties: ', cell)\n",
    "        no_gene.append(cell)\n",
    "for cell in no_gene:\n",
    "    cells_w_ephys.remove(cell)\n",
    "\n",
    "no_ephys = []\n",
    "for cell in rpkm.keys():\n",
    "    if cell not in M1_ephys.index:\n",
    "        print('cell with genetic but no ephys properties: ', cell)\n",
    "        no_ephys.append(cell)\n",
    "# Scrap the ephys cells for which no genetic info exists\n",
    "M1_ephys = M1_ephys.loc[cells_w_ephys]\n",
    "print('cells with ephys after elimination of cells with no rna-seq data: ', len(cells_w_ephys))\n",
    "\n",
    "\n",
    "# Drop cells where the ephys and rna don't match\n",
    "M1_ephys = M1_ephys.drop(['20180315sample6'], axis = 0) # FS firing but excitatory RNA\n",
    "M1_ephys = M1_ephys.drop(['20180321sample4'], axis = 0) # MC firing and morphology but excitatory RNA\n",
    "M1_ephys = M1_ephys.drop(['20181116sample10'], axis = 0) # FS firing but excitatory RNA\n",
    "M1_ephys = M1_ephys.drop(['20190325sample2'], axis = 0) # FS firing but excitatory RNA\n",
    "M1_ephys = M1_ephys.drop(['20190611sample1'], axis = 0) # mismatch (L1 firing and morphology but excitatory RNA)\n",
    "M1_ephys = M1_ephys.drop(['20190611sample11'], axis = 0) # mismatch (L1 firing and morphology but excitatory RNA)\n",
    "M1_ephys = M1_ephys.drop(['20190704sample2'], axis = 0) # outside of M1\n",
    "print(\"cells with ephys properties after exclusion of certain cells\\n(Nan ephys property or ephys and rna don't match): \", \\\n",
    "              len(M1_ephys.index))\n",
    "\n",
    "# Feature transformations\n",
    "# According to the stripplot, certain transformations of some properties are in place\n",
    "M1_ephys = M1_ephys.drop('SFA', axis = 1)\n",
    "M1_ephys['AI'] = np.log(M1_ephys['AI'])\n",
    "M1_ephys['ISI FF'] = np.log(M1_ephys['ISI FF'])\n",
    "M1_ephys['ISI CV'] = np.log(M1_ephys['ISI CV'])\n",
    "M1_ephys['AP amp CV'] = np.log(M1_ephys['AP amp CV'])\n",
    "M1_ephys['AP amp FF'] = np.log(M1_ephys['AP amp FF'])\n",
    "M1_ephys['Latency'] = np.log(M1_ephys['Latency'])\n",
    "\n",
    "select = True    # Set to True if you'd like to drop certain features for certain reasons (see comments)\n",
    "if select:       #!!!!! Make sure that SFA is already dropped\n",
    "    M1_ephys = M1_ephys.drop('ADP', axis=1)                 # too much of a 0 or something feature\n",
    "    M1_ephys = M1_ephys.drop('Sag time', axis=1)            # sag should be meaningfull enough (we don't want too many corr.)\n",
    "                                                            # it also has too many 0's\n",
    "    M1_ephys = M1_ephys.drop('Sag area', axis=1)            # sag should be meaningfull enough (we don't want too many corr.)\n",
    "                                                            # it also has too many 0's\n",
    "    M1_ephys = M1_ephys.drop('AP amp FF', axis=1)           # the log is heavily correlated with log(AP_cv)\n",
    "    M1_ephys = M1_ephys.drop('ISI FF', axis=1)              # the log is heavily correlated with log(cv)\n",
    "    M1_ephys = M1_ephys.drop('Wildness', axis=1)            # too much of a 0 or something feature\n",
    "    M1_ephys = M1_ephys.drop('Rebound number of APs', axis=1) # too much of a 0 or something feature\n",
    "    M1_ephys = M1_ephys.drop('ISI average adapt', axis=1)   # too skewed of a feature\n",
    "    M1_ephys = M1_ephys.drop('AP amp average adapt', axis=1)  # too skewed of a feature\n",
    "    M1_ephys = M1_ephys.drop('Burstiness', axis=1)          # too many cells have zero for this feature\n",
    "    M1_ephys = M1_ephys.drop('Latency', axis=1)             # too many outliers\n",
    "\n",
    "ephysProperties = M1_ephys.keys()\n",
    "\n",
    "M1_ephys = M1_ephys.dropna() # We drop Nans only here because SFA causes too many Nans and we don't want to lose too much data\n",
    "\n",
    "# Now delete all the cells with genetic data for which no ephys properties exist\n",
    "rpkm = rpkm[list(M1_ephys.index)]\n",
    "print('All cells with ephys + transcriptomic data (after exclusion of Nan ephys property data): ', rpkm.shape)\n",
    "M1_ephys = M1_ephys.reindex(rpkm.columns)\n",
    "\n",
    "# Now specify for all the cells left what the cell type is (according to transcriptomic mappings)\n",
    "prop = pd.read_csv('data/scala_2020/mini-atlas-meta-data.csv', sep = '\\t')\n",
    "prop = prop.rename(columns = {'Sample': 'sample_id', 'Targeted layer': 'Layer'})\n",
    "prop = prop[['Cell', 'RNA type', 'sample_id', 'Layer', 'Cre', 'RNA type top-3']]\n",
    "sample_name = ['{}{}{}'.format(g.split('_')[0], g.split('_')[1], g.split('_')[2]) for g in prop['Cell']]\n",
    "prop['sample name'] = sample_name\n",
    "prop = prop.set_index('sample name')\n",
    "prop = prop.reindex(M1_ephys.index) # There could be more cells with ephys than manually labelled\n",
    "                                    # They will receive the Nan property\n",
    "prop = prop.fillna('')\n",
    "M1_Allen_Mapping = prop['RNA type']\n",
    "M1_Allen_Mapping[np.where(M1_Allen_Mapping == '')[0]] = 'low quality'\n",
    "number_labels = {c: i for i, c in enumerate(np.unique(M1_Allen_Mapping))}\n",
    "cellTypes = np.array([number_labels[cell_type] for cell_type in M1_Allen_Mapping])\n",
    "\n",
    "# Double-check\n",
    "print('RPKM shape:', rpkm.shape)\n",
    "print('Ephys shape:', M1_ephys.shape)\n",
    "print('cellTypes shape:', cellTypes.shape)\n",
    "print('ephys properties:', ', '.join(ephysProperties))"
   ]
  },
  {
   "cell_type": "code",
   "execution_count": 4,
   "metadata": {},
   "outputs": [
    {
     "name": "stdout",
     "output_type": "stream",
     "text": [
      "RPKM shape: (42184, 1213)\n",
      "Ephys shape: (1213, 16)\n"
     ]
    }
   ],
   "source": [
    "# We are not interested in low quality rna cells\n",
    "M1_ephys = M1_ephys.loc[cellTypes!=77]\n",
    "rpkm = rpkm.T.loc[cellTypes!=77, :].T\n",
    "print('RPKM shape:', rpkm.shape)\n",
    "print('Ephys shape:', M1_ephys.shape)"
   ]
  },
  {
   "cell_type": "code",
   "execution_count": 5,
   "metadata": {},
   "outputs": [
    {
     "name": "stdout",
     "output_type": "stream",
     "text": [
      "Chosen offset: 7.56\n",
      "RPKM shape: (1000, 1213)\n",
      "Ephys shape: (1213, 16)\n"
     ]
    },
    {
     "data": {
      "image/png": "[encoded data removed]",
      "text/plain": [
       "<Figure size 432x252 with 1 Axes>"
      ]
     },
     "metadata": {
      "needs_background": "light"
     },
     "output_type": "display_data"
    }
   ],
   "source": [
    "# We choose n most variable genes based on an heuristic appoach employed by Dmitry et al. in \"The art of using t-sne\n",
    "# for single-cell transcriptomics\"\n",
    "amount_of_genes = 1000\n",
    "markerGenes = ['Snap25', 'Gad1', 'Slc17a7', 'Pvalb', 'Sst', 'Vip']\n",
    "selectedGenes = sparseRRR.geneSelection(rpkm.T.values.astype(np.float), n=amount_of_genes, threshold=30, \\\n",
    "                                          markers=markerGenes, genes=np.array(list(rpkm.index)))\n",
    "rpkm = rpkm.loc[selectedGenes]\n",
    "print('RPKM shape:', rpkm.shape)\n",
    "print('Ephys shape:', M1_ephys.shape)"
   ]
  },
  {
   "cell_type": "code",
   "execution_count": 5,
   "metadata": {},
   "outputs": [],
   "source": [
    "rpkm.to_csv('data/scala_2020/gene_counts.csv')\n",
    "M1_ephys.to_csv('data/scala_2020/ephys_values.csv')"
   ]
  },
  {
   "cell_type": "markdown",
   "metadata": {},
   "source": [
    "Second part consists of preparing the data even further: normalizing and saving in a certain structure."
   ]
  },
  {
   "cell_type": "code",
   "execution_count": 6,
   "metadata": {},
   "outputs": [],
   "source": [
    "M1_ephys = pd.read_csv('data/scala_2020/ephys_values.csv', index_col=0)\n",
    "rpkm = pd.read_csv('data/scala_2020/gene_counts.csv', index_col='gene')\n",
    "geneNames = np.array(list(rpkm.index))"
   ]
  },
  {
   "cell_type": "code",
   "execution_count": 7,
   "metadata": {},
   "outputs": [],
   "source": [
    "# Now specify for all the cells left what the cell type is (according to transcriptomic mappings)\n",
    "prop = pd.read_csv('data/scala_2020/mini-atlas-meta-data.csv', sep = '\\t')\n",
    "prop = prop.rename(columns = {'Sample': 'sample_id', 'Targeted layer': 'Layer'})\n",
    "prop = prop[['Cell', 'RNA type', 'sample_id', 'Layer', 'Cre', 'RNA type top-3']]\n",
    "sample_name = ['{}{}{}'.format(g.split('_')[0], g.split('_')[1], g.split('_')[2]) for g in prop['Cell']]\n",
    "prop['sample name'] = sample_name\n",
    "prop = prop.set_index('sample name')\n",
    "\n",
    "prop = prop.reindex(M1_ephys.index) # There could be more cells with ephys than manually labelled\n",
    "                                    # They will receive the Nan property\n",
    "prop = prop.fillna('')\n",
    "M1_Mapping = prop['RNA type']\n",
    "M1_Mapping[np.where(M1_Mapping == '')[0]] = 'low quality'\n",
    "number_labels = {c: i for i, c in enumerate(np.unique(M1_Mapping))}\n",
    "cellTypes = np.array([number_labels[cell_type] for cell_type in M1_Mapping])"
   ]
  },
  {
   "cell_type": "code",
   "execution_count": 8,
   "metadata": {},
   "outputs": [
    {
     "name": "stdout",
     "output_type": "stream",
     "text": [
      "Double check:\n",
      "\n",
      "RPKM shape:  (1000, 1213)\n",
      "ephys shape:  (1213, 16)\n",
      "cellTypes shape:  (1213,)\n"
     ]
    }
   ],
   "source": [
    "print('Double check:\\n')\n",
    "print('RPKM shape: ', rpkm.shape)\n",
    "print('ephys shape: ', M1_ephys.shape)\n",
    "print('cellTypes shape: ', cellTypes.shape)"
   ]
  },
  {
   "cell_type": "code",
   "execution_count": 9,
   "metadata": {},
   "outputs": [],
   "source": [
    "cellTypeColors = {'Lamp5 Pax6': '#DDACC9', 'Lamp5 Egln3_1': '#FF88AD', 'Lamp5 Egln3_2': '#DD8091', 'Lamp5 Egln3_3': '#F08E98',\n",
    " 'Lamp5 Pdlim5_1': '#FF7290', 'Lamp5 Pdlim5_2': '#FF8C97', 'Lamp5 Slc35d3': '#FFA388', 'Lamp5 Lhx6': '#C77963',\n",
    " 'Sncg Col14a1': '#7E0ACB', 'Sncg Slc17a8': '#9440F3', 'Sncg Calb1_1': '#9611B6', 'Sncg Calb1_2': '#9900B3',\n",
    " 'Sncg Npy2r': '#7A0099', 'Vip Sncg': '#AA4DB5', 'Vip Serpinf1_1': '#A720FF', 'Vip Serpinf1_2': '#AB1DFF',\n",
    " 'Vip Serpinf1_3': '#FF5FCD', 'Vip Htr1f': '#FF4DC1', 'Vip Gpc3': '#B09FFF', 'Vip C1ql1': '#BD3D9A',\n",
    " 'Vip Mybpc1_1': '#F70CF3', 'Vip Mybpc1_2': '#992E81', 'Vip Mybpc1_3': '#AB379C', 'Vip Chat_1': '#FF00FF',\n",
    " 'Vip Chat_2': '#B3128A', 'Vip Igfbp6_1': '#7779BF', 'Vip Igfbp6_2': '#626EB8', 'Sst Chodl': '#FFFF00',\n",
    " 'Sst Penk': '#FF8011', 'Sst Myh8_1': '#FF9F2C', 'Sst Myh8_2': '#FFB307', 'Sst Myh8_3': '#FFBF09',\n",
    " 'Sst Htr1a': '#BFAF00', 'Sst Etv1': '#FFB22B', 'Sst Pvalb Etv1': '#D9C566', 'Sst Crhr2_1': '#BE8652',\n",
    " 'Sst Crhr2_2': '#B0993C', 'Sst Hpse': '#CDB115', 'Sst Calb2': '#D2A328', 'Sst Pvalb Calb2': '#784F14',\n",
    " 'Sst Pappa': '#635821', 'Sst C1ql3_1': '#802600', 'Sst C1ql3_2': '#8A2B1A', 'Sst Tac2': '#804600',\n",
    " 'Sst Th_1': '#8C6012', 'Sst Th_2': '#A81111', 'Sst Th_3': '#9B211B', 'Pvalb Gabrg1': '#ED4C50',\n",
    " 'Pvalb Egfem1': '#C05661', 'Pvalb Gpr149': '#E62A5D', 'Pvalb Kank4': '#BC4B11', 'Pvalb Calb1_1': '#B6411E',\n",
    " 'Pvalb Calb1_2': '#BC2D71', 'Pvalb Reln': '#9C4165', 'Pvalb Il1rapl2': '#BC2C41', 'Pvalb Vipr2_1': '#FF197F',\n",
    " 'Pvalb Vipr2_2': '#F4358B', 'L2/3 IT_1': '#00FF34', 'L2/3 IT_2': '#07D945', 'L2/3 IT_3': '#2EB934',\n",
    " 'L4/5 IT_1': '#09CCC6', 'L4/5 IT_2': '#52B8AA', 'L5 IT_1': '#58D2C1', 'L5 IT_2': '#4A9F93', 'L5 IT_3': '#4EAC9C',\n",
    " 'L5 IT_4': '#52B4B8', 'L6 IT_1': '#B2AD23', 'L6 IT_2': '#81791F', 'L6 IT Car3': '#5100FF', 'L5 PT_1': '#0D5D7E',\n",
    " 'L5 PT_2': '#0B77A5', 'L5 PT_3': '#0B8AA5', 'L5 PT_4': '#0A75B1', 'L5/6 NP_1': '#48CB80', 'L5/6 NP_2': '#3C78BC',\n",
    " 'L5/6 NP_3': '#47867A', 'L5/6 NP CT': '#1AAB99', 'L6 CT Gpr139': '#168577', 'L6 CT Cpa6': '#338C5E', 'L6 CT Grp': '#2FBCE5',\n",
    " 'L6 CT Pou3f2': '#3E766C', 'L6 CT Kit_1': '#516B78', 'L6 CT Kit_2': '#557361', 'L6b Col6a1': '#69419D',\n",
    " 'L6b Shisa6_1': '#46306A', 'L6b Shisa6_2': '#464576', 'L6b Ror1': '#7044AA', 'L6b Kcnip1': '#573D90'}"
   ]
  },
  {
   "cell_type": "markdown",
   "metadata": {},
   "source": [
    "Normalize"
   ]
  },
  {
   "cell_type": "code",
   "execution_count": 10,
   "metadata": {},
   "outputs": [],
   "source": [
    "# Preprocess subset of the data in a systematic manner (library normalization and Z-scoring)\n",
    "geneNames = np.array(list(rpkm.index))\n",
    "Y = M1_ephys.values\n",
    "X = rpkm.values.astype(np.float).T\n",
    "X = X / np.sum(X, axis=1, keepdims=True) * \\\n",
    "                np.median(np.sum(X, axis=1, keepdims=True))\n",
    "\n",
    "# Log-transform\n",
    "X = np.log2(X + 1)\n",
    "\n",
    "# Sort out cells with nans in the transcriptomic data\n",
    "ind_non_nan = ~np.isnan(np.sum(X, axis=1))\n",
    "X = X[ind_non_nan, :]\n",
    "Y = Y[ind_non_nan, :]\n",
    "cellTypes = cellTypes[ind_non_nan]\n",
    "\n",
    "# Standardize Y\n",
    "mu = np.mean(Y, axis=0)\n",
    "Y = Y - mu\n",
    "sigma = np.std(Y, axis=0)\n",
    "Y = Y / sigma\n",
    "\n",
    "# Standardize X\n",
    "mu = np.mean(X, axis=0)\n",
    "X = X - mu\n",
    "sigma = np.std(X, axis=0)\n",
    "X = X / sigma\n",
    "\n",
    "X = X.astype('float32')\n",
    "Y = Y.astype('float32')"
   ]
  },
  {
   "cell_type": "markdown",
   "metadata": {},
   "source": [
    "Save"
   ]
  },
  {
   "cell_type": "code",
   "execution_count": 11,
   "metadata": {},
   "outputs": [],
   "source": [
    "data={'X':X, 'Y':Y, 'gene_names':geneNames, 'celltypes':cellTypes, 'map':M1_Mapping, \\\n",
    "      'ephys_features':M1_ephys.columns, 'colors':cellTypeColors}\n",
    "pickle.dump(data, open('data/scala_2020/scala2020.pickle', 'wb'))"
   ]
  },
  {
   "cell_type": "markdown",
   "metadata": {},
   "source": [
    "### Now the same for Scala et al but with ion channel genes"
   ]
  },
  {
   "cell_type": "code",
   "execution_count": 12,
   "metadata": {},
   "outputs": [
    {
     "name": "stdout",
     "output_type": "stream",
     "text": [
      "all cells with transcriptimic data:  (42184, 1320)\n",
      "After gene selection:  (427, 1320)\n",
      "After deleting genes that have less than 10 counts accross cells:  (423, 1320)\n",
      "cells with ephys properties:  1319\n",
      "cell with genetic but no ephys properties:  20190211sample10\n",
      "cells with ephys after elimination of cells with no rna-seq data:  1319\n",
      "cells with ephys properties after exclusion of certain cells\n",
      "(Nan ephys property or ephys and rna don't match):  1312\n",
      "All cells with ephys + transcriptomic data (after exclusion of Nan ephys property data):  (423, 1304)\n",
      "RPKM shape: (423, 1304)\n",
      "Ephys shape: (1304, 16)\n",
      "cellTypes shape: (1304,)\n",
      "ephys properties: AP amp, AP amp adapt, AP amp CV, AP thresh, AP width, AHP, AI, ISI CV, R_input, Max AP num, Tau, Rebound, V_rest, Rheobase, Sag, UDR\n"
     ]
    }
   ],
   "source": [
    "# Loading raw gene counts\n",
    "rpkm = pd.read_csv('data/scala_2020/final_patch_seq_allcells_exon_allreads.txt', sep='\\t')\n",
    "rpkm = rpkm.set_index('gene')\n",
    "new_keys = ['{}{}{}'.format(g.split('_')[0], g.split('_')[1], g.split('_')[2]) \\\n",
    "            for g in rpkm.keys().tolist()] # Changing column names\n",
    "rpkm.columns = new_keys\n",
    "print('all cells with transcriptimic data: ', rpkm.shape)\n",
    "\n",
    "# This time let us go with an analyis where we only look at ion channel genes\n",
    "# IonChannelGenes = pd.read_csv('./data/IonChannelGenes.txt', header = 0, sep = '\\t') # these are HUMAN\n",
    "IonChannelGenes = pd.read_csv('./data/GO_term_summary_20211104_075621.txt', header = 0, sep = '\\t')\n",
    "# # Convert capital gene names to name convention in our dataset\n",
    "# IonChannelGenes['Approved symbol'] = ['{}{}'.format(g[0], g[1:].lower()) for g in IonChannelGenes['Approved symbol']]\n",
    "# Let us find those genes that are in our dataset as well\n",
    "# ind_channel_genes_in_our_dataset = [gene in rpkm.index for gene in IonChannelGenes['Approved symbol']] # refered to HUMAN\n",
    "ind_channel_genes_in_our_dataset = [gene in rpkm.index for gene in IonChannelGenes['MGI Gene/Marker ID']]\n",
    "IonChannelGenes = IonChannelGenes.iloc[ind_channel_genes_in_our_dataset, :]\n",
    "\n",
    "# selectedGenes = np.array([gene in IonChannelGenes['Approved symbol'].values for gene in rpkm.index]) # refered to HUMAN\n",
    "selectedGenes = np.array([gene in IonChannelGenes['MGI Gene/Marker ID'].values for gene in rpkm.index])\n",
    "rpkm = rpkm.loc[selectedGenes, :]\n",
    "print('After gene selection: ', rpkm.shape)\n",
    "# Drop all genes with less than 10 counts accross cells\n",
    "rpkm = rpkm.loc[np.sum(rpkm, axis = 1) >= 10, :]\n",
    "print('After deleting genes that have less than 10 counts accross cells: ', rpkm.shape)\n",
    "\n",
    "# Loading raw ephys feature values\n",
    "M1_ephys = pd.read_csv('data/scala_2020/Cell_Features_M1.csv')\n",
    "M1_ephys = M1_ephys.drop(['Unnamed: 0'], axis=1)\n",
    "ephysProperties = ['AP amp FF', 'AP amp', 'AP amp adapt', 'AP amp average adapt', 'AP amp CV', 'AP thresh', \\\n",
    "                   'AP width', 'ADP', 'AHP', 'Burstiness', 'ISI FF',\n",
    "                    'AI', 'ISI average adapt', 'ISI CV', 'R_input', 'Latency', 'Max AP num', 'Tau',\n",
    "                   'Rebound',  'Rebound number of APs', 'V_rest', 'Rheobase', 'Sag area', 'Sag', 'Sag time', \\\n",
    "                   'SFA', 'UDR', 'Wildness']\n",
    "\n",
    "# Cells for which ephys properties are available:\n",
    "cells_w_ephys = ['{}{}{}{}{}'.format(g.split('/')[-1].split(' ')[2], g.split('/')[-1].split(' ')[0], \\\n",
    "                                     g.split('/')[-1].split(' ')[1], 'sample', \\\n",
    "                                     g.split('/')[-1].split(' ')[-1].split('.')[0]) \\\n",
    "                  for g in M1_ephys['name sample'].tolist()]\n",
    "\n",
    "M1_ephys['Name sample'] = cells_w_ephys\n",
    "M1_ephys = M1_ephys.drop(['name sample'], axis = 1)\n",
    "M1_ephys = M1_ephys.rename(columns = {'Name sample': 'name sample'})\n",
    "M1_ephys = M1_ephys.set_index('name sample')\n",
    "\n",
    "M1_ephys.columns = ephysProperties\n",
    "\n",
    "print('cells with ephys properties: ', len(cells_w_ephys))\n",
    "\n",
    "# Find the cells first for which ephys properties are available but no genetic properties.\n",
    "# Delete these from cells_w_ephys\n",
    "no_gene = []\n",
    "for cell in cells_w_ephys:\n",
    "    if cell not in rpkm.columns:\n",
    "        print('cell with ephys but no genetic properties: ', cell)\n",
    "        no_gene.append(cell)\n",
    "for cell in no_gene:\n",
    "    cells_w_ephys.remove(cell)\n",
    "\n",
    "no_ephys = []\n",
    "for cell in rpkm.keys():\n",
    "    if cell not in M1_ephys.index:\n",
    "        print('cell with genetic but no ephys properties: ', cell)\n",
    "        no_ephys.append(cell)\n",
    "# Scrap the ephys cells for which no genetic info exists\n",
    "M1_ephys = M1_ephys.loc[cells_w_ephys]\n",
    "print('cells with ephys after elimination of cells with no rna-seq data: ', len(cells_w_ephys))\n",
    "\n",
    "\n",
    "# Drop cells where the ephys and rna don't match\n",
    "M1_ephys = M1_ephys.drop(['20180315sample6'], axis = 0) # FS firing but excitatory RNA\n",
    "M1_ephys = M1_ephys.drop(['20180321sample4'], axis = 0) # MC firing and morphology but excitatory RNA\n",
    "M1_ephys = M1_ephys.drop(['20181116sample10'], axis = 0) # FS firing but excitatory RNA\n",
    "M1_ephys = M1_ephys.drop(['20190325sample2'], axis = 0) # FS firing but excitatory RNA\n",
    "M1_ephys = M1_ephys.drop(['20190611sample1'], axis = 0) # mismatch (L1 firing and morphology but excitatory RNA)\n",
    "M1_ephys = M1_ephys.drop(['20190611sample11'], axis = 0) # mismatch (L1 firing and morphology but excitatory RNA)\n",
    "M1_ephys = M1_ephys.drop(['20190704sample2'], axis = 0) # outside of M1\n",
    "print(\"cells with ephys properties after exclusion of certain cells\\n(Nan ephys property or ephys and rna don't match): \", \\\n",
    "              len(M1_ephys.index))\n",
    "\n",
    "# Feature transformations\n",
    "# According to the stripplot, certain transformations of some properties are in place\n",
    "M1_ephys = M1_ephys.drop('SFA', axis = 1)\n",
    "M1_ephys['AI'] = np.log(M1_ephys['AI'])\n",
    "M1_ephys['ISI FF'] = np.log(M1_ephys['ISI FF'])\n",
    "M1_ephys['ISI CV'] = np.log(M1_ephys['ISI CV'])\n",
    "M1_ephys['AP amp CV'] = np.log(M1_ephys['AP amp CV'])\n",
    "M1_ephys['AP amp FF'] = np.log(M1_ephys['AP amp FF'])\n",
    "M1_ephys['Latency'] = np.log(M1_ephys['Latency'])\n",
    "\n",
    "select = True    # Set to True if you'd like to drop certain features for certain reasons (see comments)\n",
    "if select:       #!!!!! Make sure that SFA is already dropped\n",
    "    M1_ephys = M1_ephys.drop('ADP', axis=1)                 # too much of a 0 or something feature\n",
    "    M1_ephys = M1_ephys.drop('Sag time', axis=1)            # sag should be meaningfull enough (we don't want too many corr.)\n",
    "                                                            # it also has too many 0's\n",
    "    M1_ephys = M1_ephys.drop('Sag area', axis=1)            # sag should be meaningfull enough (we don't want too many corr.)\n",
    "                                                            # it also has too many 0's\n",
    "    M1_ephys = M1_ephys.drop('AP amp FF', axis=1)           # the log is heavily correlated with log(AP_cv)\n",
    "    M1_ephys = M1_ephys.drop('ISI FF', axis=1)              # the log is heavily correlated with log(cv)\n",
    "    M1_ephys = M1_ephys.drop('Wildness', axis=1)            # too much of a 0 or something feature\n",
    "    M1_ephys = M1_ephys.drop('Rebound number of APs', axis=1) # too much of a 0 or something feature\n",
    "    M1_ephys = M1_ephys.drop('ISI average adapt', axis=1)   # too skewed of a feature\n",
    "    M1_ephys = M1_ephys.drop('AP amp average adapt', axis=1)  # too skewed of a feature\n",
    "    M1_ephys = M1_ephys.drop('Burstiness', axis=1)          # too many cells have zero for this feature\n",
    "    M1_ephys = M1_ephys.drop('Latency', axis=1)             # too many outliers\n",
    "\n",
    "ephysProperties = M1_ephys.keys()\n",
    "\n",
    "M1_ephys = M1_ephys.dropna() # We drop Nans only here because SFA causes too many Nans and we don't want to lose too much data\n",
    "\n",
    "# Now delete all the cells with genetic data for which no ephys properties exist\n",
    "rpkm = rpkm[list(M1_ephys.index)]\n",
    "print('All cells with ephys + transcriptomic data (after exclusion of Nan ephys property data): ', rpkm.shape)\n",
    "M1_ephys = M1_ephys.reindex(rpkm.columns)\n",
    "\n",
    "# Now specify for all the cells left what the cell type is (according to transcriptomic mappings)\n",
    "prop = pd.read_csv('data/scala_2020/mini-atlas-meta-data.csv', sep = '\\t')\n",
    "prop = prop.rename(columns = {'Sample': 'sample_id', 'Targeted layer': 'Layer'})\n",
    "prop = prop[['Cell', 'RNA type', 'sample_id', 'Layer', 'Cre', 'RNA type top-3']]\n",
    "sample_name = ['{}{}{}'.format(g.split('_')[0], g.split('_')[1], g.split('_')[2]) for g in prop['Cell']]\n",
    "prop['sample name'] = sample_name\n",
    "prop = prop.set_index('sample name')\n",
    "prop = prop.reindex(M1_ephys.index) # There could be more cells with ephys than manually labelled\n",
    "                                    # They will receive the Nan property\n",
    "prop = prop.fillna('')\n",
    "M1_Allen_Mapping = prop['RNA type']\n",
    "M1_Allen_Mapping[np.where(M1_Allen_Mapping == '')[0]] = 'low quality'\n",
    "number_labels = {c: i for i, c in enumerate(np.unique(M1_Allen_Mapping))}\n",
    "cellTypes = np.array([number_labels[cell_type] for cell_type in M1_Allen_Mapping])\n",
    "\n",
    "# Double-check\n",
    "print('RPKM shape:', rpkm.shape)\n",
    "print('Ephys shape:', M1_ephys.shape)\n",
    "print('cellTypes shape:', cellTypes.shape)\n",
    "print('ephys properties:', ', '.join(ephysProperties))"
   ]
  },
  {
   "cell_type": "code",
   "execution_count": 14,
   "metadata": {},
   "outputs": [
    {
     "name": "stdout",
     "output_type": "stream",
     "text": [
      "RPKM shape: (423, 1213)\n",
      "Ephys shape: (1213, 16)\n"
     ]
    }
   ],
   "source": [
    "# We are not interested in low quality rna cells\n",
    "M1_ephys = M1_ephys.loc[cellTypes!=77]\n",
    "rpkm = rpkm.T.loc[cellTypes!=77, :].T\n",
    "print('RPKM shape:', rpkm.shape)\n",
    "print('Ephys shape:', M1_ephys.shape)"
   ]
  },
  {
   "cell_type": "code",
   "execution_count": 15,
   "metadata": {},
   "outputs": [],
   "source": [
    "rpkm.to_csv('data/scala_2020/gene_counts_ion_channel_genes.csv')\n",
    "# ephys didn't change"
   ]
  },
  {
   "cell_type": "code",
   "execution_count": 16,
   "metadata": {},
   "outputs": [],
   "source": [
    "M1_ephys = pd.read_csv('data/scala_2020/ephys_values.csv', index_col=0)\n",
    "rpkm = pd.read_csv('data/scala_2020/gene_counts_ion_channel_genes.csv', index_col='gene')\n",
    "geneNames = np.array(list(rpkm.index))"
   ]
  },
  {
   "cell_type": "code",
   "execution_count": 17,
   "metadata": {},
   "outputs": [],
   "source": [
    "# Now specify for all the cells left what the cell type is (according to transcriptomic mappings)\n",
    "prop = pd.read_csv('data/scala_2020/mini-atlas-meta-data.csv', sep = '\\t')\n",
    "prop = prop.rename(columns = {'Sample': 'sample_id', 'Targeted layer': 'Layer'})\n",
    "prop = prop[['Cell', 'RNA type', 'sample_id', 'Layer', 'Cre', 'RNA type top-3']]\n",
    "sample_name = ['{}{}{}'.format(g.split('_')[0], g.split('_')[1], g.split('_')[2]) for g in prop['Cell']]\n",
    "prop['sample name'] = sample_name\n",
    "prop = prop.set_index('sample name')\n",
    "\n",
    "prop = prop.reindex(M1_ephys.index) # There could be more cells with ephys than manually labelled\n",
    "                                    # They will receive the Nan property\n",
    "prop = prop.fillna('')\n",
    "M1_Mapping = prop['RNA type']\n",
    "M1_Mapping[np.where(M1_Mapping == '')[0]] = 'low quality'\n",
    "number_labels = {c: i for i, c in enumerate(np.unique(M1_Mapping))}\n",
    "cellTypes = np.array([number_labels[cell_type] for cell_type in M1_Mapping])"
   ]
  },
  {
   "cell_type": "code",
   "execution_count": 18,
   "metadata": {},
   "outputs": [
    {
     "name": "stdout",
     "output_type": "stream",
     "text": [
      "Double check:\n",
      "\n",
      "RPKM shape:  (423, 1213)\n",
      "ephys shape:  (1213, 16)\n",
      "cellTypes shape:  (1213,)\n"
     ]
    }
   ],
   "source": [
    "print('Double check:\\n')\n",
    "print('RPKM shape: ', rpkm.shape)\n",
    "print('ephys shape: ', M1_ephys.shape)\n",
    "print('cellTypes shape: ', cellTypes.shape)"
   ]
  },
  {
   "cell_type": "code",
   "execution_count": 19,
   "metadata": {},
   "outputs": [],
   "source": [
    "# Preprocess subset of the data in a systematic manner (library normalization and Z-scoring)\n",
    "geneNames = np.array(list(rpkm.index))\n",
    "Y = M1_ephys.values\n",
    "X = rpkm.values.astype(np.float).T\n",
    "X = X / np.sum(X, axis=1, keepdims=True) * \\\n",
    "                np.median(np.sum(X, axis=1, keepdims=True))\n",
    "\n",
    "# Log-transform\n",
    "X = np.log2(X + 1)\n",
    "\n",
    "# Sort out cells with nans in the transcriptomic data\n",
    "ind_non_nan = ~np.isnan(np.sum(X, axis=1))\n",
    "X = X[ind_non_nan, :]\n",
    "Y = Y[ind_non_nan, :]\n",
    "cellTypes = cellTypes[ind_non_nan]\n",
    "\n",
    "# Standardize Y\n",
    "mu = np.mean(Y, axis=0)\n",
    "Y = Y - mu\n",
    "sigma = np.std(Y, axis=0)\n",
    "Y = Y / sigma\n",
    "\n",
    "# Standardize X\n",
    "mu = np.mean(X, axis=0)\n",
    "X = X - mu\n",
    "sigma = np.std(X, axis=0)\n",
    "X = X / sigma\n",
    "\n",
    "X = X.astype('float32')\n",
    "Y = Y.astype('float32')"
   ]
  },
  {
   "cell_type": "code",
   "execution_count": 20,
   "metadata": {},
   "outputs": [],
   "source": [
    "data={'X':X, 'Y':Y, 'gene_names':geneNames, 'celltypes':cellTypes, 'map':M1_Mapping, \\\n",
    "      'ephys_features':M1_ephys.columns, 'colors':cellTypeColors}\n",
    "pickle.dump(data, open('data/scala_2020/scala2020_with_ion_channel_genes.pickle', 'wb'))"
   ]
  },
  {
   "cell_type": "markdown",
   "metadata": {},
   "source": [
    "# Loading Gouwens 2020 data"
   ]
  },
  {
   "cell_type": "markdown",
   "metadata": {},
   "source": [
    "Gouwens data has been largely preprocessed already. Check https://github.com/AllenInstitute/coupledAE-patchseq/tree/cplAE-TE/refactor ."
   ]
  },
  {
   "cell_type": "code",
   "execution_count": 3,
   "metadata": {},
   "outputs": [],
   "source": [
    "# copied the utils directory from coupledAE-patchseq-cplAE-TE in this directory\n",
    "from data.gouwens_2020.dataset import load_bioarxiv_dataset,partitions, Datagen"
   ]
  },
  {
   "cell_type": "code",
   "execution_count": 4,
   "metadata": {},
   "outputs": [],
   "source": [
    "D = load_bioarxiv_dataset('./data/gouwens_2020/')\n",
    "XT = D['T_dat']\n",
    "XE = D['E_pcipfx']\n",
    "T_dim = XT.shape[1]\n",
    "E_dim = XE.shape[1]"
   ]
  },
  {
   "cell_type": "code",
   "execution_count": 5,
   "metadata": {},
   "outputs": [
    {
     "name": "stdout",
     "output_type": "stream",
     "text": [
      "Dataset contains  3411 neurons. We have 68 ephys features and 1252 different genes.\n"
     ]
    }
   ],
   "source": [
    "print('Dataset contains ', XT.shape[0], 'neurons. We have', E_dim, 'ephys features and', T_dim, 'different genes.')"
   ]
  },
  {
   "cell_type": "markdown",
   "metadata": {},
   "source": [
    "Dataset already normalized but we're deleting cells with Nan ephys and keep only certain electrophysiological features that behave well (one cell was a consistent outlier and some ephys features are already too correlated with other ones)."
   ]
  },
  {
   "cell_type": "code",
   "execution_count": 15,
   "metadata": {},
   "outputs": [],
   "source": [
    "Y = XE.copy()\n",
    "X = XT.copy()\n",
    "\n",
    "# Sort out cells with nans in the ephys data\n",
    "ind_non_nan = ~np.isnan(np.sum(Y, axis=1))\n",
    "X = X[ind_non_nan, :]\n",
    "Y = Y[ind_non_nan, :]\n",
    "cellTypes = D['cluster_id']\n",
    "cellTypes = cellTypes[ind_non_nan]\n",
    "\n",
    "X = X.astype('float32')\n",
    "Y = Y.astype('float32')"
   ]
  },
  {
   "cell_type": "code",
   "execution_count": 16,
   "metadata": {},
   "outputs": [],
   "source": [
    "features_to_drop=['spc0 spk. fast trough v',\n",
    " 'long sq. stim. amp.',\n",
    " 'spc1 step subthr.',\n",
    " 'spc1 subthr. norm',\n",
    " 'long sq. AP1 up-down ratio',\n",
    " 'long sq. AP1 peak v',\n",
    " 'long sq. AP1 threshold v',\n",
    " 'long sq. AP1 width',\n",
    " 'short sq. AP1 width',\n",
    " 'spc1 inst. freq.',\n",
    " 'spc3 inst. freq.',\n",
    " 'long sq. AP1 downstroke',\n",
    " 'spc2 inst. freq.']"
   ]
  },
  {
   "cell_type": "code",
   "execution_count": 17,
   "metadata": {},
   "outputs": [
    {
     "data": {
      "text/plain": [
       "[30, 67, 15, 17, 62, 59, 58, 63, 49, 21, 23, 61, 22]"
      ]
     },
     "execution_count": 17,
     "metadata": {},
     "output_type": "execute_result"
    }
   ],
   "source": [
    "features_to_drop_indices=[]\n",
    "for el in features_to_drop:\n",
    "    features_to_drop_indices.append(np.where(D['pcipfx_names']==el)[0][0])\n",
    "features_to_drop_indices"
   ]
  },
  {
   "cell_type": "markdown",
   "metadata": {},
   "source": [
    "We do, however, Z-score the ephys and gene data, especially because we want to do sRRR (sparse reduced-rank regression) and meaningfully compare to it with our sBNN."
   ]
  },
  {
   "cell_type": "code",
   "execution_count": 18,
   "metadata": {},
   "outputs": [],
   "source": [
    "Y = np.delete(Y,features_to_drop_indices,axis=1)\n",
    "Y = Y-np.mean(Y,axis=0)\n",
    "Y = Y/np.std(Y,axis=0)\n",
    "X = X-np.mean(X,axis=0)\n",
    "X = X/np.std(X,axis=0)"
   ]
  },
  {
   "cell_type": "code",
   "execution_count": 19,
   "metadata": {},
   "outputs": [
    {
     "name": "stdout",
     "output_type": "stream",
     "text": [
      "After kicking out Nan ephys neurons the dataset contains  3395 neurons. We have 55 ephys features and 1252 different genes.\n"
     ]
    }
   ],
   "source": [
    "print('After kicking out Nan ephys neurons the dataset contains ', X.shape[0], \\\n",
    "      'neurons. We have', Y.shape[1], 'ephys features and', T_dim, 'different genes.')"
   ]
  },
  {
   "cell_type": "code",
   "execution_count": 20,
   "metadata": {},
   "outputs": [],
   "source": [
    "Gouwens_Mapping={}\n",
    "for i in range(D['sample_id'][ind_non_nan].shape[0]):\n",
    "    Gouwens_Mapping.update({D['sample_id'][ind_non_nan][i]:D['cluster'][ind_non_nan][i]})\n",
    "Gouwens_Colors={}\n",
    "for i in range(D['sample_id'][ind_non_nan].shape[0]):\n",
    "    Gouwens_Colors.update({D['sample_id'][ind_non_nan][i]:D['cluster_color'][ind_non_nan][i]})"
   ]
  },
  {
   "cell_type": "code",
   "execution_count": 21,
   "metadata": {},
   "outputs": [],
   "source": [
    "data={'X':X, 'Y':Y, 'gene_names':D['gene_id'], 'celltypes':D['cluster_id'][ind_non_nan], 'map':Gouwens_Mapping, \\\n",
    "      'ephys_features': np.delete(D['pcipfx_names'], features_to_drop_indices), 'colors':Gouwens_Colors}\n",
    "pickle.dump(data, open('data/gouwens_2020/gouwens2020.pickle', 'wb'))"
   ]
  },
  {
   "cell_type": "code",
   "execution_count": 22,
   "metadata": {},
   "outputs": [
    {
     "name": "stdout",
     "output_type": "stream",
     "text": [
      "Double check:\n",
      "\n",
      "genes shape:  (3395, 1252)\n",
      "ephys shape:  (3395, 55)\n",
      "cellTypes shape:  (3395,)\n"
     ]
    }
   ],
   "source": [
    "print('Double check:\\n')\n",
    "print('genes shape: ', data['X'].shape)\n",
    "print('ephys shape: ', data['Y'].shape)\n",
    "print('cellTypes shape: ', data['celltypes'].shape)"
   ]
  },
  {
   "cell_type": "code",
   "execution_count": 26,
   "metadata": {},
   "outputs": [],
   "source": [
    "# Preprocess subset of the data in a systematic manner (library normalization and Z-scoring)\n",
    "geneNames = np.array(list(rpkm.index))\n",
    "Y = M1_ephys.values\n",
    "X = rpkm.values.astype(np.float).T\n",
    "X = X / np.sum(X, axis=1, keepdims=True) * \\\n",
    "                np.median(np.sum(X, axis=1, keepdims=True))\n",
    "\n",
    "# Log-transform\n",
    "X = np.log2(X + 1)\n",
    "\n",
    "# Sort out cells with nans in the transcriptomic data\n",
    "ind_non_nan = ~np.isnan(np.sum(X, axis=1))\n",
    "X = X[ind_non_nan, :]\n",
    "Y = Y[ind_non_nan, :]\n",
    "cellTypes = cellTypes[ind_non_nan]\n",
    "\n",
    "# Standardize Y\n",
    "mu = np.mean(Y, axis=0)\n",
    "Y = Y - mu\n",
    "sigma = np.std(Y, axis=0)\n",
    "Y = Y / sigma\n",
    "\n",
    "# Standardize X\n",
    "mu = np.mean(X, axis=0)\n",
    "X = X - mu\n",
    "sigma = np.std(X, axis=0)\n",
    "X = X / sigma\n",
    "\n",
    "X = X.astype('float32')\n",
    "Y = Y.astype('float32')"
   ]
  },
  {
   "cell_type": "code",
   "execution_count": 29,
   "metadata": {},
   "outputs": [],
   "source": [
    "data={'X':X, 'Y':Y, 'gene_names':geneNames, 'celltypes':cellTypes, 'map':M1_Mapping, \\\n",
    "      'ephys_features':M1_ephys.columns, 'colors':cellTypeColors}\n",
    "pickle.dump(data, open('data/scala_2020/scala2020_with_ion_channel_genes.pickle', 'wb'))"
   ]
  },
  {
   "cell_type": "markdown",
   "metadata": {},
   "source": [
    "# Loading Stoeckius 2017 data"
   ]
  },
  {
   "cell_type": "code",
   "execution_count": 2,
   "metadata": {},
   "outputs": [
    {
     "data": {
      "text/html": [
       "<div>\n",
       "<style scoped>\n",
       "    .dataframe tbody tr th:only-of-type {\n",
       "        vertical-align: middle;\n",
       "    }\n",
       "\n",
       "    .dataframe tbody tr th {\n",
       "        vertical-align: top;\n",
       "    }\n",
       "\n",
       "    .dataframe thead th {\n",
       "        text-align: right;\n",
       "    }\n",
       "</style>\n",
       "<table border=\"1\" class=\"dataframe\">\n",
       "  <thead>\n",
       "    <tr style=\"text-align: right;\">\n",
       "      <th></th>\n",
       "      <th>tsne1</th>\n",
       "      <th>tsne2</th>\n",
       "      <th>cluster</th>\n",
       "      <th>type</th>\n",
       "    </tr>\n",
       "    <tr>\n",
       "      <th>bar_id</th>\n",
       "      <th></th>\n",
       "      <th></th>\n",
       "      <th></th>\n",
       "      <th></th>\n",
       "    </tr>\n",
       "  </thead>\n",
       "  <tbody>\n",
       "    <tr>\n",
       "      <th>ATCATGGAGTAGGCCA</th>\n",
       "      <td>48.058009</td>\n",
       "      <td>16.400889</td>\n",
       "      <td>14</td>\n",
       "      <td>CD16 mono</td>\n",
       "    </tr>\n",
       "    <tr>\n",
       "      <th>TGACTAGAGGATCGCA</th>\n",
       "      <td>5.954810</td>\n",
       "      <td>28.816653</td>\n",
       "      <td>5</td>\n",
       "      <td>NK</td>\n",
       "    </tr>\n",
       "    <tr>\n",
       "      <th>GACCAATAGGGTATCG</th>\n",
       "      <td>-49.564798</td>\n",
       "      <td>7.253713</td>\n",
       "      <td>6</td>\n",
       "      <td>Pre</td>\n",
       "    </tr>\n",
       "    <tr>\n",
       "      <th>CTTAACTGTGGCGAAT</th>\n",
       "      <td>49.557221</td>\n",
       "      <td>15.614583</td>\n",
       "      <td>14</td>\n",
       "      <td>CD16 mono</td>\n",
       "    </tr>\n",
       "    <tr>\n",
       "      <th>TGCTACCAGTCATCCA</th>\n",
       "      <td>-49.605822</td>\n",
       "      <td>7.347255</td>\n",
       "      <td>6</td>\n",
       "      <td>Pre</td>\n",
       "    </tr>\n",
       "  </tbody>\n",
       "</table>\n",
       "</div>"
      ],
      "text/plain": [
       "                      tsne1      tsne2  cluster       type\n",
       "bar_id                                                    \n",
       "ATCATGGAGTAGGCCA  48.058009  16.400889       14  CD16 mono\n",
       "TGACTAGAGGATCGCA   5.954810  28.816653        5         NK\n",
       "GACCAATAGGGTATCG -49.564798   7.253713        6        Pre\n",
       "CTTAACTGTGGCGAAT  49.557221  15.614583       14  CD16 mono\n",
       "TGCTACCAGTCATCCA -49.605822   7.347255        6        Pre"
      ]
     },
     "execution_count": 2,
     "metadata": {},
     "output_type": "execute_result"
    }
   ],
   "source": [
    "meta_data=pd.read_csv('./data/stoeckius_2017/CBMC_clustering.csv')\n",
    "meta_data=meta_data.rename({'cell_barcode': 'bar_id'}, axis=1)\n",
    "meta_data=meta_data.set_index('bar_id')\n",
    "meta_data.fillna('NaN', inplace=True)\n",
    "# Kick out cells that received no majour cord blood cell type or are not immune cells (yet)\n",
    "keep=(meta_data.loc[:,'type']!='NaN') & (meta_data.loc[:,'type']!='Ery') \n",
    "meta_data=meta_data.loc[keep,:]\n",
    "meta_data.head()"
   ]
  },
  {
   "cell_type": "markdown",
   "metadata": {},
   "source": [
    "First we deduce the colours the researcher used for their original tSNE map."
   ]
  },
  {
   "cell_type": "code",
   "execution_count": 3,
   "metadata": {},
   "outputs": [],
   "source": [
    "import cv2\n",
    "from sklearn.cluster import KMeans\n",
    "from collections import Counter\n",
    "import matplotlib.pyplot as plt\n",
    "\n",
    "def get_image(image_path):\n",
    "    image = cv2.imread(image_path)\n",
    "    image = cv2.cvtColor(image, cv2.COLOR_BGR2RGB)\n",
    "    return image\n",
    "\n",
    "def RGB2HEX(color):\n",
    "    return \"#{:02x}{:02x}{:02x}\".format(int(color[0]), int(color[1]), int(color[2]))"
   ]
  },
  {
   "cell_type": "code",
   "execution_count": 4,
   "metadata": {},
   "outputs": [],
   "source": [
    "image=get_image('./data/stoeckius_2017/original_tsne.JPG')\n",
    "modified_image = cv2.resize(image, (600, 400), interpolation = cv2.INTER_AREA)\n",
    "modified_image = modified_image.reshape(modified_image.shape[0]*modified_image.shape[1], 3)"
   ]
  },
  {
   "cell_type": "code",
   "execution_count": 5,
   "metadata": {},
   "outputs": [],
   "source": [
    "number_of_colors=13\n",
    "clf = KMeans(n_clusters = number_of_colors)\n",
    "labels = clf.fit_predict(modified_image)"
   ]
  },
  {
   "cell_type": "code",
   "execution_count": 6,
   "metadata": {},
   "outputs": [
    {
     "data": {
      "text/plain": [
       "[array([254.14177141, 254.33976642, 253.62459143]),\n",
       " array([206.10646833, 108.67156945,  58.98228314]),\n",
       " array([173.37997699, 207.03605677, 189.01806674]),\n",
       " array([246.88341589, 235.89018349,  77.73641247]),\n",
       " array([73.33169643, 69.06294643, 87.74151786]),\n",
       " array([246.44821298, 233.68234865, 164.64514953]),\n",
       " array([108.78573434, 171.39511373, 221.34358326]),\n",
       " array([194.05483959,  45.46558815,  51.3243762 ]),\n",
       " array([205.21715104, 151.3763815 , 135.04707327]),\n",
       " array([224.44540596, 231.37193518, 222.18647663]),\n",
       " array([117.04816223, 151.5887199 , 111.83618504]),\n",
       " array([195.9266481 ,  25.26508821, 135.83797586]),\n",
       " array([16.0283091 , 17.56771232, 15.65110941])]"
      ]
     },
     "execution_count": 6,
     "metadata": {},
     "output_type": "execute_result"
    },
    {
     "data": {
      "image/png": "[encoded data removed]",
      "text/plain": [
       "<Figure size 1080x864 with 1 Axes>"
      ]
     },
     "metadata": {},
     "output_type": "display_data"
    }
   ],
   "source": [
    "counts = Counter(labels)\n",
    "show_chart=True\n",
    "\n",
    "center_colors = clf.cluster_centers_\n",
    "# We get ordered colors by iterating through the keys\n",
    "ordered_colors = [center_colors[i] for i in counts.keys()]\n",
    "hex_colors = [RGB2HEX(ordered_colors[i]) for i in counts.keys()]\n",
    "rgb_colors = [ordered_colors[i] for i in counts.keys()]\n",
    "\n",
    "if (show_chart):\n",
    "    plt.figure(figsize = (15, 12))\n",
    "    plt.pie(counts.values(), labels = hex_colors, colors = hex_colors)\n",
    "\n",
    "rgb_colors"
   ]
  },
  {
   "cell_type": "code",
   "execution_count": 7,
   "metadata": {},
   "outputs": [],
   "source": [
    "Stoeckius_mapping={'B': '#c31987', 'CD14 mono': '#f6eb4d',\n",
    "                   'CD16 mono': '#75976f', 'CD4 T': '#adcfbd',\n",
    "                   'CD8 T': '#c22d33', 'DC': '#ce6c3a',\n",
    "                   'Ery': '#494557', 'NK': '#6cabdd',\n",
    "                   'Pre':'#cd9686'}\n",
    "#'NaN': '#10110f' "
   ]
  },
  {
   "cell_type": "code",
   "execution_count": 8,
   "metadata": {},
   "outputs": [
    {
     "data": {
      "text/html": [
       "<div>\n",
       "<style scoped>\n",
       "    .dataframe tbody tr th:only-of-type {\n",
       "        vertical-align: middle;\n",
       "    }\n",
       "\n",
       "    .dataframe tbody tr th {\n",
       "        vertical-align: top;\n",
       "    }\n",
       "\n",
       "    .dataframe thead th {\n",
       "        text-align: right;\n",
       "    }\n",
       "</style>\n",
       "<table border=\"1\" class=\"dataframe\">\n",
       "  <thead>\n",
       "    <tr style=\"text-align: right;\">\n",
       "      <th></th>\n",
       "      <th>A1BG</th>\n",
       "      <th>A1BG-AS1</th>\n",
       "      <th>A1CF</th>\n",
       "      <th>A2M</th>\n",
       "      <th>A2M-AS1</th>\n",
       "      <th>A2ML1</th>\n",
       "      <th>A4GALT</th>\n",
       "      <th>A4GNT</th>\n",
       "      <th>AAAS</th>\n",
       "      <th>AACS</th>\n",
       "      <th>...</th>\n",
       "      <th>ZZEF1</th>\n",
       "      <th>ZZZ3</th>\n",
       "      <th>hsa-mir-1199</th>\n",
       "      <th>hsa-mir-125a</th>\n",
       "      <th>hsa-mir-335</th>\n",
       "      <th>hsa-mir-4259</th>\n",
       "      <th>hsa-mir-490</th>\n",
       "      <th>hsa-mir-5195</th>\n",
       "      <th>hsa-mir-6080</th>\n",
       "      <th>hsa-mir-7515</th>\n",
       "    </tr>\n",
       "    <tr>\n",
       "      <th>bar_id</th>\n",
       "      <th></th>\n",
       "      <th></th>\n",
       "      <th></th>\n",
       "      <th></th>\n",
       "      <th></th>\n",
       "      <th></th>\n",
       "      <th></th>\n",
       "      <th></th>\n",
       "      <th></th>\n",
       "      <th></th>\n",
       "      <th></th>\n",
       "      <th></th>\n",
       "      <th></th>\n",
       "      <th></th>\n",
       "      <th></th>\n",
       "      <th></th>\n",
       "      <th></th>\n",
       "      <th></th>\n",
       "      <th></th>\n",
       "      <th></th>\n",
       "      <th></th>\n",
       "    </tr>\n",
       "  </thead>\n",
       "  <tbody>\n",
       "    <tr>\n",
       "      <th>ATCATGGAGTAGGCCA</th>\n",
       "      <td>0</td>\n",
       "      <td>0</td>\n",
       "      <td>0</td>\n",
       "      <td>0</td>\n",
       "      <td>0</td>\n",
       "      <td>0</td>\n",
       "      <td>0</td>\n",
       "      <td>0</td>\n",
       "      <td>0</td>\n",
       "      <td>0</td>\n",
       "      <td>...</td>\n",
       "      <td>0</td>\n",
       "      <td>0</td>\n",
       "      <td>0</td>\n",
       "      <td>0</td>\n",
       "      <td>0</td>\n",
       "      <td>0</td>\n",
       "      <td>0</td>\n",
       "      <td>0</td>\n",
       "      <td>0</td>\n",
       "      <td>0</td>\n",
       "    </tr>\n",
       "    <tr>\n",
       "      <th>TGACTAGAGGATCGCA</th>\n",
       "      <td>0</td>\n",
       "      <td>0</td>\n",
       "      <td>0</td>\n",
       "      <td>0</td>\n",
       "      <td>0</td>\n",
       "      <td>1</td>\n",
       "      <td>0</td>\n",
       "      <td>0</td>\n",
       "      <td>0</td>\n",
       "      <td>0</td>\n",
       "      <td>...</td>\n",
       "      <td>0</td>\n",
       "      <td>0</td>\n",
       "      <td>0</td>\n",
       "      <td>0</td>\n",
       "      <td>0</td>\n",
       "      <td>0</td>\n",
       "      <td>0</td>\n",
       "      <td>0</td>\n",
       "      <td>0</td>\n",
       "      <td>0</td>\n",
       "    </tr>\n",
       "    <tr>\n",
       "      <th>GACCAATAGGGTATCG</th>\n",
       "      <td>0</td>\n",
       "      <td>0</td>\n",
       "      <td>0</td>\n",
       "      <td>0</td>\n",
       "      <td>0</td>\n",
       "      <td>0</td>\n",
       "      <td>0</td>\n",
       "      <td>0</td>\n",
       "      <td>1</td>\n",
       "      <td>0</td>\n",
       "      <td>...</td>\n",
       "      <td>0</td>\n",
       "      <td>0</td>\n",
       "      <td>0</td>\n",
       "      <td>0</td>\n",
       "      <td>0</td>\n",
       "      <td>0</td>\n",
       "      <td>0</td>\n",
       "      <td>0</td>\n",
       "      <td>0</td>\n",
       "      <td>0</td>\n",
       "    </tr>\n",
       "    <tr>\n",
       "      <th>CTTAACTGTGGCGAAT</th>\n",
       "      <td>0</td>\n",
       "      <td>0</td>\n",
       "      <td>0</td>\n",
       "      <td>0</td>\n",
       "      <td>0</td>\n",
       "      <td>0</td>\n",
       "      <td>0</td>\n",
       "      <td>0</td>\n",
       "      <td>0</td>\n",
       "      <td>0</td>\n",
       "      <td>...</td>\n",
       "      <td>2</td>\n",
       "      <td>0</td>\n",
       "      <td>0</td>\n",
       "      <td>0</td>\n",
       "      <td>0</td>\n",
       "      <td>0</td>\n",
       "      <td>0</td>\n",
       "      <td>0</td>\n",
       "      <td>0</td>\n",
       "      <td>0</td>\n",
       "    </tr>\n",
       "    <tr>\n",
       "      <th>TGCTACCAGTCATCCA</th>\n",
       "      <td>0</td>\n",
       "      <td>0</td>\n",
       "      <td>0</td>\n",
       "      <td>0</td>\n",
       "      <td>0</td>\n",
       "      <td>0</td>\n",
       "      <td>0</td>\n",
       "      <td>0</td>\n",
       "      <td>1</td>\n",
       "      <td>0</td>\n",
       "      <td>...</td>\n",
       "      <td>0</td>\n",
       "      <td>0</td>\n",
       "      <td>0</td>\n",
       "      <td>0</td>\n",
       "      <td>0</td>\n",
       "      <td>0</td>\n",
       "      <td>0</td>\n",
       "      <td>0</td>\n",
       "      <td>0</td>\n",
       "      <td>0</td>\n",
       "    </tr>\n",
       "  </tbody>\n",
       "</table>\n",
       "<p>5 rows × 20399 columns</p>\n",
       "</div>"
      ],
      "text/plain": [
       "                  A1BG  A1BG-AS1  A1CF  A2M  A2M-AS1  A2ML1  A4GALT  A4GNT  \\\n",
       "bar_id                                                                       \n",
       "ATCATGGAGTAGGCCA     0         0     0    0        0      0       0      0   \n",
       "TGACTAGAGGATCGCA     0         0     0    0        0      1       0      0   \n",
       "GACCAATAGGGTATCG     0         0     0    0        0      0       0      0   \n",
       "CTTAACTGTGGCGAAT     0         0     0    0        0      0       0      0   \n",
       "TGCTACCAGTCATCCA     0         0     0    0        0      0       0      0   \n",
       "\n",
       "                  AAAS  AACS  ...  ZZEF1  ZZZ3  hsa-mir-1199  hsa-mir-125a  \\\n",
       "bar_id                        ...                                            \n",
       "ATCATGGAGTAGGCCA     0     0  ...      0     0             0             0   \n",
       "TGACTAGAGGATCGCA     0     0  ...      0     0             0             0   \n",
       "GACCAATAGGGTATCG     1     0  ...      0     0             0             0   \n",
       "CTTAACTGTGGCGAAT     0     0  ...      2     0             0             0   \n",
       "TGCTACCAGTCATCCA     1     0  ...      0     0             0             0   \n",
       "\n",
       "                  hsa-mir-335  hsa-mir-4259  hsa-mir-490  hsa-mir-5195  \\\n",
       "bar_id                                                                   \n",
       "ATCATGGAGTAGGCCA            0             0            0             0   \n",
       "TGACTAGAGGATCGCA            0             0            0             0   \n",
       "GACCAATAGGGTATCG            0             0            0             0   \n",
       "CTTAACTGTGGCGAAT            0             0            0             0   \n",
       "TGCTACCAGTCATCCA            0             0            0             0   \n",
       "\n",
       "                  hsa-mir-6080  hsa-mir-7515  \n",
       "bar_id                                        \n",
       "ATCATGGAGTAGGCCA             0             0  \n",
       "TGACTAGAGGATCGCA             0             0  \n",
       "GACCAATAGGGTATCG             0             0  \n",
       "CTTAACTGTGGCGAAT             0             0  \n",
       "TGCTACCAGTCATCCA             0             0  \n",
       "\n",
       "[5 rows x 20399 columns]"
      ]
     },
     "execution_count": 8,
     "metadata": {},
     "output_type": "execute_result"
    }
   ],
   "source": [
    "rna=pd.read_csv('./data/stoeckius_2017/GSE100866_CBMC_8K_13AB_10X-RNA_umi.csv', skiprows=range(20401,37000))\n",
    "rna=rna.rename({'Unnamed: 0': 'bar_id'}, axis=1)\n",
    "rna=rna.set_index('bar_id').T\n",
    "rna=rna.reindex(meta_data.index)\n",
    "rna=rna.drop(['ERCC_ERCC-00104'], axis=1)\n",
    "rna.columns=[c[6:] for c in rna.columns]\n",
    "rna.head()"
   ]
  },
  {
   "cell_type": "code",
   "execution_count": 9,
   "metadata": {},
   "outputs": [
    {
     "name": "stdout",
     "output_type": "stream",
     "text": [
      "Chosen offset: 0.08\n"
     ]
    },
    {
     "data": {
      "image/png": "[encoded data removed]",
      "text/plain": [
       "<Figure size 432x252 with 1 Axes>"
      ]
     },
     "metadata": {
      "needs_background": "light"
     },
     "output_type": "display_data"
    }
   ],
   "source": [
    "# Selecting 1000 most variable genes\n",
    "amount_of_genes = 1000\n",
    "selectedGenes = sparseRRR.geneSelection(rna.values.astype(np.float), n=amount_of_genes)\n",
    "rna = rna.loc[:,selectedGenes]"
   ]
  },
  {
   "cell_type": "code",
   "execution_count": 10,
   "metadata": {},
   "outputs": [
    {
     "data": {
      "text/html": [
       "<div>\n",
       "<style scoped>\n",
       "    .dataframe tbody tr th:only-of-type {\n",
       "        vertical-align: middle;\n",
       "    }\n",
       "\n",
       "    .dataframe tbody tr th {\n",
       "        vertical-align: top;\n",
       "    }\n",
       "\n",
       "    .dataframe thead th {\n",
       "        text-align: right;\n",
       "    }\n",
       "</style>\n",
       "<table border=\"1\" class=\"dataframe\">\n",
       "  <thead>\n",
       "    <tr style=\"text-align: right;\">\n",
       "      <th>bar_id</th>\n",
       "      <th>CD3</th>\n",
       "      <th>CD4</th>\n",
       "      <th>CD8</th>\n",
       "      <th>CD45RA</th>\n",
       "      <th>CD56</th>\n",
       "      <th>CD16</th>\n",
       "      <th>CD10</th>\n",
       "      <th>CD11c</th>\n",
       "      <th>CD14</th>\n",
       "      <th>CD19</th>\n",
       "      <th>CD34</th>\n",
       "      <th>CCR5</th>\n",
       "      <th>CCR7</th>\n",
       "    </tr>\n",
       "    <tr>\n",
       "      <th>bar_id</th>\n",
       "      <th></th>\n",
       "      <th></th>\n",
       "      <th></th>\n",
       "      <th></th>\n",
       "      <th></th>\n",
       "      <th></th>\n",
       "      <th></th>\n",
       "      <th></th>\n",
       "      <th></th>\n",
       "      <th></th>\n",
       "      <th></th>\n",
       "      <th></th>\n",
       "      <th></th>\n",
       "    </tr>\n",
       "  </thead>\n",
       "  <tbody>\n",
       "    <tr>\n",
       "      <th>ATCATGGAGTAGGCCA</th>\n",
       "      <td>370.0</td>\n",
       "      <td>1706.0</td>\n",
       "      <td>9559.0</td>\n",
       "      <td>102390.0</td>\n",
       "      <td>1518.0</td>\n",
       "      <td>4617.0</td>\n",
       "      <td>363.0</td>\n",
       "      <td>8204.0</td>\n",
       "      <td>4402.0</td>\n",
       "      <td>988.0</td>\n",
       "      <td>422.0</td>\n",
       "      <td>879.0</td>\n",
       "      <td>239.0</td>\n",
       "    </tr>\n",
       "    <tr>\n",
       "      <th>TGACTAGAGGATCGCA</th>\n",
       "      <td>1172.0</td>\n",
       "      <td>1528.0</td>\n",
       "      <td>1353.0</td>\n",
       "      <td>83685.0</td>\n",
       "      <td>1050.0</td>\n",
       "      <td>1950.0</td>\n",
       "      <td>252.0</td>\n",
       "      <td>2715.0</td>\n",
       "      <td>2429.0</td>\n",
       "      <td>790.0</td>\n",
       "      <td>220.0</td>\n",
       "      <td>472.0</td>\n",
       "      <td>189.0</td>\n",
       "    </tr>\n",
       "    <tr>\n",
       "      <th>GACCAATAGGGTATCG</th>\n",
       "      <td>1134.0</td>\n",
       "      <td>994.0</td>\n",
       "      <td>35.0</td>\n",
       "      <td>2123.0</td>\n",
       "      <td>22.0</td>\n",
       "      <td>32.0</td>\n",
       "      <td>50.0</td>\n",
       "      <td>25.0</td>\n",
       "      <td>284.0</td>\n",
       "      <td>30.0</td>\n",
       "      <td>129.0</td>\n",
       "      <td>34.0</td>\n",
       "      <td>46.0</td>\n",
       "    </tr>\n",
       "    <tr>\n",
       "      <th>CTTAACTGTGGCGAAT</th>\n",
       "      <td>41.0</td>\n",
       "      <td>160.0</td>\n",
       "      <td>2168.0</td>\n",
       "      <td>36504.0</td>\n",
       "      <td>552.0</td>\n",
       "      <td>1227.0</td>\n",
       "      <td>106.0</td>\n",
       "      <td>856.0</td>\n",
       "      <td>219.0</td>\n",
       "      <td>332.0</td>\n",
       "      <td>54.0</td>\n",
       "      <td>237.0</td>\n",
       "      <td>58.0</td>\n",
       "    </tr>\n",
       "    <tr>\n",
       "      <th>TGCTACCAGTCATCCA</th>\n",
       "      <td>203.0</td>\n",
       "      <td>20.0</td>\n",
       "      <td>1457.0</td>\n",
       "      <td>4871.0</td>\n",
       "      <td>24.0</td>\n",
       "      <td>25.0</td>\n",
       "      <td>36.0</td>\n",
       "      <td>12.0</td>\n",
       "      <td>37.0</td>\n",
       "      <td>53.0</td>\n",
       "      <td>83.0</td>\n",
       "      <td>28.0</td>\n",
       "      <td>40.0</td>\n",
       "    </tr>\n",
       "  </tbody>\n",
       "</table>\n",
       "</div>"
      ],
      "text/plain": [
       "bar_id               CD3     CD4     CD8    CD45RA    CD56    CD16   CD10  \\\n",
       "bar_id                                                                      \n",
       "ATCATGGAGTAGGCCA   370.0  1706.0  9559.0  102390.0  1518.0  4617.0  363.0   \n",
       "TGACTAGAGGATCGCA  1172.0  1528.0  1353.0   83685.0  1050.0  1950.0  252.0   \n",
       "GACCAATAGGGTATCG  1134.0   994.0    35.0    2123.0    22.0    32.0   50.0   \n",
       "CTTAACTGTGGCGAAT    41.0   160.0  2168.0   36504.0   552.0  1227.0  106.0   \n",
       "TGCTACCAGTCATCCA   203.0    20.0  1457.0    4871.0    24.0    25.0   36.0   \n",
       "\n",
       "bar_id             CD11c    CD14   CD19   CD34   CCR5   CCR7  \n",
       "bar_id                                                        \n",
       "ATCATGGAGTAGGCCA  8204.0  4402.0  988.0  422.0  879.0  239.0  \n",
       "TGACTAGAGGATCGCA  2715.0  2429.0  790.0  220.0  472.0  189.0  \n",
       "GACCAATAGGGTATCG    25.0   284.0   30.0  129.0   34.0   46.0  \n",
       "CTTAACTGTGGCGAAT   856.0   219.0  332.0   54.0  237.0   58.0  \n",
       "TGCTACCAGTCATCCA    12.0    37.0   53.0   83.0   28.0   40.0  "
      ]
     },
     "execution_count": 10,
     "metadata": {},
     "output_type": "execute_result"
    }
   ],
   "source": [
    "adt=pd.read_csv('./data/stoeckius_2017/GSE100866_CBMC_8K_13AB_10X-ADT_umi.csv')\n",
    "adt=adt.rename({'Unnamed: 0': 'bar_id'}, axis=1)\n",
    "adt=adt.set_index(['bar_id']).T\n",
    "adt=adt.reindex(meta_data.index)\n",
    "adt=adt.astype('float32')\n",
    "adt.head()"
   ]
  },
  {
   "cell_type": "markdown",
   "metadata": {},
   "source": [
    "Further preprocessing (Library normalization, log-transformation and Z-scoring):"
   ]
  },
  {
   "cell_type": "code",
   "execution_count": 11,
   "metadata": {},
   "outputs": [],
   "source": [
    "X=rna.copy().values\n",
    "X=np.log2(1 + X / np.sum(X, axis=1, keepdims=True) * np.median(np.sum(X, axis=1, keepdims=True)))\n",
    "X_mean=X.mean(axis=0)\n",
    "X_std=X.std(axis=0)\n",
    "X-=X_mean\n",
    "X/=X_std\n",
    "\n",
    "Y=adt.copy().values\n",
    "Y_mean=Y.mean(axis=0)\n",
    "Y_std=Y.std(axis=0)\n",
    "Y-=Y_mean\n",
    "Y/=Y_std\n",
    "\n",
    "X = X.astype('float32')\n",
    "Y = Y.astype('float32')"
   ]
  },
  {
   "cell_type": "code",
   "execution_count": 12,
   "metadata": {},
   "outputs": [],
   "source": [
    "data={'X':X, 'Y':Y, 'gene_names':np.array(rna.columns), \\\n",
    "      'adt_features': np.array(adt.columns), 'celltypes':meta_data.loc[:,'type'].values, \\\n",
    "      'map': Stoeckius_mapping}\n",
    "pickle.dump(data, open('data/stoeckius_2017/stoeckius_2017.pickle', 'wb'))"
   ]
  },
  {
   "cell_type": "code",
   "execution_count": 13,
   "metadata": {},
   "outputs": [
    {
     "name": "stdout",
     "output_type": "stream",
     "text": [
      "Double check:\n",
      "\n",
      "rna shape:  (7652, 1000)\n",
      "dta shape:  (7652, 13)\n",
      "celltype shape:  (7652,)\n"
     ]
    }
   ],
   "source": [
    "print('Double check:\\n')\n",
    "print('rna shape: ', data['X'].shape)\n",
    "print('dta shape: ', data['Y'].shape)\n",
    "print('celltype shape: ', data['celltypes'].shape)"
   ]
  },
  {
   "cell_type": "markdown",
   "metadata": {},
   "source": [
    "## tSNE ephys and genes for Scala et al. 2020"
   ]
  },
  {
   "cell_type": "code",
   "execution_count": 11,
   "metadata": {},
   "outputs": [],
   "source": [
    "import scipy\n",
    "import matplotlib.pyplot as plt\n",
    "import seaborn as sns\n",
    "\n",
    "from openTSNE import TSNE\n",
    "from sklearn.decomposition import PCA"
   ]
  },
  {
   "cell_type": "code",
   "execution_count": 12,
   "metadata": {},
   "outputs": [],
   "source": [
    "def PCA_sklearn(data):\n",
    "    '''\n",
    "    Function that performs PCA on the input data, using sklearn\n",
    "    \n",
    "    input: (cells,genes)-shaped array of log transformed cell counts\n",
    "    output:\n",
    "        fraction_variance_explained: (genes,)-shaped array with the fraction of variance explained by the individual PCs\n",
    "        principal_components: (genes,genes)-shaped array containing the principal components as columns\n",
    "    ''' \n",
    "    pca = PCA(svd_solver='full').fit(data)\n",
    "    data_transformed = pca.transform(data)    \n",
    "    principal_components = pca.components_.T\n",
    "    fraction_variance_explained = pca.explained_variance_ratio_\n",
    "    \n",
    "    return fraction_variance_explained, principal_components\n",
    "\n",
    "def select_PCs(variance_explained,principal_components,percent_variance=None):\n",
    "    '''Function that selects the first n principal components necessary to explain x% of the variance\n",
    "    input: \n",
    "        variance_explained: amount of variance explained by the individual PCs\n",
    "        principal_components: contains the principal components as columns\n",
    "        percent_variance: fraction of the variance, the all PCs that are kept explain\n",
    "    output:\n",
    "        variance_explained_kept: individual amount of variance explained for the remaining PCs\n",
    "        principal_components_kept: remaining principal components, shape (genes,n_PCs_kept)\n",
    "                \n",
    "    '''\n",
    "    total_variance_explained = np.cumsum(variance_explained)\n",
    "    n_PCs_kept = sum(total_variance_explained<percent_variance) + 1    \n",
    "    variance_explained_kept = variance_explained[:n_PCs_kept]\n",
    "    principal_components_kept = principal_components[:,:n_PCs_kept]\n",
    "            \n",
    "    return variance_explained_kept,principal_components_kept\n",
    "\n",
    "def compute_PCA_scores(data,principal_components):\n",
    "    '''Function that returns the PC scores for each data point\n",
    "    input: \n",
    "        data                 --- (cells,genes)-shaped array of log transformed cell counts\n",
    "        principal_components --- contains the principal components as columns\\\n",
    "    output:\n",
    "        pc_scores            --- (cells,n_PCs_kept)-shaped array of PC scores\n",
    "    \n",
    "    ''' \n",
    "    pc_scores = np.array(data @ principal_components)\n",
    "\n",
    "    return pc_scores"
   ]
  },
  {
   "cell_type": "code",
   "execution_count": 13,
   "metadata": {},
   "outputs": [],
   "source": [
    "scala = pickle.load(open('data/scala_2020/scala2020.pickle', 'rb'))"
   ]
  },
  {
   "cell_type": "code",
   "execution_count": 14,
   "metadata": {},
   "outputs": [],
   "source": [
    "#do sklearn-PCA on selected genes\n",
    "var_expl, PCs = PCA_sklearn(scala['X'])"
   ]
  },
  {
   "cell_type": "code",
   "execution_count": 15,
   "metadata": {},
   "outputs": [
    {
     "data": {
      "image/png": "[encoded data removed]",
      "text/plain": [
       "<Figure size 1008x504 with 2 Axes>"
      ]
     },
     "metadata": {
      "needs_background": "light"
     },
     "output_type": "display_data"
    }
   ],
   "source": [
    "n_PCs = len(var_expl)\n",
    "PC_ids = np.arange(1,n_PCs+1)\n",
    "\n",
    "plt.figure(figsize=(14,7))\n",
    "\n",
    "plt.subplot(121)\n",
    "plt.plot(PC_ids,100*var_expl,'.')\n",
    "plt.xlabel('component ID')\n",
    "plt.ylabel('% variance explained')\n",
    "plt.xscale('log')\n",
    "plt.ylim(-2,30)\n",
    "\n",
    "\n",
    "plt.subplot(122)\n",
    "total_variance_explained = np.cumsum(100*var_expl)\n",
    "plt.plot(PC_ids,total_variance_explained,'.')\n",
    "plt.xlabel('number of PCs kept')\n",
    "plt.ylabel('% total variance explained')\n",
    "for variance_level,c in zip([50,75,90,99],['tab:orange','tab:green','tab:red','tab:purple']):\n",
    "    n_PCs_needed = sum(total_variance_explained<variance_level) + 1\n",
    "    legend_string = '%u PCs for >%u %%' % (n_PCs_needed,variance_level)\n",
    "    plt.hlines(variance_level,1,n_PCs_needed,label=legend_string,colors=c,linestyles=':')\n",
    "    plt.vlines(n_PCs_needed,0,variance_level,colors=c,linestyles=':')\n",
    "leg = plt.legend(loc=4)\n",
    "leg.get_frame().set_linewidth(0.5)\n",
    "leg.get_frame().set_alpha(1)\n",
    "plt.xscale('log')\n",
    "sns.despine()"
   ]
  },
  {
   "cell_type": "code",
   "execution_count": 21,
   "metadata": {},
   "outputs": [],
   "source": [
    "#do sklearn-PCA on selected genes\n",
    "var_expl, PCs = PCA_sklearn(scala['X'])\n",
    "#select components as before\n",
    "_, PCs_80 = select_PCs(var_expl, PCs, 0.8)\n",
    "#get PC scores\n",
    "PCA_80 = compute_PCA_scores(scala['X'], PCs_80)"
   ]
  },
  {
   "cell_type": "code",
   "execution_count": 22,
   "metadata": {},
   "outputs": [],
   "source": [
    "tsne = TSNE(\n",
    "    perplexity=30,\n",
    "    metric=\"euclidean\",\n",
    "    n_jobs=8,\n",
    "    random_state=42,\n",
    "    verbose=True,\n",
    ")"
   ]
  },
  {
   "cell_type": "code",
   "execution_count": 23,
   "metadata": {},
   "outputs": [
    {
     "name": "stdout",
     "output_type": "stream",
     "text": [
      "--------------------------------------------------------------------------------\n",
      "TSNE(callbacks=None, callbacks_every_iters=50, dof=1, early_exaggeration=12,\n",
      "     early_exaggeration_iter=250, exaggeration=None, final_momentum=0.8,\n",
      "     initial_momentum=0.5, initialization='pca', ints_in_interval=1,\n",
      "     learning_rate='auto', max_grad_norm=None, max_step_norm=5,\n",
      "     metric='euclidean', metric_params=None, min_num_intervals=50,\n",
      "     n_components=2, n_interpolation_points=3, n_iter=500, n_jobs=8,\n",
      "     negative_gradient_method='auto', neighbors='auto', perplexity=30,\n",
      "     random_state=42, theta=0.5, verbose=True)\n",
      "--------------------------------------------------------------------------------\n",
      "===> Finding 90 nearest neighbors using Annoy approximate search using euclidean distance...\n",
      "   --> Time elapsed: 0.31 seconds\n",
      "===> Calculating affinity matrix...\n",
      "   --> Time elapsed: 0.03 seconds\n",
      "===> Calculating PCA-based initialization...\n",
      "   --> Time elapsed: 0.03 seconds\n",
      "===> Running optimization with exaggeration=12.00, lr=200.00 for 250 iterations...\n",
      "Iteration   50, KL divergence 3.2726, 50 iterations in 0.3132 sec\n",
      "Iteration  100, KL divergence 2.8746, 50 iterations in 0.1854 sec\n",
      "Iteration  150, KL divergence 2.8410, 50 iterations in 0.1951 sec\n",
      "Iteration  200, KL divergence 2.8485, 50 iterations in 0.1851 sec\n",
      "Iteration  250, KL divergence 2.8575, 50 iterations in 0.2050 sec\n",
      "   --> Time elapsed: 1.09 seconds\n",
      "===> Running optimization with exaggeration=1.00, lr=200.00 for 500 iterations...\n",
      "Iteration   50, KL divergence 1.3534, 50 iterations in 0.1756 sec\n",
      "Iteration  100, KL divergence 1.2104, 50 iterations in 0.1587 sec\n",
      "Iteration  150, KL divergence 1.1615, 50 iterations in 0.1719 sec\n",
      "Iteration  200, KL divergence 1.1395, 50 iterations in 0.1712 sec\n",
      "Iteration  250, KL divergence 1.1291, 50 iterations in 0.1784 sec\n",
      "Iteration  300, KL divergence 1.1233, 50 iterations in 0.1641 sec\n",
      "Iteration  350, KL divergence 1.1199, 50 iterations in 0.1531 sec\n",
      "Iteration  400, KL divergence 1.1173, 50 iterations in 0.1504 sec\n",
      "Iteration  450, KL divergence 1.1152, 50 iterations in 0.1467 sec\n",
      "Iteration  500, KL divergence 1.1134, 50 iterations in 0.1635 sec\n",
      "   --> Time elapsed: 1.64 seconds\n",
      "--------------------------------------------------------------------------------\n",
      "TSNE(callbacks=None, callbacks_every_iters=50, dof=1, early_exaggeration=12,\n",
      "     early_exaggeration_iter=250, exaggeration=None, final_momentum=0.8,\n",
      "     initial_momentum=0.5, initialization='pca', ints_in_interval=1,\n",
      "     learning_rate='auto', max_grad_norm=None, max_step_norm=5,\n",
      "     metric='euclidean', metric_params=None, min_num_intervals=50,\n",
      "     n_components=2, n_interpolation_points=3, n_iter=500, n_jobs=8,\n",
      "     negative_gradient_method='auto', neighbors='auto', perplexity=30,\n",
      "     random_state=42, theta=0.5, verbose=True)\n",
      "--------------------------------------------------------------------------------\n",
      "===> Finding 90 nearest neighbors using Annoy approximate search using euclidean distance...\n",
      "   --> Time elapsed: 0.34 seconds\n",
      "===> Calculating affinity matrix...\n",
      "   --> Time elapsed: 0.04 seconds\n",
      "===> Calculating PCA-based initialization...\n",
      "   --> Time elapsed: 0.01 seconds\n",
      "===> Running optimization with exaggeration=12.00, lr=200.00 for 250 iterations...\n",
      "Iteration   50, KL divergence 3.1378, 50 iterations in 0.2090 sec\n",
      "Iteration  100, KL divergence 3.0801, 50 iterations in 0.1662 sec\n",
      "Iteration  150, KL divergence 3.0782, 50 iterations in 0.1578 sec\n",
      "Iteration  200, KL divergence 3.0764, 50 iterations in 0.1606 sec\n",
      "Iteration  250, KL divergence 3.0753, 50 iterations in 0.1620 sec\n",
      "   --> Time elapsed: 0.86 seconds\n",
      "===> Running optimization with exaggeration=1.00, lr=200.00 for 500 iterations...\n",
      "Iteration   50, KL divergence 1.4170, 50 iterations in 0.1697 sec\n",
      "Iteration  100, KL divergence 1.2560, 50 iterations in 0.1698 sec\n",
      "Iteration  150, KL divergence 1.1970, 50 iterations in 0.1735 sec\n",
      "Iteration  200, KL divergence 1.1695, 50 iterations in 0.1734 sec\n",
      "Iteration  250, KL divergence 1.1547, 50 iterations in 0.1786 sec\n",
      "Iteration  300, KL divergence 1.1456, 50 iterations in 0.1884 sec\n",
      "Iteration  350, KL divergence 1.1404, 50 iterations in 0.2046 sec\n",
      "Iteration  400, KL divergence 1.1365, 50 iterations in 0.1632 sec\n",
      "Iteration  450, KL divergence 1.1341, 50 iterations in 0.1560 sec\n",
      "Iteration  500, KL divergence 1.1320, 50 iterations in 0.1527 sec\n",
      "   --> Time elapsed: 1.73 seconds\n"
     ]
    }
   ],
   "source": [
    "Z_genes = tsne.fit(PCA_80)\n",
    "Z_ephys = tsne.fit(scala['Y'])"
   ]
  },
  {
   "cell_type": "code",
   "execution_count": null,
   "metadata": {},
   "outputs": [],
   "source": [
    "fig, axes = plt.subplots(1,2,figsize=(13,7))\n",
    "for celltype in np.unique(scala['map']):\n",
    "    indices=scala['map']==celltype\n",
    "    axes[0].scatter(Z_genes[indices,0], Z_genes[indices,1], c=scala['colors'][celltype],\n",
    "            s=20)#, label=celltype)\n",
    "    axes[1].scatter(Z_ephys[indices,0], Z_ephys[indices,1], c=scala['colors'][celltype],\n",
    "            s=20)#, label=celltype)\n",
    "for ax in axes:\n",
    "    ax.set_xticks([])\n",
    "    ax.set_yticks([])\n",
    "axes[0].set_title('tSNE transcriptome', fontsize=15)\n",
    "axes[1].set_title('tSNE electrophysiology', fontsize=15)\n",
    "sns.despine(bottom=True, left=True)\n",
    "plt.tight_layout()\n",
    "plt.savefig('./figures/preliminary/scala_tsne.png', bbox_inches = 'tight',\n",
    "     pad_inches = 0)\n",
    "plt.savefig('./figures/preliminary/scala_tsne.pdf', bbox_inches = 'tight',\n",
    "     pad_inches = 0)"
   ]
  }
 ],
 "metadata": {
  "kernelspec": {
   "display_name": "Python 3",
   "language": "python",
   "name": "python3"
  },
  "language_info": {
   "codemirror_mode": {
    "name": "ipython",
    "version": 3
   },
   "file_extension": ".py",
   "mimetype": "text/x-python",
   "name": "python",
   "nbconvert_exporter": "python",
   "pygments_lexer": "ipython3",
   "version": "3.7.5"
  },
  "varInspector": {
   "cols": {
    "lenName": 16,
    "lenType": 16,
    "lenVar": 40
   },
   "kernels_config": {
    "python": {
     "delete_cmd_postfix": "",
     "delete_cmd_prefix": "del ",
     "library": "var_list.py",
     "varRefreshCmd": "print(var_dic_list())"
    },
    "r": {
     "delete_cmd_postfix": ") ",
     "delete_cmd_prefix": "rm(",
     "library": "var_list.r",
     "varRefreshCmd": "cat(var_dic_list()) "
    }
   },
   "types_to_exclude": [
    "module",
    "function",
    "builtin_function_or_method",
    "instance",
    "_Feature"
   ],
   "window_display": false
  }
 },
 "nbformat": 4,
 "nbformat_minor": 4
}
