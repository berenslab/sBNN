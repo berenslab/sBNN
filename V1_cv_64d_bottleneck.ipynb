{
 "cells": [
  {
   "cell_type": "markdown",
   "metadata": {},
   "source": [
    "# Cross-validation of models for Gouwens et al."
   ]
  },
  {
   "cell_type": "code",
   "execution_count": 1,
   "metadata": {},
   "outputs": [],
   "source": [
    "# Import packages\n",
    "import numpy as np\n",
    "import tensorflow as tf\n",
    "import pandas as pd\n",
    "import matplotlib\n",
    "import seaborn as sns\n",
    "import sparseRRR\n",
    "import matplotlib\n",
    "import matplotlib.pyplot as plt\n",
    "import importlib\n",
    "\n",
    "import bottleneck_networks_tf2\n",
    "\n",
    "import time\n",
    "import pickle\n",
    "import warnings\n",
    "\n",
    "dtype = tf.float32\n",
    "\n",
    "def sns_styleset():\n",
    "    sns.set_style('ticks', {'axes.linewidth': .75, \"xtick.major.size\":4, \"ytick.major.size\":4})"
   ]
  },
  {
   "cell_type": "markdown",
   "metadata": {},
   "source": [
    "# Loading data"
   ]
  },
  {
   "cell_type": "code",
   "execution_count": 2,
   "metadata": {},
   "outputs": [],
   "source": [
    "gouwens = pickle.load(open('data/gouwens_2020/gouwens2020.pickle', 'rb'))\n",
    "genes=gouwens['X']\n",
    "ephys=gouwens['Y']\n",
    "gene_names=gouwens['gene_names']\n",
    "cell_types=gouwens['celltypes']\n",
    "cell_id_to_cell_type=gouwens['map']\n",
    "ephys_names=gouwens['ephys_features']\n",
    "colors=gouwens['colors']"
   ]
  },
  {
   "cell_type": "markdown",
   "metadata": {},
   "source": [
    "Let us find K-mean clusters to perform pre-training. One could also pre-train on celltype classification. This has actually improved performance even more but could be argued to be biasing the results too much. K-means allows for an unsupervised more general setting."
   ]
  },
  {
   "cell_type": "code",
   "execution_count": 3,
   "metadata": {},
   "outputs": [],
   "source": [
    "# You can cluster according to amounts of classes or amounts of celltypes. Change the argument of n_clusters accordingly.\n",
    "from sklearn.cluster import KMeans\n",
    "kmeans = KMeans(n_clusters=20, random_state=17, n_init=1000).fit(ephys)"
   ]
  },
  {
   "cell_type": "code",
   "execution_count": 4,
   "metadata": {},
   "outputs": [],
   "source": [
    "clusters = kmeans.labels_"
   ]
  },
  {
   "cell_type": "code",
   "execution_count": 5,
   "metadata": {},
   "outputs": [],
   "source": [
    "amount_of_cells_in_clusters = {cluster_id: sum(clusters==cluster_id) for cluster_id in np.unique(clusters)}\n",
    "for_every_cell_number_of_cells_of_their_cluster = np.array([amount_of_cells_in_clusters[cell] for cell in clusters])\n",
    "ind_pre_training_clusters = for_every_cell_number_of_cells_of_their_cluster >= 10"
   ]
  },
  {
   "cell_type": "code",
   "execution_count": 6,
   "metadata": {},
   "outputs": [
    {
     "name": "stdout",
     "output_type": "stream",
     "text": [
      "cluster 0 represented by 119 cells.\n",
      "cluster 1 represented by 77 cells.\n",
      "cluster 2 represented by 166 cells.\n",
      "cluster 3 represented by 253 cells.\n",
      "cluster 4 represented by 220 cells.\n",
      "cluster 5 represented by 169 cells.\n",
      "cluster 6 represented by 136 cells.\n",
      "cluster 7 represented by 77 cells.\n",
      "cluster 8 represented by 79 cells.\n",
      "cluster 9 represented by 195 cells.\n",
      "cluster 10 represented by 165 cells.\n",
      "cluster 11 represented by 112 cells.\n",
      "cluster 12 represented by 195 cells.\n",
      "cluster 13 represented by 234 cells.\n",
      "cluster 14 represented by 179 cells.\n",
      "cluster 15 represented by 285 cells.\n",
      "cluster 16 represented by 198 cells.\n",
      "cluster 17 represented by 284 cells.\n",
      "cluster 18 represented by 135 cells.\n",
      "cluster 19 represented by 117 cells.\n",
      "average # of cells per cluster: 169.75\n",
      "std of # of cells per cluster: 62.68801719627125\n"
     ]
    }
   ],
   "source": [
    "c_n=[]\n",
    "for i in np.unique(clusters):\n",
    "    print('cluster', i, 'represented by', sum(clusters==i), 'cells.')\n",
    "    c_n.append(sum(clusters==i))\n",
    "print('average # of cells per cluster:', np.mean(np.array(c_n)))\n",
    "print('std of # of cells per cluster:', np.std(np.array(c_n)))"
   ]
  },
  {
   "cell_type": "markdown",
   "metadata": {},
   "source": [
    "# Keras initialisations"
   ]
  },
  {
   "cell_type": "code",
   "execution_count": 7,
   "metadata": {},
   "outputs": [],
   "source": [
    "from tensorflow import keras\n",
    "from tensorflow.keras.datasets import mnist\n",
    "from tensorflow.keras.models import Sequential, Model\n",
    "from tensorflow.keras.layers import Dense\n",
    "from tensorflow.keras.optimizers import Adam\n",
    "from tensorflow.keras import regularizers\n",
    "from tensorflow.keras.wrappers.scikit_learn import KerasClassifier\n",
    "from tensorflow.keras.utils import to_categorical\n",
    "from tensorflow.keras import metrics\n",
    "from tensorflow.keras.losses import CategoricalCrossentropy"
   ]
  },
  {
   "cell_type": "code",
   "execution_count": 8,
   "metadata": {},
   "outputs": [],
   "source": [
    "from tensorflow.keras.callbacks import EarlyStopping\n",
    "from tensorflow.keras.callbacks import ModelCheckpoint\n",
    "from tensorflow.keras.models import load_model\n",
    "import tensorflow.keras.backend as K"
   ]
  },
  {
   "cell_type": "code",
   "execution_count": 9,
   "metadata": {},
   "outputs": [],
   "source": [
    "tf.compat.v1.disable_eager_execution()"
   ]
  },
  {
   "cell_type": "code",
   "execution_count": 10,
   "metadata": {},
   "outputs": [],
   "source": [
    "# You should assume you get two TensorFlow variables as input\n",
    "y_actual = tf.compat.v1.placeholder(dtype = tf.float32)\n",
    "y_predicted = tf.compat.v1.placeholder(dtype = tf.float32)\n",
    "def r2_score(y_truth, y_pred):\n",
    "    residual = tf.add(y_truth, -y_pred, name='residual')\n",
    "    return 1-tf.reduce_sum(input_tensor=tf.square(residual)) / tf.reduce_sum(input_tensor=tf.square(y_truth))\n",
    "r2_score_result = r2_score(y_actual, y_predicted)"
   ]
  },
  {
   "cell_type": "code",
   "execution_count": 11,
   "metadata": {},
   "outputs": [],
   "source": [
    "class ElasticNet(tf.keras.regularizers.Regularizer): \n",
    "    def __init__(self, l1=1e-8, l2=1.0): \n",
    "        self.l1 = l1\n",
    "        self.l2 = l2\n",
    "\n",
    "    def __call__(self, x): \n",
    "        return self.l2*tf.math.reduce_sum(input_tensor=tf.math.square(x)) + \\\n",
    "                             self.l1*tf.reduce_sum(input_tensor=tf.norm(tensor=x, ord = 2, axis = 1))\n",
    "\n",
    "    def get_config(self): \n",
    "        return {'l1': float(self.l1), 'l2': float(self.l2)}"
   ]
  },
  {
   "cell_type": "markdown",
   "metadata": {},
   "source": [
    "## Cross validation to various training strategies"
   ]
  },
  {
   "cell_type": "markdown",
   "metadata": {},
   "source": [
    "It seems that pre-train - train 4 last layers - train all layers is a good bottleneck non-linear model. By adding a lasso group penalty we can investigate which genes the model would select. After the usual training as above we also prune the bottleneck further. In essence we pick the 25 genes that correspond to highest L2 row norm for the first kernel/weight of the input layer and perform the same regression task but with this reduced new 25 nodes input layer. No lasso, just ridge for this pruned network. We investigate which genes are selected, visualise the latent space and compare to a well-known sparse reduced-rank model for this dataset. Again, one can skip the training and go direct to visualization for already trained models."
   ]
  },
  {
   "cell_type": "markdown",
   "metadata": {},
   "source": [
    "Group lasso + ridge penalty straight regression (no pre-training) model."
   ]
  },
  {
   "cell_type": "code",
   "execution_count": 12,
   "metadata": {},
   "outputs": [],
   "source": [
    "from bottleneck_networks_tf2 import StraightRegression"
   ]
  },
  {
   "cell_type": "code",
   "execution_count": 13,
   "metadata": {},
   "outputs": [
    {
     "name": "stdout",
     "output_type": "stream",
     "text": [
      "\n",
      "CVFOLD:  0\n",
      "WARNING:tensorflow:AutoGraph could not transform <function r2_score at 0x7f01cc3f6f80> and will run it as-is.\n",
      "Please report this to the TensorFlow team. When filing the bug, set the verbosity to 10 (on Linux, `export AUTOGRAPH_VERBOSITY=10`) and attach the full output.\n",
      "Cause: 'arguments' object has no attribute 'posonlyargs'\n",
      "To silence this warning, decorate the function with @tf.autograph.experimental.do_not_convert\n",
      "WARNING: AutoGraph could not transform <function r2_score at 0x7f01cc3f6f80> and will run it as-is.\n",
      "Please report this to the TensorFlow team. When filing the bug, set the verbosity to 10 (on Linux, `export AUTOGRAPH_VERBOSITY=10`) and attach the full output.\n",
      "Cause: 'arguments' object has no attribute 'posonlyargs'\n",
      "To silence this warning, decorate the function with @tf.autograph.experimental.do_not_convert\n",
      "[INFO] training network...\n"
     ]
    },
    {
     "name": "stderr",
     "output_type": "stream",
     "text": [
      "/usr/local/lib/python3.7/dist-packages/keras/engine/training_v1.py:2057: UserWarning: `Model.state_updates` will be removed in a future version. This property should not be used in TensorFlow 2.0, as `updates` are applied automatically.\n",
      "  updates = self.state_updates\n",
      "/usr/local/lib/python3.7/dist-packages/keras/engine/training_v1.py:2079: UserWarning: `Model.state_updates` will be removed in a future version. This property should not be used in TensorFlow 2.0, as `updates` are applied automatically.\n",
      "  updates=self.state_updates,\n"
     ]
    },
    {
     "name": "stdout",
     "output_type": "stream",
     "text": [
      "The 25 genes that make it:  ['A830018L16Rik' 'Grm1' 'Lrp1b' 'Elmo1' 'Cdh7' 'Nptx2' 'Cntn4' 'Pdyn'\n",
      " 'Brinp3' 'Ptpru' 'Sema3a' 'Pvalb' 'Kctd8' 'Dpp10' 'Ptprt' 'Unc5d'\n",
      " 'Kcnab1' 'Npy' 'Slc24a4' 'Alk' 'Vip' 'Synpr' 'Mybpc1' 'Fxyd6' 'Penk']\n",
      "[INFO] training network...\n",
      "Train R^2 before pruning:  0.31256747245788574\n",
      "Test R^2 after pruning:  0.31813716888427734\n",
      "Train R^2 after pruning:  0.32238322496414185\n",
      "Test R^2 after pruning:  0.3122464418411255\n",
      "\n",
      "CVFOLD:  1\n",
      "[INFO] training network...\n",
      "The 25 genes that make it:  ['Ndst3' 'Pcsk5' 'Ptpru' 'Flt3' 'Igf1' 'Grm1' 'A830018L16Rik' 'Kcnc2'\n",
      " 'Kctd8' 'Htr1f' 'Syt6' 'Elmo1' 'Vip' 'Pvalb' 'Cplx3' 'Akr1c18' 'Cacna2d3'\n",
      " 'Synpr' 'Kcnab1' 'Mybpc1' 'Cntn4' 'Npy' 'Brinp3' 'Fxyd6' 'Penk']\n",
      "[INFO] training network...\n",
      "Train R^2 before pruning:  0.3172977566719055\n",
      "Test R^2 after pruning:  0.30021095275878906\n",
      "Train R^2 after pruning:  0.31988900899887085\n",
      "Test R^2 after pruning:  0.3071053624153137\n",
      "\n",
      "CVFOLD:  2\n",
      "[INFO] training network...\n",
      "The 25 genes that make it:  ['Nell1' 'A830018L16Rik' 'Socs2' 'Alcam' 'Dpp10' 'Grik1' 'Akr1c18' 'Kcnc2'\n",
      " 'Trhde' 'Cntn4' 'Flt3' 'Cacna2d3' 'Htr1f' 'Vip' 'Cplx3' 'Kcnab1' 'Pvalb'\n",
      " 'Ptprt' 'Alk' 'Synpr' 'Npy' 'Mybpc1' 'Penk' 'Brinp3' 'Fxyd6']\n",
      "[INFO] training network...\n",
      "Train R^2 before pruning:  0.3189937472343445\n",
      "Test R^2 after pruning:  0.2956715226173401\n",
      "Train R^2 after pruning:  0.3302310109138489\n",
      "Test R^2 after pruning:  0.30226850509643555\n",
      "\n",
      "CVFOLD:  3\n",
      "[INFO] training network...\n",
      "The 25 genes that make it:  ['Hpse' 'Syt6' 'Zfp57' 'Zfp804a' 'Chodl' 'Kcna1' 'Kcnab1' 'Ncam2' 'Ptprt'\n",
      " 'Dpp10' 'Cplx3' 'Kcnc2' 'Npy' 'Cacna2d3' 'Ptpru' 'Alk' 'Pvalb' 'Synpr'\n",
      " 'Vip' 'Slc24a4' 'Cntn4' 'Brinp3' 'Mybpc1' 'Penk' 'Fxyd6']\n",
      "[INFO] training network...\n",
      "Train R^2 before pruning:  0.32078778743743896\n",
      "Test R^2 after pruning:  0.29685336351394653\n",
      "Train R^2 after pruning:  0.32493287324905396\n",
      "Test R^2 after pruning:  0.2919389009475708\n",
      "\n",
      "CVFOLD:  4\n",
      "[INFO] training network...\n",
      "The 25 genes that make it:  ['Kctd8' 'Ppapdc1a' 'Syt6' 'Grik1' 'Sema5a' 'Htr1f' 'Npy' 'Dpp10' 'Synpr'\n",
      " 'Trhde' 'Hpse' 'Kcna1' 'Erbb4' 'Alk' 'Ptpru' 'Vip' 'Chodl' 'Cacna2d3'\n",
      " 'Kcnab1' 'Mybpc1' 'Ptprt' 'Brinp3' 'Cntn4' 'Fxyd6' 'Penk']\n",
      "[INFO] training network...\n",
      "Train R^2 before pruning:  0.3235543370246887\n",
      "Test R^2 after pruning:  0.2726452946662903\n",
      "Train R^2 after pruning:  0.3286881446838379\n",
      "Test R^2 after pruning:  0.2673358917236328\n",
      "\n",
      "CVFOLD:  5\n",
      "[INFO] training network...\n",
      "The 25 genes that make it:  ['Trhde' 'Cdh7' 'Erbb4' 'Kctd8' 'Syt6' 'Htr1f' 'Alcam' 'Kcnab1' 'Zfp804a'\n",
      " 'Pvalb' 'Alk' 'Elmo1' 'Ptprt' 'Ptpru' 'Dpp10' 'Grik1' 'Npy' 'Cntn4'\n",
      " 'Cacna2d3' 'Vip' 'Synpr' 'Brinp3' 'Fxyd6' 'Mybpc1' 'Penk']\n",
      "[INFO] training network...\n",
      "Train R^2 before pruning:  0.32333147525787354\n",
      "Test R^2 after pruning:  0.2971764802932739\n",
      "Train R^2 after pruning:  0.3299654722213745\n",
      "Test R^2 after pruning:  0.3064150810241699\n",
      "\n",
      "CVFOLD:  6\n",
      "[INFO] training network...\n",
      "The 25 genes that make it:  ['Igf1' 'Grik1' 'Hpse' 'Zfp804a' 'Flt3' 'Kcnc2' 'Cacna2d3' 'Unc5d' 'Npy'\n",
      " 'Htr1f' 'Alk' 'Slc24a4' 'Zfp536' 'Lamp5' 'Nell1' 'Kcnab1' 'Vip' 'Ptpru'\n",
      " 'Cntn4' 'Ptprt' 'Mybpc1' 'Synpr' 'Penk' 'Fxyd6' 'Brinp3']\n",
      "[INFO] training network...\n",
      "Train R^2 before pruning:  0.3173786401748657\n",
      "Test R^2 after pruning:  0.2996596693992615\n",
      "Train R^2 after pruning:  0.32916486263275146\n",
      "Test R^2 after pruning:  0.30132681131362915\n",
      "\n",
      "CVFOLD:  7\n",
      "[INFO] training network...\n",
      "The 25 genes that make it:  ['Ptpn3' 'Igf1' 'Il1rap' 'Vip' 'March1' 'Kcnc2' 'Ptprt' 'Trhde' 'Pdyn'\n",
      " 'Alcam' 'Dpp10' 'Cntn4' 'Alk' 'Syt6' 'Mybpc1' 'Pvalb' 'Cacna2d3' 'Npy'\n",
      " 'Kctd8' 'Chodl' 'Kcnab1' 'Synpr' 'Brinp3' 'Fxyd6' 'Penk']\n",
      "[INFO] training network...\n",
      "Train R^2 before pruning:  0.31634604930877686\n",
      "Test R^2 after pruning:  0.29481709003448486\n",
      "Train R^2 after pruning:  0.327065110206604\n",
      "Test R^2 after pruning:  0.2854708433151245\n",
      "\n",
      "CVFOLD:  8\n",
      "[INFO] training network...\n",
      "The 25 genes that make it:  ['Pdyn' 'Egln3' 'Grm1' 'Sema3c' 'Hpse' 'Alk' 'Ppapdc1a' 'Cdh7' 'Ptpru'\n",
      " 'Nell1' 'Akr1c18' 'Cplx3' 'Dpp10' 'Chodl' 'Vip' 'Kcnab1' 'Ptprt' 'Pvalb'\n",
      " 'Flt3' 'Trhde' 'Mybpc1' 'Slc24a4' 'Brinp3' 'Penk' 'Fxyd6']\n",
      "[INFO] training network...\n",
      "Train R^2 before pruning:  0.31569987535476685\n",
      "Test R^2 after pruning:  0.28971487283706665\n",
      "Train R^2 after pruning:  0.31842947006225586\n",
      "Test R^2 after pruning:  0.2844575047492981\n",
      "\n",
      "CVFOLD:  9\n",
      "[INFO] training network...\n",
      "The 25 genes that make it:  ['Igf1' 'Kctd8' 'Unc5d' 'Nell1' 'Grik1' 'Akr1c18' 'Erbb4' 'Syt6' 'Zfp804a'\n",
      " 'Kcnc2' 'Synpr' 'Alk' 'Chodl' 'Ptprt' 'Npy' 'Ptpru' 'Dpp10' 'Vip' 'Pvalb'\n",
      " 'Kcna1' 'Mybpc1' 'Cntn4' 'Brinp3' 'Penk' 'Fxyd6']\n",
      "[INFO] training network...\n",
      "Train R^2 before pruning:  0.3221895098686218\n",
      "Test R^2 after pruning:  0.27995914220809937\n",
      "Train R^2 after pruning:  0.33021146059036255\n",
      "Test R^2 after pruning:  0.2861593961715698\n",
      "Time: 0.0h 27m 49s\n"
     ]
    }
   ],
   "source": [
    "# Settings\n",
    "l2_params = np.logspace(-10, -10, num=1)\n",
    "l1_params = np.array([1e-1])\n",
    "\n",
    "act = 'elu'\n",
    "folds = 10\n",
    "seed = 42\n",
    "lr=0.0001\n",
    "epochs=50\n",
    "bs=32\n",
    "prune=True\n",
    "patience=epochs\n",
    "\n",
    "r2_straight_regr = np.zeros((folds, l1_params.shape[0], l2_params.shape[0]))\n",
    "r2_straight_regr_tr = np.zeros((folds, l1_params.shape[0], l2_params.shape[0]))\n",
    "r2_straight_regr_ap = np.zeros((folds, l1_params.shape[0], l2_params.shape[0]))\n",
    "r2_straight_regr_ap_tr = np.zeros((folds, l1_params.shape[0], l2_params.shape[0]))\n",
    "r2_straight_regr_hist = np.zeros((folds, l1_params.shape[0], l2_params.shape[0], 4*epochs))\n",
    "r2_straight_regr_hist_tr = np.zeros((folds, l1_params.shape[0], l2_params.shape[0], 4*epochs))\n",
    "\n",
    "t = time.time()\n",
    "np.random.seed(seed)\n",
    "n = genes.shape[0]\n",
    "ind = np.random.permutation(n)\n",
    "X = genes[ind,:]\n",
    "Y = ephys[ind,:]\n",
    "\n",
    "nodes_list=[512,128,64,128,512]\n",
    "\n",
    "# CV folds\n",
    "for cvfold in range(folds):\n",
    "    print('\\nCVFOLD: ', cvfold)\n",
    "    indtest  = np.arange(cvfold*int(n/folds), (cvfold+1)*int(n/folds))\n",
    "    indtrain = np.setdiff1d(np.arange(n), indtest)\n",
    "    x_train = np.copy(X[indtrain,:])\n",
    "    y_train = np.copy(Y[indtrain,:])\n",
    "    x_test = np.copy(X[indtest,:])\n",
    "    y_test = np.copy(Y[indtest,:])\n",
    "\n",
    "    # Mean centering (like sRRR)\n",
    "    X_mean = np.mean(x_train, axis=0)\n",
    "    x_train -= X_mean\n",
    "    x_test -= X_mean\n",
    "    Y_mean = np.mean(y_train, axis=0)\n",
    "    y_train -= Y_mean\n",
    "    y_test -= Y_mean\n",
    "    \n",
    "    input_dim = x_train.shape[1]\n",
    "    output_dim = y_train.shape[1]\n",
    "    \n",
    "    for i, l2 in enumerate(l2_params):\n",
    "        #print('Ridge penalty: ', l2)\n",
    "        for j, l1 in enumerate(l1_params):\n",
    "            #print('Lasso penalty: ', l1)\n",
    "            BN_StraightRegression = StraightRegression(l1=l1, l2=l2, lr=lr, act=act, \\\n",
    "                                                       input_dim=input_dim, output_dim=output_dim, nodes_list=nodes_list)\n",
    "            r2_train, r2_test, \\\n",
    "                r2_ap_train, r2_ap_test, \\\n",
    "                train_hist, test_hist = BN_StraightRegression.train(x_train=x_train, y_train=y_train, \\\n",
    "                                                                                   x_test=x_test, y_test=y_test, \\\n",
    "                                                                                   epochs=epochs, bs=bs, patience=patience, \\\n",
    "                                                                                   cvfold_id=cvfold, l1_id=j, l2_id=i, \\\n",
    "                                                                                   prune=prune, geneNames=gene_names, \\\n",
    "                                                                                   verbose=0)\n",
    "            r2_straight_regr[cvfold, j, i] = r2_test\n",
    "            r2_straight_regr_tr[cvfold, j, i] = r2_train\n",
    "            r2_straight_regr_ap[cvfold, j, i] = r2_ap_test\n",
    "            r2_straight_regr_ap_tr[cvfold, j, i] = r2_ap_train\n",
    "            r2_straight_regr_hist[cvfold, j, i] = test_hist\n",
    "            r2_straight_regr_hist_tr[cvfold, j, i] = train_hist\n",
    "            #print('Test R^2 score (straight regression, no pre-tr): ', r2_straight_regr[cvfold, j, i])\n",
    "            #print('Test R^2 score after pruning (straight regression, no pre-tr): ', r2_straight_regr_ap[cvfold, j, i])\n",
    "\n",
    "t = time.time() - t\n",
    "m,s = divmod(t, 60)\n",
    "h,m = divmod(m, 60)\n",
    "print('Time: {}h {:2.0f}m {:2.0f}s'.format(h,m,s))"
   ]
  },
  {
   "cell_type": "code",
   "execution_count": 14,
   "metadata": {},
   "outputs": [],
   "source": [
    "with open('KerasSavedModels/gouwens_2020_tf2/Bottleneck_r2_straight_regr_lasso_nb.pickle', 'wb') as f:\n",
    "    pickle.dump([r2_straight_regr, r2_straight_regr_tr, \\\n",
    "                 r2_straight_regr_ap, r2_straight_regr_ap_tr, \\\n",
    "                 r2_straight_regr_hist, r2_straight_regr_hist_tr], f)"
   ]
  },
  {
   "cell_type": "markdown",
   "metadata": {},
   "source": [
    "Group lasso + ridge penalty classification pre-training model."
   ]
  },
  {
   "cell_type": "code",
   "execution_count": 15,
   "metadata": {},
   "outputs": [],
   "source": [
    "from bottleneck_networks_tf2 import ClassificationPreTrain"
   ]
  },
  {
   "cell_type": "code",
   "execution_count": null,
   "metadata": {},
   "outputs": [
    {
     "name": "stdout",
     "output_type": "stream",
     "text": [
      "\n",
      "CVFOLD:  0\n",
      "[INFO] training network...\n",
      "[INFO] training network...\n",
      "[INFO] training network...\n",
      "[INFO] training network...\n",
      "\n",
      "CVFOLD:  1\n",
      "[INFO] training network...\n",
      "[INFO] training network...\n",
      "[INFO] training network...\n",
      "[INFO] training network...\n",
      "\n",
      "CVFOLD:  2\n",
      "[INFO] training network...\n",
      "[INFO] training network...\n",
      "[INFO] training network...\n",
      "\n",
      "CVFOLD:  3\n",
      "[INFO] training network...\n",
      "[INFO] training network...\n",
      "[INFO] training network...\n",
      "[INFO] training network...\n",
      "\n",
      "CVFOLD:  4\n",
      "[INFO] training network...\n",
      "[INFO] training network...\n",
      "[INFO] training network...\n",
      "[INFO] training network...\n",
      "\n",
      "CVFOLD:  5\n",
      "[INFO] training network...\n",
      "[INFO] training network...\n",
      "[INFO] training network...\n",
      "[INFO] training network...\n",
      "\n",
      "CVFOLD:  6\n",
      "[INFO] training network...\n",
      "[INFO] training network...\n",
      "[INFO] training network...\n",
      "[INFO] training network...\n",
      "\n",
      "CVFOLD:  7\n",
      "[INFO] training network...\n",
      "[INFO] training network...\n",
      "[INFO] training network...\n",
      "[INFO] training network...\n",
      "\n",
      "CVFOLD:  8\n",
      "[INFO] training network...\n"
     ]
    }
   ],
   "source": [
    "# Immediately for different penalties, but we'll be only interested in the 1e-1 penalty (for now), i.e. see extensions later\n",
    "l2_params = np.logspace(-10, -10, num=1)\n",
    "l1_params = np.array([1e-4, 1e-2, 1e-1, 1])\n",
    "\n",
    "act = 'elu'\n",
    "folds = 10\n",
    "seed = 42\n",
    "lr=0.0001\n",
    "epochs=50\n",
    "bs=32\n",
    "patience=epochs\n",
    "\n",
    "\n",
    "t = time.time()\n",
    "np.random.seed(seed)\n",
    "n = genes.shape[0]\n",
    "ind = np.random.permutation(n)\n",
    "X = genes[ind,:]\n",
    "Y = ephys[ind,:]\n",
    "clusters_ = clusters[ind]\n",
    "ind_pre_train = ind_pre_training_clusters[ind]\n",
    "\n",
    "CE_loss = np.zeros((folds, l1_params.shape[0], l2_params.shape[0]))\n",
    "CE_loss_tr = np.zeros((folds, l1_params.shape[0], l2_params.shape[0]))\n",
    "pre_tr_hist = np.zeros((folds, l1_params.shape[0], l2_params.shape[0], epochs))\n",
    "pre_tr_hist_tr = np.zeros((folds, l1_params.shape[0], l2_params.shape[0], epochs))\n",
    "\n",
    "nodes_list=[512,128,64,128,512]\n",
    "\n",
    "# CV folds\n",
    "for cvfold in range(folds):\n",
    "    print('\\nCVFOLD: ', cvfold)\n",
    "    indtest  = np.arange(cvfold*int(n/folds), (cvfold+1)*int(n/folds))\n",
    "    indtrain = np.setdiff1d(np.arange(n), indtest)\n",
    "    x_train = np.copy(X[indtrain,:])\n",
    "    clusters_train = np.copy(clusters_[indtrain])\n",
    "    y_train = np.copy(Y[indtrain,:])\n",
    "    x_test = np.copy(X[indtest,:])\n",
    "    clusters_test = np.copy(clusters_[indtest])\n",
    "    y_test = np.copy(Y[indtest,:])\n",
    "\n",
    "    # Mean centering (like sRRR)\n",
    "    X_mean = np.mean(x_train, axis=0)\n",
    "    x_train -= X_mean\n",
    "    x_test -= X_mean\n",
    "    Y_mean = np.mean(y_train, axis=0)\n",
    "    y_train -= Y_mean\n",
    "    y_test -= Y_mean\n",
    "\n",
    "    # In our training set we now look for a 'pretraining' training and test data set that we can use\n",
    "    # for pretraing a classification network, i.e. picking the best model will be dones with a seperate val set in our\n",
    "    # training set for regression.\n",
    "\n",
    "    x_train_pre_tr = x_train[ind_pre_train[indtrain], :]\n",
    "    clusters_train_pre_tr = clusters_train[ind_pre_train[indtrain]]\n",
    "    \n",
    "    pre_train_size = 0.6\n",
    "    train_cnt = round(x_train_pre_tr.shape[0]*pre_train_size)\n",
    "    x_train_pre_tr_ = x_train_pre_tr[:train_cnt, :]\n",
    "    x_test_pre_tr_ = x_train_pre_tr[train_cnt:, :]\n",
    "    clusters_train_pre_tr_ = clusters_train_pre_tr[:train_cnt]\n",
    "    clusters_test_pre_tr_ = clusters_train_pre_tr[train_cnt:]\n",
    "    \n",
    "    for i, l2 in enumerate(l2_params):\n",
    "        #print('Ridge penalty: ', l2)\n",
    "        for j, l1 in enumerate(l1_params):\n",
    "            #print('Lasso penalty: ', l1)\n",
    "\n",
    "\n",
    "            input_dim = x_train.shape[1]\n",
    "            output_dim = to_categorical(clusters_train_pre_tr).shape[1]\n",
    "            BN_Classification = ClassificationPreTrain(l1=l1, l2=l2, lr=lr, act=act, input_dim=input_dim, \\\n",
    "                                                       output_dim=output_dim, nodes_list=nodes_list)\n",
    "            CE_train, CE_test, train_hist, test_hist = BN_Classification.train(x_train=x_train_pre_tr_, \\\n",
    "                                                                               cluster_train=clusters_train_pre_tr_, \\\n",
    "                                                                               x_test=x_test_pre_tr_, \\\n",
    "                                                                               cluster_test=clusters_test_pre_tr_, \\\n",
    "                                                                               epochs=epochs, bs=bs, patience=patience, \\\n",
    "                                                                               cvfold_id=cvfold, l1_id=j, l2_id=i, \\\n",
    "                                                                               verbose=0)\n",
    "            CE_loss[cvfold, j, i] = CE_test\n",
    "            CE_loss_tr[cvfold, j, i] = CE_train\n",
    "            pre_tr_hist[cvfold, j, i] = test_hist\n",
    "            pre_tr_hist_tr[cvfold, j, i] = train_hist\n",
    "            #print('Test CE loss (pre-trainin): ', CE_loss[cvfold, j, i])\n",
    "            \n",
    "t = time.time() - t\n",
    "m,s = divmod(t, 60)\n",
    "h,m = divmod(m, 60)\n",
    "print('Time: {}h {:2.0f}m {:2.0f}s'.format(h,m,s))"
   ]
  },
  {
   "cell_type": "code",
   "execution_count": null,
   "metadata": {},
   "outputs": [],
   "source": [
    "with open('KerasSavedModels/gouwens_2020_tf2/Bottleneck_pre_tr_lasso_nb.pickle', 'wb') as f:\n",
    "    pickle.dump([CE_loss, CE_loss_tr, pre_tr_hist, pre_tr_hist_tr], f)"
   ]
  },
  {
   "cell_type": "markdown",
   "metadata": {},
   "source": [
    "Group lasso + ridge penalty pre-train and regression model."
   ]
  },
  {
   "cell_type": "code",
   "execution_count": null,
   "metadata": {},
   "outputs": [],
   "source": [
    "# Settings\n",
    "l2_params = np.logspace(-10, -10, num=1)\n",
    "l1_params = np.array([1e-1])\n",
    "\n",
    "act = 'elu'\n",
    "folds = 10\n",
    "seed = 42\n",
    "lr=0.0001\n",
    "epochs=50\n",
    "bs=32\n",
    "patience=epochs\n",
    "pre_trained_weights=True\n",
    "prune=True\n",
    "\n",
    "r2_pretr_straight_regr = np.zeros((folds, l1_params.shape[0], l2_params.shape[0]))\n",
    "r2_pretr_straight_regr_tr = np.zeros((folds, l1_params.shape[0], l2_params.shape[0]))\n",
    "r2_pretr_straight_regr_ap = np.zeros((folds, l1_params.shape[0], l2_params.shape[0]))\n",
    "r2_pretr_straight_regr_ap_tr = np.zeros((folds, l1_params.shape[0], l2_params.shape[0]))\n",
    "r2_pretr_straight_regr_hist = np.zeros((folds, l1_params.shape[0], l2_params.shape[0], 4*epochs))\n",
    "r2_pretr_straight_regr_hist_tr = np.zeros((folds, l1_params.shape[0], l2_params.shape[0], 4*epochs))\n",
    "\n",
    "t = time.time()\n",
    "np.random.seed(seed)\n",
    "n = genes.shape[0]\n",
    "ind = np.random.permutation(n)\n",
    "X = genes[ind,:]\n",
    "Y = ephys[ind,:]\n",
    "\n",
    "nodes_list=[512,128,64,128,512]\n",
    "\n",
    "# CV folds\n",
    "for cvfold in range(folds):\n",
    "    print('\\nCVFOLD: ', cvfold)\n",
    "    indtest  = np.arange(cvfold*int(n/folds), (cvfold+1)*int(n/folds))\n",
    "    indtrain = np.setdiff1d(np.arange(n), indtest)\n",
    "    x_train = np.copy(X[indtrain,:])\n",
    "    y_train = np.copy(Y[indtrain,:])\n",
    "    x_test = np.copy(X[indtest,:])\n",
    "    y_test = np.copy(Y[indtest,:])\n",
    "\n",
    "    # Mean centering (like sRRR)\n",
    "    X_mean = np.mean(x_train, axis=0)\n",
    "    x_train -= X_mean\n",
    "    x_test -= X_mean\n",
    "    Y_mean = np.mean(y_train, axis=0)\n",
    "    y_train -= Y_mean\n",
    "    y_test -= Y_mean\n",
    "    \n",
    "    input_dim = x_train.shape[1]\n",
    "    output_dim = y_train.shape[1]\n",
    "    \n",
    "    for i, l2 in enumerate(l2_params):\n",
    "        #print('Ridge penalty: ', l2)\n",
    "        for j, l1 in enumerate(l1_params):\n",
    "            #print('Lasso penalty: ', l1)\n",
    "            \n",
    "            pre_trained_weights_h5 = 'KerasSavedModels/Classification_last_weights_{}_{}_{}.h5'.format(cvfold, 2, i)\n",
    "            \n",
    "            BN_PreTrStraightRegression = StraightRegression(l1=l1, l2=l2, lr=lr, act=act, \\\n",
    "                                            input_dim=input_dim, output_dim=output_dim, \\\n",
    "                                            pre_trained_weights=pre_trained_weights, \\\n",
    "                                            pre_trained_weights_h5=pre_trained_weights_h5, nodes_list=nodes_list)\n",
    "            r2_train, r2_test, \\\n",
    "                r2_train_ap, r2_test_ap, \\\n",
    "                train_hist, test_hist = BN_PreTrStraightRegression.train(x_train=x_train, y_train=y_train, \\\n",
    "                                                                                   x_test=x_test, y_test=y_test, \\\n",
    "                                                                                   epochs=epochs, bs=bs, patience=patience, \\\n",
    "                                                                                   cvfold_id=cvfold, l1_id=j, l2_id=i, \\\n",
    "                                                                                   prune=prune, geneNames=gene_names, \\\n",
    "                                                                                   verbose=0)\n",
    "            r2_pretr_straight_regr[cvfold, j, i] = r2_test\n",
    "            r2_pretr_straight_regr_tr[cvfold, j, i] = r2_train\n",
    "            r2_pretr_straight_regr_ap[cvfold, j, i] = r2_test_ap\n",
    "            r2_pretr_straight_regr_ap_tr[cvfold, j, i] = r2_train_ap            \n",
    "            r2_pretr_straight_regr_hist[cvfold, j, i] = test_hist\n",
    "            r2_pretr_straight_regr_hist_tr[cvfold, j, i] = train_hist\n",
    "            #print('Test R^2 score (regression, after pre-tr): ', r2_pretr_straight_regr[cvfold, j, i])\n",
    "            #print('Test R^2 score (regression, after pre-tr), after pruning: ', r2_pretr_straight_regr_ap[cvfold, j, i])\n",
    "\n",
    "t = time.time() - t\n",
    "m,s = divmod(t, 60)\n",
    "h,m = divmod(m, 60)\n",
    "print('Time: {}h {:2.0f}m {:2.0f}s'.format(h,m,s))"
   ]
  },
  {
   "cell_type": "code",
   "execution_count": null,
   "metadata": {},
   "outputs": [],
   "source": [
    "with open('KerasSavedModels/gouwens_2020_tf2/Bottleneck_r2_pre_tr_and_straight_regr_lasso_nb.pickle', 'wb') as f:\n",
    "    pickle.dump([r2_pretr_straight_regr, r2_pretr_straight_regr_tr, \\\n",
    "                 r2_pretr_straight_regr_ap, r2_pretr_straight_regr_ap_tr, \\\n",
    "                 r2_pretr_straight_regr_hist, r2_pretr_straight_regr_hist_tr], f)"
   ]
  },
  {
   "cell_type": "markdown",
   "metadata": {},
   "source": [
    "Group lasso + ridge penalty pre-train + freeze the first 2 layers + unfreeze model."
   ]
  },
  {
   "cell_type": "code",
   "execution_count": null,
   "metadata": {},
   "outputs": [],
   "source": [
    "from bottleneck_networks_tf2 import FreezeUnfreeze"
   ]
  },
  {
   "cell_type": "code",
   "execution_count": null,
   "metadata": {},
   "outputs": [],
   "source": [
    "# Settings\n",
    "l2_params = np.logspace(-10, -10, num=1)\n",
    "l1_params = np.array([1e-4, 1e-2, 1e-1, 1])\n",
    "\n",
    "act = 'elu'\n",
    "folds = 10\n",
    "seed = 42\n",
    "lr=0.0001\n",
    "epochs=50\n",
    "bs=32\n",
    "patience=epochs\n",
    "pre_trained_weights=True\n",
    "unfreeze = [False, False, True, True, True, True] # last 4 layers can be trained only first\n",
    "prune=True\n",
    "\n",
    "r2_before_unfreezing = np.zeros((folds, l1_params.shape[0], l2_params.shape[0]))\n",
    "r2_before_unfreezing_tr = np.zeros((folds, l1_params.shape[0], l2_params.shape[0]))\n",
    "r2_after_unfreezing = np.zeros((folds, l1_params.shape[0], l2_params.shape[0]))\n",
    "r2_after_unfreezing_tr = np.zeros((folds, l1_params.shape[0], l2_params.shape[0]))\n",
    "r2_after_unfreezing_ap = np.zeros((folds, l1_params.shape[0], l2_params.shape[0]))\n",
    "r2_after_unfreezing_ap_tr = np.zeros((folds, l1_params.shape[0], l2_params.shape[0]))\n",
    "r2_freeze_unfreeze_hist = np.zeros((folds, l1_params.shape[0], l2_params.shape[0], 4*epochs))\n",
    "r2_freeze_unfreeze_hist_tr = np.zeros((folds, l1_params.shape[0], l2_params.shape[0], 4*epochs))\n",
    "\n",
    "t = time.time()\n",
    "np.random.seed(seed)\n",
    "n = genes.shape[0]\n",
    "ind = np.random.permutation(n)\n",
    "X = genes[ind,:]\n",
    "Y = ephys[ind,:]\n",
    "\n",
    "nodes_list=[512,128,64,128,512]\n",
    "\n",
    "# CV folds\n",
    "for cvfold in range(folds):\n",
    "    print('\\nCVFOLD: ', cvfold)\n",
    "    indtest  = np.arange(cvfold*int(n/folds), (cvfold+1)*int(n/folds))\n",
    "    indtrain = np.setdiff1d(np.arange(n), indtest)\n",
    "    x_train = np.copy(X[indtrain,:])\n",
    "    y_train = np.copy(Y[indtrain,:])\n",
    "    x_test = np.copy(X[indtest,:])\n",
    "    y_test = np.copy(Y[indtest,:])\n",
    "\n",
    "    # Mean centering (like sRRR)\n",
    "    X_mean = np.mean(x_train, axis=0)\n",
    "    x_train -= X_mean\n",
    "    x_test -= X_mean\n",
    "    Y_mean = np.mean(y_train, axis=0)\n",
    "    y_train -= Y_mean\n",
    "    y_test -= Y_mean\n",
    "    \n",
    "    input_dim = x_train.shape[1]\n",
    "    output_dim = y_train.shape[1]\n",
    "    \n",
    "    for i, l2 in enumerate(l2_params):\n",
    "        #print('Ridge penalty: ', l2)\n",
    "        for j, l1 in enumerate(l1_params):\n",
    "            #print('Lasso penalty: ', l1)\n",
    "            \n",
    "            pre_trained_weights_h5 = 'KerasSavedModels/Classification_last_weights_{}_{}_{}.h5'.format(cvfold, j, i)\n",
    "            input_dim = x_train.shape[1]\n",
    "            output_dim = y_train.shape[1]\n",
    "            BN_PreTrFreezeUnfreeze = FreezeUnfreeze(l1=l1, l2=l2, lr=lr, act=act, input_dim=input_dim, output_dim=output_dim, \\\n",
    "                                                       unfreeze = unfreeze, \\\n",
    "                                                       pre_trained_weights=pre_trained_weights, \\\n",
    "                                                       pre_trained_weights_h5=pre_trained_weights_h5, nodes_list=nodes_list)\n",
    "            r2_before_unfreezing_train, r2_before_unfreezing_test, \\\n",
    "                r2_after_unfreezing_train, r2_after_unfreezing_test, \\\n",
    "                r2_after_unfreezing_train_ap, r2_after_unfreezing_test_ap, \\\n",
    "                train_hist, test_hist = BN_PreTrFreezeUnfreeze.train(x_train=x_train, y_train=y_train, \\\n",
    "                                                                    x_test=x_test, y_test=y_test, \\\n",
    "                                                                    epochs=epochs, bs=bs, patience=patience, \\\n",
    "                                                                    cvfold_id=cvfold, l1_id=j, l2_id=i, \\\n",
    "                                                                    prune=prune, geneNames=gene_names, \\\n",
    "                                                                    verbose=0)\n",
    "            r2_before_unfreezing[cvfold, j, i] = r2_before_unfreezing_test\n",
    "            r2_before_unfreezing_tr[cvfold, j, i] = r2_before_unfreezing_train\n",
    "            r2_after_unfreezing[cvfold, j, i] = r2_after_unfreezing_test\n",
    "            r2_after_unfreezing_tr[cvfold, j, i] = r2_after_unfreezing_train\n",
    "            r2_after_unfreezing_ap[cvfold, j, i] = r2_after_unfreezing_test_ap\n",
    "            r2_after_unfreezing_ap_tr[cvfold, j, i] = r2_after_unfreezing_train_ap\n",
    "            r2_freeze_unfreeze_hist[cvfold, j, i] = test_hist\n",
    "            r2_freeze_unfreeze_hist_tr[cvfold, j, i] = train_hist\n",
    "            #print('Test R^2 score (before unfreezing): ', r2_before_unfreezing[cvfold, j, i])\n",
    "            #print('Test R^2 score (after unfreezing): ', r2_after_unfreezing[cvfold, j, i])\n",
    "            #print('Test R^2 score (after unfreezing and after pruning): ', r2_after_unfreezing_ap[cvfold, j, i])\n",
    "            \n",
    "t = time.time() - t\n",
    "m,s = divmod(t, 60)\n",
    "h,m = divmod(m, 60)\n",
    "print('Time: {}h {:2.0f}m {:2.0f}s'.format(h,m,s))"
   ]
  },
  {
   "cell_type": "code",
   "execution_count": null,
   "metadata": {},
   "outputs": [],
   "source": [
    "with open('KerasSavedModels/gouwens_2020_tf2/Bottleneck_r2_pre_tr_and_freeze_unfreeze_lasso_nb.pickle', 'wb') as f:\n",
    "    pickle.dump([r2_before_unfreezing, r2_before_unfreezing_tr, \\\n",
    "                 r2_after_unfreezing, r2_after_unfreezing_tr, \\\n",
    "                 r2_after_unfreezing_ap, r2_after_unfreezing_ap_tr, \\\n",
    "                 r2_freeze_unfreeze_hist, r2_freeze_unfreeze_hist_tr], f)"
   ]
  },
  {
   "cell_type": "markdown",
   "metadata": {},
   "source": [
    "Let us now analyse and visualise the differences."
   ]
  },
  {
   "cell_type": "code",
   "execution_count": 23,
   "metadata": {},
   "outputs": [],
   "source": [
    "lambdas = np.arange(.5,3,.1)\n",
    "alphas = np.array([1])"
   ]
  },
  {
   "cell_type": "code",
   "execution_count": 55,
   "metadata": {},
   "outputs": [],
   "source": [
    "with open('KerasSavedModels/gouwens_2020_tf2/sRRR_vs_Bottleneck_rank2_CV_lasso.pickle', 'rb') as f:\n",
    "    r2_sRRR_rank2, r2_sRRR_relaxed_rank2, r2_sRRR_rank2_tr, r2_sRRR_relaxed_rank2_tr, \\\n",
    "                nonzero_rank2, corrs_rank2, corrs_relaxed_rank2 = pickle.load(f)"
   ]
  },
  {
   "cell_type": "code",
   "execution_count": 56,
   "metadata": {},
   "outputs": [],
   "source": [
    "with open('KerasSavedModels/gouwens_2020_tf2/sRRR_vs_Bottleneck_rank16_CV_lasso.pickle', 'rb') as f:\n",
    "    r2_sRRR_rank16, r2_sRRR_relaxed_rank16, r2_sRRR_rank16_tr, r2_sRRR_relaxed_rank16_tr, \\\n",
    "                nonzero_rank16, corrs_rank16, corrs_relaxed_rank16 = pickle.load(f)"
   ]
  },
  {
   "cell_type": "code",
   "execution_count": 57,
   "metadata": {},
   "outputs": [],
   "source": [
    "with open('KerasSavedModels/gouwens_2020_tf2/Bottleneck_pre_tr_lasso.pickle', 'rb') as f:\n",
    "    CE_loss, CE_loss_tr, pre_tr_hist, pre_tr_hist_tr = pickle.load(f)"
   ]
  },
  {
   "cell_type": "code",
   "execution_count": 58,
   "metadata": {},
   "outputs": [],
   "source": [
    "with open('KerasSavedModels/gouwens_2020_tf2/Bottleneck_pre_tr_lasso_nb.pickle', 'rb') as f:\n",
    "    CE_loss_nb, CE_loss_tr_nb, pre_tr_hist_nb, pre_tr_hist_tr_nb = pickle.load(f)"
   ]
  },
  {
   "cell_type": "code",
   "execution_count": 59,
   "metadata": {},
   "outputs": [],
   "source": [
    "with open('KerasSavedModels/gouwens_2020_tf2/Bottleneck_r2_straight_regr_lasso.pickle', 'rb') as f:\n",
    "    r2_straight_regr, r2_straight_regr_tr, \\\n",
    "    r2_straight_regr_ap, r2_straight_regr_ap_tr, \\\n",
    "    r2_straight_regr_hist, r2_straight_regr_hist_tr = pickle.load(f)"
   ]
  },
  {
   "cell_type": "code",
   "execution_count": 60,
   "metadata": {},
   "outputs": [],
   "source": [
    "with open('KerasSavedModels/gouwens_2020_tf2/Bottleneck_r2_straight_regr_lasso_nb.pickle', 'rb') as f:\n",
    "    r2_straight_regr_nb, r2_straight_regr_tr_nb, \\\n",
    "    r2_straight_regr_ap_nb, r2_straight_regr_ap_tr_nb, \\\n",
    "    r2_straight_regr_hist_nb, r2_straight_regr_hist_tr_nb = pickle.load(f)"
   ]
  },
  {
   "cell_type": "code",
   "execution_count": 61,
   "metadata": {},
   "outputs": [],
   "source": [
    "with open('KerasSavedModels/gouwens_2020_tf2/Bottleneck_r2_pre_tr_and_straight_regr_lasso.pickle', 'rb') as f:\n",
    "    r2_pretr_straight_regr, r2_pretr_straight_regr_tr, \\\n",
    "    r2_pretr_straight_regr_ap, r2_pretr_straight_regr_ap_tr, \\\n",
    "    r2_pretr_straight_regr_hist, r2_pretr_straight_regr_hist_tr = pickle.load(f)"
   ]
  },
  {
   "cell_type": "code",
   "execution_count": 62,
   "metadata": {},
   "outputs": [],
   "source": [
    "with open('KerasSavedModels/gouwens_2020_tf2/Bottleneck_r2_pre_tr_and_straight_regr_lasso_nb.pickle', 'rb') as f:\n",
    "    r2_pretr_straight_regr_nb, r2_pretr_straight_regr_tr_nb, \\\n",
    "    r2_pretr_straight_regr_ap_nb, r2_pretr_straight_regr_ap_tr_nb, \\\n",
    "    r2_pretr_straight_regr_hist_nb, r2_pretr_straight_regr_hist_tr_nb = pickle.load(f)"
   ]
  },
  {
   "cell_type": "code",
   "execution_count": 63,
   "metadata": {},
   "outputs": [],
   "source": [
    "with open('KerasSavedModels/gouwens_2020_tf2/Bottleneck_r2_pre_tr_and_freeze_unfreeze_lasso.pickle', 'rb') as f:\n",
    "    r2_before_unfreezing, r2_before_unfreezing_tr, \\\n",
    "    r2_after_unfreezing, r2_after_unfreezing_tr, \\\n",
    "    r2_after_unfreezing_ap, r2_after_unfreezing_ap_tr, \\\n",
    "    r2_freeze_unfreeze_hist, r2_freeze_unfreeze_hist_tr = pickle.load(f)"
   ]
  },
  {
   "cell_type": "code",
   "execution_count": 64,
   "metadata": {},
   "outputs": [],
   "source": [
    "with open('KerasSavedModels/gouwens_2020_tf2/Bottleneck_r2_pre_tr_and_freeze_unfreeze_lasso_nb.pickle', 'rb') as f:\n",
    "    r2_before_unfreezing_nb, r2_before_unfreezing_tr_nb, \\\n",
    "    r2_after_unfreezing_nb, r2_after_unfreezing_tr_nb, \\\n",
    "    r2_after_unfreezing_ap_nb, r2_after_unfreezing_ap_tr_nb, \\\n",
    "    r2_freeze_unfreeze_hist_nb, r2_freeze_unfreeze_hist_tr_nb = pickle.load(f)"
   ]
  },
  {
   "cell_type": "code",
   "execution_count": 65,
   "metadata": {},
   "outputs": [],
   "source": [
    "# Select closest to 25 genes value\n",
    "# suppressing \"mean of empty slice\" warnings\n",
    "with warnings.catch_warnings():\n",
    "    warnings.simplefilter(\"ignore\", category=RuntimeWarning)\n",
    "    n_rank2 = np.nanmean(nonzero_rank2, axis=0)[0, :]\n",
    "    r_rank2_r = np.nanmean(r2_sRRR_relaxed_rank2, axis=0)[0, :]\n",
    "    n_rank16 = np.nanmean(nonzero_rank16, axis=0)[0, :]\n",
    "    r_rank16_r = np.nanmean(r2_sRRR_relaxed_rank16, axis=0)[0, :]"
   ]
  },
  {
   "cell_type": "code",
   "execution_count": 90,
   "metadata": {},
   "outputs": [
    {
     "name": "stdout",
     "output_type": "stream",
     "text": [
      "0.24761962866026271 +/- 0.011715595929091108\n"
     ]
    }
   ],
   "source": [
    "print(r_rank16_r[np.isclose(n_rank16, 25, atol=4)][0], '+/-',\n",
    "      np.nanstd(r2_sRRR_relaxed_rank16, axis=0)[0, :][np.isclose(n_rank16, 25, atol=4)][0])"
   ]
  },
  {
   "cell_type": "code",
   "execution_count": 91,
   "metadata": {},
   "outputs": [
    {
     "name": "stdout",
     "output_type": "stream",
     "text": [
      "0.18829585093268397 +/- 0.009288457086591801\n"
     ]
    }
   ],
   "source": [
    "print(r_rank2_r[np.isclose(n_rank2, 25, atol=3)][0], '+/-',\n",
    "      np.nanstd(r2_sRRR_relaxed_rank2, axis=0)[0, :][np.isclose(n_rank2, 25, atol=3)][0])"
   ]
  },
  {
   "cell_type": "code",
   "execution_count": 92,
   "metadata": {},
   "outputs": [
    {
     "name": "stdout",
     "output_type": "stream",
     "text": [
      "0.25857545584440234 +/- 0.007040787308353427\n"
     ]
    }
   ],
   "source": [
    "print(np.mean(r2_freeze_unfreeze_hist,axis=0)[2,0,-1], '+/-', np.std(r2_freeze_unfreeze_hist,axis=0)[2,0,-1])"
   ]
  },
  {
   "cell_type": "code",
   "execution_count": 93,
   "metadata": {},
   "outputs": [
    {
     "name": "stdout",
     "output_type": "stream",
     "text": [
      "0.29430432617664337 +/- 0.011594687315800037\n"
     ]
    }
   ],
   "source": [
    "print(np.mean(r2_freeze_unfreeze_hist_nb,axis=0)[2,0,-1], '+/-', np.std(r2_freeze_unfreeze_hist_nb,axis=0)[2,0,-1])"
   ]
  },
  {
   "cell_type": "code",
   "execution_count": 94,
   "metadata": {},
   "outputs": [
    {
     "name": "stdout",
     "output_type": "stream",
     "text": [
      "0.24564503878355026 +/- 0.01276959361794653\n"
     ]
    }
   ],
   "source": [
    "print(np.mean(r2_straight_regr_hist,axis=0)[0,0,-1], '+/-', np.std(r2_straight_regr_hist,axis=0)[0,0,-1])"
   ]
  },
  {
   "cell_type": "code",
   "execution_count": 95,
   "metadata": {},
   "outputs": [
    {
     "name": "stdout",
     "output_type": "stream",
     "text": [
      "0.2936120629310608 +/- 0.013189626275479796\n"
     ]
    }
   ],
   "source": [
    "print(np.mean(r2_straight_regr_hist_nb,axis=0)[0,0,-1], '+/-', np.std(r2_straight_regr_hist_nb,axis=0)[0,0,-1])"
   ]
  },
  {
   "cell_type": "code",
   "execution_count": 96,
   "metadata": {},
   "outputs": [
    {
     "data": {
      "image/png": "[encoded data removed]",
      "text/plain": [
       "<Figure size 1368x324 with 3 Axes>"
      ]
     },
     "metadata": {},
     "output_type": "display_data"
    }
   ],
   "source": [
    "# All together in one plot\n",
    "linewidth = 2\n",
    "sns_styleset()\n",
    "\n",
    "# suppressing \"mean of empty slice\" warnings\n",
    "with warnings.catch_warnings():\n",
    "    warnings.simplefilter(\"ignore\", category=RuntimeWarning)\n",
    "    n_rank2 = np.nanmean(nonzero_rank2, axis=0)[0, :]\n",
    "    r_rank2_r = np.nanmean(r2_sRRR_relaxed_rank2, axis=0)[0, :]\n",
    "    n_rank16 = np.nanmean(nonzero_rank16, axis=0)[0, :]\n",
    "    r_rank16_r = np.nanmean(r2_sRRR_relaxed_rank16, axis=0)[0, :]\n",
    "\n",
    "# All together in one plot for the paper\n",
    "fig = plt.figure(figsize=(19, 4.5))\n",
    "widths = [1, 1, 2]\n",
    "heights = [1]\n",
    "spec = fig.add_gridspec(ncols=3, nrows=1, width_ratios=widths,\n",
    "                          height_ratios=heights)\n",
    "ax1 = fig.add_subplot(spec[0, 0])\n",
    "ax1.plot(n_rank2, r_rank2_r, '.-', c = np.array([0, 0, 0])/256, linewidth=2)\n",
    "ax1.plot(n_rank16[1:], r_rank16_r[1:], '.-', c = np.array([0, 0, 0]) / 256, linewidth=2)\n",
    "ax1.set_ylim([0.1,0.32])\n",
    "ax1.set_xlabel('Number of selected genes', fontsize = 17)\n",
    "ax1.set_ylabel(r'Cross validated $R^2$', fontsize = 17)\n",
    "ax1.set_title('sRRR', fontsize = 20, y=1.02)\n",
    "ax1.tick_params(axis='both', which='major', labelsize=15)\n",
    "ax1.tick_params(axis='both', which='minor', labelsize=15)\n",
    "ax1.vlines(x=25, ymin=ax1.get_ylim()[0], ymax=ax1.get_ylim()[1], linestyles='dashed')\n",
    "ax1.annotate('sRRR, r=55', (20, np.max(r_rank16_r)-0.02), fontsize=15)\n",
    "ax1.annotate('sRRR, r=2', (20, np.max(r_rank2_r)+0.005), fontsize=15)\n",
    "\n",
    "\n",
    "ax2 = fig.add_subplot(spec[0, 1])\n",
    "ax2.plot(range(50), np.mean(pre_tr_hist, axis=(0, 2))[2, :], \\\n",
    "         c = '#1b9e77', linewidth=linewidth, label='sBNN-2')\n",
    "# ax2.plot(range(50), np.mean(pre_tr_hist_tr, axis=(0, 2))[2, :], \\\n",
    "#          '.-', c = '#1b9e77', linewidth=linewidth, label='2D bottleneck, training')\n",
    "ax2.plot(range(50), np.mean(pre_tr_hist_nb, axis=(0, 2))[2, :], \\\n",
    "         c = '#d95f02', linewidth=linewidth, label='sBNN-64')\n",
    "# ax2.plot(range(50), np.mean(pre_tr_hist_tr_nb, axis=(0, 2))[2, :], \\\n",
    "#          '.-', c = '#d95f02', linewidth=linewidth, label='64D bottleneck, training')\n",
    "ax2.set_title('Pretraining', fontsize = 19, y=1.02)\n",
    "ax2.set_xlabel('Epoch', fontsize = 17)\n",
    "ax2.set_ylabel('Cross entropy loss', fontsize = 17)\n",
    "ax2.tick_params(axis='both', which='major', labelsize=15)\n",
    "ax2.tick_params(axis='both', which='minor', labelsize=15)\n",
    "# ax2.annotate('Training', (35, 1.65), fontsize=15)\n",
    "# ax2.annotate('Validation', (34, 1.95), fontsize=15)\n",
    "ax2.legend(loc='best', fontsize=12)\n",
    "\n",
    "epochs_used=200\n",
    "ax3 = fig.add_subplot(spec[0, 2])\n",
    "ax3.plot(range(epochs_used), np.mean(r2_freeze_unfreeze_hist, axis=(0))[2,0,:], \\\n",
    "        c='#1b9e77', linewidth=linewidth, label='Pre-training, sBNN-2')\n",
    "ax3.plot(range(epochs_used), np.mean(r2_freeze_unfreeze_hist_nb, axis=(0))[2,0,:], \\\n",
    "        c='#d95f02', linewidth=linewidth, label='Pre-training, sBNN-64')\n",
    "ax3.plot(range(epochs_used), np.mean(r2_straight_regr_hist, axis=(0))[0,0,:], \\\n",
    "        '--', c='#1b9e77', linewidth=linewidth, label='No pre-training, sBNN-2')\n",
    "ax3.plot(range(epochs_used), np.mean(r2_straight_regr_hist_nb, axis=(0))[0,0,:], \\\n",
    "        '--', c='#d95f02', linewidth=linewidth, label='No pre-training, sBNN-64')\n",
    "ax3.hlines(r_rank16_r[np.isclose(n_rank16, 25, atol=3)], xmin = 0, xmax = epochs_used, \\\n",
    "            colors = np.array([0, 0, 0])/256, linewidth=linewidth)\n",
    "ax3.hlines(r_rank2_r[np.isclose(n_rank2, 25, atol=3)], xmin = 0, xmax = epochs_used, \\\n",
    "            colors = np.array([0, 0, 0])/256, linewidth=linewidth)\n",
    "ax3.set_ylim([0.1,0.32])\n",
    "ax3.set_xlim([0,200])\n",
    "ax3.set_xticks(np.arange(0, 225, 25))\n",
    "ax3.annotate('sRRR, r=55', (178, r_rank16_r[np.isclose(n_rank16, 25, atol=4)][0]-0.02), fontsize=15)\n",
    "ax3.annotate('sRRR, r=2', (178, r_rank2_r[np.isclose(n_rank2, 25, atol=2)][0]+0.003), fontsize=15)\n",
    "ax3.set_title('sBNN', fontsize = 19, y=1.02)\n",
    "ax3.set_xlabel('Epoch', fontsize = 17)\n",
    "ax3.set_ylabel(r'Cross validated $R^2$', fontsize = 17)\n",
    "ax3.tick_params(axis='both', which='major', labelsize=15)\n",
    "ax3.tick_params(axis='both', which='minor', labelsize=15)\n",
    "ax3.legend(loc='lower right', fontsize=12)\n",
    "ax3.vlines(x=50, ymin=ax3.get_ylim()[0], ymax=ax3.get_ylim()[1], linestyles='dashed')\n",
    "ax3.vlines(x=100, ymin=ax3.get_ylim()[0], ymax=ax3.get_ylim()[1], linestyles='dashed')\n",
    "\n",
    "plt.text(-0.25, 1.04, 'a', transform = ax1.transAxes, fontsize=25, fontweight='bold')\n",
    "plt.text(-0.11, 1.04, 'b', transform = ax2.transAxes, fontsize=25, fontweight='bold')\n",
    "plt.text(-0.13, 1.04, 'c', transform = ax3.transAxes, fontsize=25, fontweight='bold')\n",
    "sns.despine()\n",
    "\n",
    "plt.savefig('figures/Allen_lasso_training_curves_w_no_bottleneck.pdf', bbox_inches='tight',\n",
    "    pad_inches=0.1)\n",
    "plt.savefig('figures/Allen_lasso_training_curves_w_no_bottleneck.png', bbox_inches='tight',\n",
    "    pad_inches=0.1)"
   ]
  }
 ],
 "metadata": {
  "kernelspec": {
   "display_name": "Python 3",
   "language": "python",
   "name": "python3"
  },
  "language_info": {
   "codemirror_mode": {
    "name": "ipython",
    "version": 3
   },
   "file_extension": ".py",
   "mimetype": "text/x-python",
   "name": "python",
   "nbconvert_exporter": "python",
   "pygments_lexer": "ipython3",
   "version": "3.7.5"
  },
  "varInspector": {
   "cols": {
    "lenName": 16,
    "lenType": 16,
    "lenVar": 40
   },
   "kernels_config": {
    "python": {
     "delete_cmd_postfix": "",
     "delete_cmd_prefix": "del ",
     "library": "var_list.py",
     "varRefreshCmd": "print(var_dic_list())"
    },
    "r": {
     "delete_cmd_postfix": ") ",
     "delete_cmd_prefix": "rm(",
     "library": "var_list.r",
     "varRefreshCmd": "cat(var_dic_list()) "
    }
   },
   "types_to_exclude": [
    "module",
    "function",
    "builtin_function_or_method",
    "instance",
    "_Feature"
   ],
   "window_display": false
  }
 },
 "nbformat": 4,
 "nbformat_minor": 2
}
